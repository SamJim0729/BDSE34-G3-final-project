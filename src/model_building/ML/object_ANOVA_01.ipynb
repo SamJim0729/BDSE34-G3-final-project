{
  "nbformat": 4,
  "nbformat_minor": 0,
  "metadata": {
    "colab": {
      "provenance": [],
      "collapsed_sections": [
        "2xN7AviIn3Pe"
      ],
      "machine_shape": "hm"
    },
    "kernelspec": {
      "name": "python3",
      "display_name": "Python 3"
    },
    "language_info": {
      "name": "python"
    }
  },
  "cells": [
    {
      "cell_type": "code",
      "execution_count": null,
      "metadata": {
        "id": "7QYwLa-SFcBb"
      },
      "outputs": [],
      "source": [
        "import pandas as pd\n",
        "import scipy.stats as stats\n",
        "import statsmodels.api as sm\n",
        "from statsmodels.formula.api import ols"
      ]
    },
    {
      "cell_type": "code",
      "source": [
        "from google.colab import drive\n",
        "drive.mount('/content/drive')"
      ],
      "metadata": {
        "id": "kHa78_fnfftp",
        "colab": {
          "base_uri": "https://localhost:8080/"
        },
        "outputId": "fade810c-d82c-475f-ace9-d4a8e3648e9a"
      },
      "execution_count": null,
      "outputs": [
        {
          "output_type": "stream",
          "name": "stdout",
          "text": [
            "Mounted at /content/drive\n"
          ]
        }
      ]
    },
    {
      "cell_type": "code",
      "source": [
        "df = pd.read_csv('/content/drive/MyDrive/Colab Notebooks/re_clean_data_low_var_ok.csv')"
      ],
      "metadata": {
        "id": "dsJDaj_IeZak"
      },
      "execution_count": null,
      "outputs": []
    },
    {
      "cell_type": "markdown",
      "source": [
        "> **P - Values**\n",
        "\n",
        "> 越顯著，越有差異\n",
        "\n",
        "> 越不顯著，越沒有差異"
      ],
      "metadata": {
        "id": "-tsbh4g0Cs5X"
      }
    },
    {
      "cell_type": "markdown",
      "source": [
        "# 自定義\n",
        "\n",
        "> one_way_anova\n",
        "\n",
        "> independent_t_test"
      ],
      "metadata": {
        "id": "-giOGFVWxWjM"
      }
    },
    {
      "cell_type": "code",
      "source": [
        "def one_way_anova(df, column, target):\n",
        "\n",
        "  # 使用普通最小二乘法構建線性模型，公式格式為 'target ~ C(column)'，其中 C(column) 表示 column 是類別變量\n",
        "  model = ols(f'{target} ~ C({column})', data=df).fit()\n",
        "\n",
        "  # 使用 sm.stats.anova_lm 對模型進行 ANOVA 分析，typ=2 表示使用第二類型的 ANOVA\n",
        "  anova_table = sm.stats.anova_lm(model, typ=2)\n",
        "\n",
        "  # 返回 ANOVA 表格\n",
        "  return anova_table\n"
      ],
      "metadata": {
        "id": "U7dE-gHjeZdd"
      },
      "execution_count": null,
      "outputs": []
    },
    {
      "cell_type": "code",
      "source": [
        "def independent_t_test(df, column, target, group1, group2):\n",
        "\n",
        "  # 從數據框中篩選出 column 等於 group1 的行，並提取 target 列的值\n",
        "  group1_data = df[df[column] == group1][target]\n",
        "\n",
        "  # 從數據框中篩選出 column 等於 group2 的行，並提取 target 列的值\n",
        "  group2_data = df[df[column] == group2][target]\n",
        "\n",
        "  # 使用 stats.ttest_ind 進行獨立樣本 t 檢驗，返回 t 統計量和 p 值\n",
        "  t_stat, p_val = stats.ttest_ind(group1_data, group2_data)\n",
        "\n",
        "  # 返回 t 統計量和 p 值\n",
        "  return t_stat, p_val"
      ],
      "metadata": {
        "id": "zSK1kCF9eZfz"
      },
      "execution_count": null,
      "outputs": []
    },
    {
      "cell_type": "code",
      "source": [
        "df.info(max_cols=125)"
      ],
      "metadata": {
        "id": "KDhkfXHdeZkj",
        "colab": {
          "base_uri": "https://localhost:8080/"
        },
        "outputId": "d615932a-e6fa-4280-a72e-869d12005236"
      },
      "execution_count": null,
      "outputs": [
        {
          "output_type": "stream",
          "name": "stdout",
          "text": [
            "<class 'pandas.core.frame.DataFrame'>\n",
            "RangeIndex: 804044 entries, 0 to 804043\n",
            "Data columns (total 125 columns):\n",
            " #    Column                                Non-Null Count   Dtype   \n",
            "---   ------                                --------------   -----   \n",
            " 0    usage_category                        778693 non-null  object  \n",
            " 1    address                               804044 non-null  object  \n",
            " 2    property_type                         804044 non-null  object  \n",
            " 3    community_name                        804044 non-null  int64   \n",
            " 4    main_building_ratio                   748917 non-null  float64 \n",
            " 5    city                                  804044 non-null  object  \n",
            " 6    parking_space_price                   189755 non-null  float64 \n",
            " 7    transaction_date                      804044 non-null  object  \n",
            " 8    elevator_available                    804044 non-null  int64   \n",
            " 9    building_age                          610171 non-null  float64 \n",
            " 10   number_of_land                        804044 non-null  int64   \n",
            " 11   number_of_building                    804044 non-null  int64   \n",
            " 12   number_of_parking_space               804044 non-null  int64   \n",
            " 13   latitude                              804044 non-null  float64 \n",
            " 14   longitude                             804044 non-null  float64 \n",
            " 15   management_org_available              804044 non-null  int64   \n",
            " 16   per_ping_calculation_method           804044 non-null  object  \n",
            " 17   note                                  341405 non-null  object  \n",
            " 18   price_per_ping                        777775 non-null  float64 \n",
            " 19   detailed_usage_classification         802127 non-null  object  \n",
            " 20   total_area_ping                       804044 non-null  float64 \n",
            " 21   property_b_l_p_type                   804044 non-null  object  \n",
            " 22   district                              804044 non-null  object  \n",
            " 23   total_price                           804044 non-null  int64   \n",
            " 24   total_floors                          802391 non-null  float64 \n",
            " 25   target_floor                          801354 non-null  float64 \n",
            " 26   transaction_floors                    802622 non-null  float64 \n",
            " 27   bedrooms                              748956 non-null  float64 \n",
            " 28   living_rooms                          748956 non-null  float64 \n",
            " 29   bathrooms                             748956 non-null  float64 \n",
            " 30   cor                                   804044 non-null  object  \n",
            " 31   year_month_for_combine                804044 non-null  object  \n",
            " 32   date                                  804044 non-null  object  \n",
            " 33   EA1101                                804044 non-null  float64 \n",
            " 34   EB0312                                804044 non-null  float64 \n",
            " 35   EB0911                                804044 non-null  float64 \n",
            " 36   EB18                                  804044 non-null  float64 \n",
            " 37   EB21                                  804044 non-null  float64 \n",
            " 38   EB22                                  804044 non-null  float64 \n",
            " 39   EC06                                  804044 non-null  float64 \n",
            " 40   EC07                                  804044 non-null  float64 \n",
            " 41   LA07                                  804044 non-null  float64 \n",
            " 42   MA1501                                804044 non-null  float64 \n",
            " 43   MB65                                  804044 non-null  float64 \n",
            " 44   MC31                                  804044 non-null  float64 \n",
            " 45   MC31G                                 804044 non-null  float64 \n",
            " 46   MC36                                  804044 non-null  float64 \n",
            " 47   MC36G                                 804044 non-null  float64 \n",
            " 48   MO30                                  804044 non-null  float64 \n",
            " 49   MP101G                                804044 non-null  float64 \n",
            " 50   NA0101                                804044 non-null  float64 \n",
            " 51   NA1005                                791467 non-null  float64 \n",
            " 52   NB0101                                804044 non-null  float64 \n",
            " 53   NC0117                                804044 non-null  float64 \n",
            " 54   NC0118                                804044 non-null  float64 \n",
            " 55   NE0206                                804044 non-null  float64 \n",
            " 56   NE0812                                804044 non-null  float64 \n",
            " 57   OC08G                                 804044 non-null  float64 \n",
            " 58   PA0120                                804044 non-null  float64 \n",
            " 59   PA1205                                804044 non-null  float64 \n",
            " 60   PE0503                                804044 non-null  float64 \n",
            " 61   TSE收盤                                 804044 non-null  float64 \n",
            " 62   水泥(TSE11)收盤                           804044 non-null  float64 \n",
            " 63   建材營造(TSE25)收盤                         804044 non-null  float64 \n",
            " 64   航運業(TSE26)收盤                          804044 non-null  float64 \n",
            " 65   鋼鐵(TSE20)收盤                           804044 non-null  float64 \n",
            " 66   倫敦鋁現貨價                                804044 non-null  float64 \n",
            " 67   倫敦高級銅極現貨價                             804044 non-null  float64 \n",
            " 68   巴拿馬型貨櫃運費指數                            804044 non-null  float64 \n",
            " 69   杜拜輕原油現貨價                              804044 non-null  float64 \n",
            " 70   水泥50kg北區台泥                            804044 non-null  float64 \n",
            " 71   無鉛汽油95                                804044 non-null  float64 \n",
            " 72   竹節鋼筋_南                                804044 non-null  float64 \n",
            " 73   預拌混凝土3000磅台北                          804044 non-null  float64 \n",
            " 74   new_per_ping                          804044 non-null  float64 \n",
            " 75   per_ping_bar                          804044 non-null  int64   \n",
            " 76   year                                  804044 non-null  int64   \n",
            " 77   month                                 804044 non-null  int64   \n",
            " 78   have_elevator                         804044 non-null  int64   \n",
            " 79   have_elevator_f                       804044 non-null  int64   \n",
            " 80   Public_Activity_Space_under_250_m     804044 non-null  float64 \n",
            " 81   MRT_Exit_under_250_m                  804044 non-null  float64 \n",
            " 82   Religious_Site_under_250_m            804044 non-null  float64 \n",
            " 83   School_under_250_m                    804044 non-null  float64 \n",
            " 84   Hospital_under_250_m                  804044 non-null  float64 \n",
            " 85   Kindergarten_under_250_m              804044 non-null  float64 \n",
            " 86   Daycare_Center_under_250_m            804044 non-null  float64 \n",
            " 87   Convenience_Store_under_250_m         804044 non-null  float64 \n",
            " 88   Bank_under_250_m                      804044 non-null  float64 \n",
            " 89   Clinic_under_250_m                    804044 non-null  float64 \n",
            " 90   Pharmacy_under_250_m                  804044 non-null  float64 \n",
            " 91   acc_Public_Activity_Space_under_500m  804044 non-null  float64 \n",
            " 92   acc_Public_Activity_Space_under_750m  804044 non-null  float64 \n",
            " 93   acc_MRT_Exit_under_500m               804044 non-null  float64 \n",
            " 94   acc_MRT_Exit_under_750m               804044 non-null  float64 \n",
            " 95   acc_Religious_Site_under_500m         804044 non-null  float64 \n",
            " 96   acc_Religious_Site_under_750m         804044 non-null  float64 \n",
            " 97   acc_Fire_Department_under_750m        804044 non-null  float64 \n",
            " 98   acc_Shopping_Area_under_500m          804044 non-null  float64 \n",
            " 99   acc_Shopping_Area_under_750m          804044 non-null  float64 \n",
            " 100  acc_School_under_500m                 804044 non-null  float64 \n",
            " 101  acc_School_under_750m                 804044 non-null  float64 \n",
            " 102  acc_Art_Culture_under_750m            804044 non-null  float64 \n",
            " 103  acc_Hospital_under_500m               804044 non-null  float64 \n",
            " 104  acc_Hospital_under_750m               804044 non-null  float64 \n",
            " 105  acc_Gas_Station_under_500m            804044 non-null  float64 \n",
            " 106  acc_Gas_Station_under_750m            804044 non-null  float64 \n",
            " 107  acc_Kindergarten_under_500m           804044 non-null  float64 \n",
            " 108  acc_Kindergarten_under_750m           804044 non-null  float64 \n",
            " 109  acc_Daycare_Center_under_500m         804044 non-null  float64 \n",
            " 110  acc_Daycare_Center_under_750m         804044 non-null  float64 \n",
            " 111  acc_Convenience_Store_under_500m      804044 non-null  float64 \n",
            " 112  acc_Convenience_Store_under_750m      804044 non-null  float64 \n",
            " 113  acc_Bank_under_500m                   804044 non-null  float64 \n",
            " 114  acc_Bank_under_750m                   804044 non-null  float64 \n",
            " 115  acc_Police_Station_under_500m         804044 non-null  float64 \n",
            " 116  acc_Police_Station_under_750m         804044 non-null  float64 \n",
            " 117  acc_Clinic_under_500m                 804044 non-null  float64 \n",
            " 118  acc_Clinic_under_750m                 804044 non-null  float64 \n",
            " 119  acc_Pharmacy_under_500m               804044 non-null  float64 \n",
            " 120  acc_Pharmacy_under_750m               804044 non-null  float64 \n",
            " 121  acc_Medical_Facility_under_500m       804044 non-null  float64 \n",
            " 122  acc_Medical_Facility_under_750m       804044 non-null  float64 \n",
            " 123  building_age_group                    610171 non-null  category\n",
            " 124  usage_group                           804044 non-null  object  \n",
            "dtypes: category(1), float64(98), int64(12), object(14)\n",
            "memory usage: 761.4+ MB\n"
          ]
        }
      ]
    },
    {
      "cell_type": "code",
      "source": [
        "# 找出類別型變量\n",
        "categorical_cols = df.select_dtypes(include=['object']).columns"
      ],
      "metadata": {
        "id": "mMVoYn_QeZx7"
      },
      "execution_count": null,
      "outputs": []
    },
    {
      "cell_type": "code",
      "source": [
        "categorical_cols.size"
      ],
      "metadata": {
        "id": "wxlx1viEeZ0l",
        "colab": {
          "base_uri": "https://localhost:8080/"
        },
        "outputId": "952326c1-4eac-4d87-dacf-f9b04cd6c720"
      },
      "execution_count": null,
      "outputs": [
        {
          "output_type": "execute_result",
          "data": {
            "text/plain": [
              "13"
            ]
          },
          "metadata": {},
          "execution_count": 8
        }
      ]
    },
    {
      "cell_type": "code",
      "source": [
        "categorical_cols"
      ],
      "metadata": {
        "id": "QWlcBf-eeZ29",
        "colab": {
          "base_uri": "https://localhost:8080/"
        },
        "outputId": "9a616244-45e2-4157-a5bd-baa48339fba3"
      },
      "execution_count": null,
      "outputs": [
        {
          "output_type": "execute_result",
          "data": {
            "text/plain": [
              "Index(['usage_category', 'address', 'property_type', 'city',\n",
              "       'transaction_date', 'per_ping_calculation_method', 'note',\n",
              "       'detailed_usage_classification', 'property_b_l_p_type', 'district',\n",
              "       'cor', 'year_month_for_combine', 'date'],\n",
              "      dtype='object')"
            ]
          },
          "metadata": {},
          "execution_count": 9
        }
      ]
    },
    {
      "cell_type": "markdown",
      "source": [
        "1. usage_category\n",
        "2. address\n",
        "3. property_type\n",
        "4. city\n",
        "5. transaction_date\n",
        "6. per_ping_calculation_method\n",
        "7. note\n",
        "8. detailed_usage_classification\n",
        "9. property_b_l_p_type\n",
        "10. district\n",
        "11. cor\n",
        "      "
      ],
      "metadata": {
        "id": "ZUB5Rz8HhTP7"
      }
    },
    {
      "cell_type": "code",
      "source": [
        "# 選擇並顯示這些類別型變量的內容\n",
        "categorical_df = df[categorical_cols]\n",
        "categorical_df.head(1)"
      ],
      "metadata": {
        "id": "e86WZb3Ujacn",
        "colab": {
          "base_uri": "https://localhost:8080/",
          "height": 292
        },
        "collapsed": true,
        "outputId": "77cb0681-2390-4c5e-f2d1-9160ab2a6d5c"
      },
      "execution_count": null,
      "outputs": [
        {
          "output_type": "execute_result",
          "data": {
            "text/plain": [
              "  usage_category                               address property_type city  \\\n",
              "0              住  士林區中社路一段０１１巷００７２號四樓#士林區中社路一段１１巷７２號四樓  公寓(5樓含以下無電梯)    A   \n",
              "\n",
              "  transaction_date per_ping_calculation_method note  \\\n",
              "0       2016-12-08                      總價/總面積  NaN   \n",
              "\n",
              "  detailed_usage_classification property_b_l_p_type district  \\\n",
              "0                           住家用           房地(土地+建物)      A15   \n",
              "\n",
              "                                       cor year_month_for_combine        date  \n",
              "0  (25.109841388999303, 121.5623636414188)             2016-12-01  2016-12-31  "
            ],
            "text/html": [
              "\n",
              "  <div id=\"df-0e604050-03dc-4beb-b096-a15e218bde5a\" class=\"colab-df-container\">\n",
              "    <div>\n",
              "<style scoped>\n",
              "    .dataframe tbody tr th:only-of-type {\n",
              "        vertical-align: middle;\n",
              "    }\n",
              "\n",
              "    .dataframe tbody tr th {\n",
              "        vertical-align: top;\n",
              "    }\n",
              "\n",
              "    .dataframe thead th {\n",
              "        text-align: right;\n",
              "    }\n",
              "</style>\n",
              "<table border=\"1\" class=\"dataframe\">\n",
              "  <thead>\n",
              "    <tr style=\"text-align: right;\">\n",
              "      <th></th>\n",
              "      <th>usage_category</th>\n",
              "      <th>address</th>\n",
              "      <th>property_type</th>\n",
              "      <th>city</th>\n",
              "      <th>transaction_date</th>\n",
              "      <th>per_ping_calculation_method</th>\n",
              "      <th>note</th>\n",
              "      <th>detailed_usage_classification</th>\n",
              "      <th>property_b_l_p_type</th>\n",
              "      <th>district</th>\n",
              "      <th>cor</th>\n",
              "      <th>year_month_for_combine</th>\n",
              "      <th>date</th>\n",
              "    </tr>\n",
              "  </thead>\n",
              "  <tbody>\n",
              "    <tr>\n",
              "      <th>0</th>\n",
              "      <td>住</td>\n",
              "      <td>士林區中社路一段０１１巷００７２號四樓#士林區中社路一段１１巷７２號四樓</td>\n",
              "      <td>公寓(5樓含以下無電梯)</td>\n",
              "      <td>A</td>\n",
              "      <td>2016-12-08</td>\n",
              "      <td>總價/總面積</td>\n",
              "      <td>NaN</td>\n",
              "      <td>住家用</td>\n",
              "      <td>房地(土地+建物)</td>\n",
              "      <td>A15</td>\n",
              "      <td>(25.109841388999303, 121.5623636414188)</td>\n",
              "      <td>2016-12-01</td>\n",
              "      <td>2016-12-31</td>\n",
              "    </tr>\n",
              "  </tbody>\n",
              "</table>\n",
              "</div>\n",
              "    <div class=\"colab-df-buttons\">\n",
              "\n",
              "  <div class=\"colab-df-container\">\n",
              "    <button class=\"colab-df-convert\" onclick=\"convertToInteractive('df-0e604050-03dc-4beb-b096-a15e218bde5a')\"\n",
              "            title=\"Convert this dataframe to an interactive table.\"\n",
              "            style=\"display:none;\">\n",
              "\n",
              "  <svg xmlns=\"http://www.w3.org/2000/svg\" height=\"24px\" viewBox=\"0 -960 960 960\">\n",
              "    <path d=\"M120-120v-720h720v720H120Zm60-500h600v-160H180v160Zm220 220h160v-160H400v160Zm0 220h160v-160H400v160ZM180-400h160v-160H180v160Zm440 0h160v-160H620v160ZM180-180h160v-160H180v160Zm440 0h160v-160H620v160Z\"/>\n",
              "  </svg>\n",
              "    </button>\n",
              "\n",
              "  <style>\n",
              "    .colab-df-container {\n",
              "      display:flex;\n",
              "      gap: 12px;\n",
              "    }\n",
              "\n",
              "    .colab-df-convert {\n",
              "      background-color: #E8F0FE;\n",
              "      border: none;\n",
              "      border-radius: 50%;\n",
              "      cursor: pointer;\n",
              "      display: none;\n",
              "      fill: #1967D2;\n",
              "      height: 32px;\n",
              "      padding: 0 0 0 0;\n",
              "      width: 32px;\n",
              "    }\n",
              "\n",
              "    .colab-df-convert:hover {\n",
              "      background-color: #E2EBFA;\n",
              "      box-shadow: 0px 1px 2px rgba(60, 64, 67, 0.3), 0px 1px 3px 1px rgba(60, 64, 67, 0.15);\n",
              "      fill: #174EA6;\n",
              "    }\n",
              "\n",
              "    .colab-df-buttons div {\n",
              "      margin-bottom: 4px;\n",
              "    }\n",
              "\n",
              "    [theme=dark] .colab-df-convert {\n",
              "      background-color: #3B4455;\n",
              "      fill: #D2E3FC;\n",
              "    }\n",
              "\n",
              "    [theme=dark] .colab-df-convert:hover {\n",
              "      background-color: #434B5C;\n",
              "      box-shadow: 0px 1px 3px 1px rgba(0, 0, 0, 0.15);\n",
              "      filter: drop-shadow(0px 1px 2px rgba(0, 0, 0, 0.3));\n",
              "      fill: #FFFFFF;\n",
              "    }\n",
              "  </style>\n",
              "\n",
              "    <script>\n",
              "      const buttonEl =\n",
              "        document.querySelector('#df-0e604050-03dc-4beb-b096-a15e218bde5a button.colab-df-convert');\n",
              "      buttonEl.style.display =\n",
              "        google.colab.kernel.accessAllowed ? 'block' : 'none';\n",
              "\n",
              "      async function convertToInteractive(key) {\n",
              "        const element = document.querySelector('#df-0e604050-03dc-4beb-b096-a15e218bde5a');\n",
              "        const dataTable =\n",
              "          await google.colab.kernel.invokeFunction('convertToInteractive',\n",
              "                                                    [key], {});\n",
              "        if (!dataTable) return;\n",
              "\n",
              "        const docLinkHtml = 'Like what you see? Visit the ' +\n",
              "          '<a target=\"_blank\" href=https://colab.research.google.com/notebooks/data_table.ipynb>data table notebook</a>'\n",
              "          + ' to learn more about interactive tables.';\n",
              "        element.innerHTML = '';\n",
              "        dataTable['output_type'] = 'display_data';\n",
              "        await google.colab.output.renderOutput(dataTable, element);\n",
              "        const docLink = document.createElement('div');\n",
              "        docLink.innerHTML = docLinkHtml;\n",
              "        element.appendChild(docLink);\n",
              "      }\n",
              "    </script>\n",
              "  </div>\n",
              "\n",
              "\n",
              "    </div>\n",
              "  </div>\n"
            ],
            "application/vnd.google.colaboratory.intrinsic+json": {
              "type": "dataframe",
              "variable_name": "categorical_df"
            }
          },
          "metadata": {},
          "execution_count": 10
        }
      ]
    },
    {
      "cell_type": "markdown",
      "source": [
        "# building_age_group"
      ],
      "metadata": {
        "id": "2xN7AviIn3Pe"
      }
    },
    {
      "cell_type": "code",
      "source": [
        "df['building_age_group'] = pd.cut(df['building_age'], bins=[0, 10, 20, 30, 40, 50, 60, 70, float('inf')], labels=['0-10年', '10-20年', '20-30年', '30-40年', '40-50年', '50-60年', '60-70年', '大於70年'], right=False)"
      ],
      "metadata": {
        "id": "-mpwNFi0eZnL"
      },
      "execution_count": null,
      "outputs": []
    },
    {
      "cell_type": "code",
      "source": [
        "# 設定Pandas顯示浮點數的格式，這裡設置為顯示6位小數\n",
        "pd.options.display.float_format = '{:.6f}'.format\n",
        "\n",
        "# 將數據框按 'building_age_group' 分組，並提取每組 'new_per_ping' 列的數值\n",
        "grouped = [group['new_per_ping'].values for name, group in df.groupby('building_age_group')]\n",
        "\n",
        "# 使用 Levene's Test 檢查各組別之間的方差齊性\n",
        "levene_stat, levene_p = stats.levene(*grouped)\n",
        "\n",
        "# 打印 Levene's Test 的統計量和 p 值\n",
        "print(f\"Levene's test statistic: {levene_stat:.6f}, p-value: {levene_p:.6f}\")"
      ],
      "metadata": {
        "id": "fLU7MYo5eZ5U",
        "colab": {
          "base_uri": "https://localhost:8080/"
        },
        "outputId": "e3cee18e-b191-4121-b944-837a6b41c754"
      },
      "execution_count": null,
      "outputs": [
        {
          "output_type": "stream",
          "name": "stdout",
          "text": [
            "Levene's test statistic: 635.638912, p-value: 0.000000\n"
          ]
        }
      ]
    },
    {
      "cell_type": "code",
      "source": [
        "# 設置顯示浮點數的格式為小數點後六位\n",
        "pd.options.display.float_format = '{:.6f}'.format\n",
        "\n",
        "# 創建一個空字典來存儲 Shapiro-Wilk 檢驗的結果\n",
        "shapiro_results = {}\n",
        "\n",
        "# 遍歷每個組別，按 'building_age_group' 分組\n",
        "for name, group in df.groupby('building_age_group'):\n",
        "    # 對每個組別中的 'new_per_ping' 列進行 Shapiro-Wilk 檢驗\n",
        "    shapiro_stat, shapiro_p = stats.shapiro(group['new_per_ping'])\n",
        "\n",
        "    # 將檢驗結果存儲在字典中，以組別名稱為鍵\n",
        "    shapiro_results[name] = (shapiro_stat, shapiro_p)\n",
        "\n",
        "    # 打印每個組別的 Shapiro-Wilk 檢驗統計量和 p 值\n",
        "    print(f\"Group {name}: Shapiro-Wilk test statistic: {shapiro_stat:.6f}, p-value: {shapiro_p:.6f}\")"
      ],
      "metadata": {
        "id": "PmSifwR2eZ7I",
        "colab": {
          "base_uri": "https://localhost:8080/"
        },
        "outputId": "704bbe07-467a-4e16-848d-e8a6f67d094c"
      },
      "execution_count": null,
      "outputs": [
        {
          "output_type": "stream",
          "name": "stdout",
          "text": [
            "Group 0-10年: Shapiro-Wilk test statistic: 0.860813, p-value: 0.000000\n",
            "Group 10-20年: Shapiro-Wilk test statistic: 0.879425, p-value: 0.000000\n",
            "Group 20-30年: Shapiro-Wilk test statistic: 0.892739, p-value: 0.000000\n",
            "Group 30-40年: Shapiro-Wilk test statistic: 0.879796, p-value: 0.000000\n",
            "Group 40-50年: Shapiro-Wilk test statistic: 0.845397, p-value: 0.000000\n",
            "Group 50-60年: Shapiro-Wilk test statistic: 0.811487, p-value: 0.000000\n",
            "Group 60-70年: Shapiro-Wilk test statistic: 0.812847, p-value: 0.000000\n",
            "Group 大於70年: Shapiro-Wilk test statistic: 0.845273, p-value: 0.000000\n"
          ]
        },
        {
          "output_type": "stream",
          "name": "stderr",
          "text": [
            "/usr/local/lib/python3.10/dist-packages/scipy/stats/_morestats.py:1882: UserWarning: p-value may not be accurate for N > 5000.\n",
            "  warnings.warn(\"p-value may not be accurate for N > 5000.\")\n"
          ]
        }
      ]
    },
    {
      "cell_type": "code",
      "source": [
        "# 設置顯示浮點數的格式為小數點後六位\n",
        "pd.options.display.float_format = '{:.6f}'.format\n",
        "\n",
        "# 使用 one_way_anova 函數執行 ANOVA 分析\n",
        "anova_results = one_way_anova(df, 'building_age_group', 'new_per_ping')\n",
        "\n",
        "# 打印 ANOVA 結果\n",
        "print(\"ANOVA Results for building_age_group:\\n\", anova_results)"
      ],
      "metadata": {
        "id": "lyC5UpBDm4jI",
        "colab": {
          "base_uri": "https://localhost:8080/"
        },
        "outputId": "0e4397f2-fc64-4a24-cb51-226a50ab30b2"
      },
      "execution_count": null,
      "outputs": [
        {
          "output_type": "stream",
          "name": "stdout",
          "text": [
            "ANOVA Results for building_age_group:\n",
            "                                         sum_sq            df           F  \\\n",
            "C(building_age_group)   981425763744040.125000      7.000000 2724.922381   \n",
            "Residual              31394324811584672.000000 610163.000000         NaN   \n",
            "\n",
            "                        PR(>F)  \n",
            "C(building_age_group) 0.000000  \n",
            "Residual                   NaN  \n"
          ]
        }
      ]
    },
    {
      "cell_type": "markdown",
      "source": [
        ">"
      ],
      "metadata": {
        "id": "-dcMpyvqnvfm"
      }
    },
    {
      "cell_type": "markdown",
      "source": [
        "# detailed_usage_classification"
      ],
      "metadata": {
        "id": "slQdGh0YoIpS"
      }
    },
    {
      "cell_type": "markdown",
      "source": [
        "## 用全部資料分組與分析"
      ],
      "metadata": {
        "id": "xuNalhYDhtZA"
      }
    },
    {
      "cell_type": "code",
      "source": [
        "# 創建一個新的欄位來標記分組\n",
        "df['usage_group'] = df['detailed_usage_classification'].apply(\n",
        "    lambda x: x if x in ['住家用', '住商用'] else '其他'\n",
        ")"
      ],
      "metadata": {
        "id": "tigz5RvNoapB"
      },
      "execution_count": null,
      "outputs": []
    },
    {
      "cell_type": "code",
      "source": [
        "# 設定Pandas顯示浮點數的格式，這裡設置為顯示6位小數\n",
        "pd.options.display.float_format = '{:.6f}'.format\n",
        "\n",
        "# 將數據框按 '住家用', '住商用' 分組，並提取每組 'new_per_ping' 列的數值\n",
        "grouped = [group['new_per_ping'].values for name, group in df.groupby('usage_group')]\n",
        "\n",
        "# 使用 Levene's Test 檢查各組別之間的方差齊性\n",
        "levene_stat, levene_p = stats.levene(*grouped)\n",
        "\n",
        "# 打印 Levene's Test 的統計量和 p 值\n",
        "print(f\"Levene's test statistic: {levene_stat:.6f}, p-value: {levene_p:.6f}\")"
      ],
      "metadata": {
        "colab": {
          "base_uri": "https://localhost:8080/"
        },
        "id": "Co6gH1cZgA6A",
        "outputId": "9588a0da-dd03-4e86-dcb9-96bf59643f80"
      },
      "execution_count": null,
      "outputs": [
        {
          "output_type": "stream",
          "name": "stdout",
          "text": [
            "Levene's test statistic: 3809.467302, p-value: 0.000000\n"
          ]
        }
      ]
    },
    {
      "cell_type": "code",
      "source": [
        "# 設置顯示浮點數的格式為小數點後六位\n",
        "pd.options.display.float_format = '{:.6f}'.format\n",
        "\n",
        "# 創建一個空字典來存儲 Shapiro-Wilk 檢驗的結果\n",
        "shapiro_results = {}\n",
        "\n",
        "# 遍歷每個組別，按 'usage_group' 分組\n",
        "for name, group in df.groupby('usage_group'):\n",
        "    # 對每個組別中的 'new_per_ping' 列進行 Shapiro-Wilk 檢驗\n",
        "    shapiro_stat, shapiro_p = stats.shapiro(group['new_per_ping'])\n",
        "\n",
        "    # 將檢驗結果存儲在字典中，以組別名稱為鍵\n",
        "    shapiro_results[name] = (shapiro_stat, shapiro_p)\n",
        "\n",
        "    # 打印每個組別的 Shapiro-Wilk 檢驗統計量和 p 值\n",
        "    print(f\"Group {name}: Shapiro-Wilk test statistic: {shapiro_stat:.6f}, p-value: {shapiro_p:.6f}\")"
      ],
      "metadata": {
        "id": "o_BpIGAaukNg",
        "colab": {
          "base_uri": "https://localhost:8080/"
        },
        "outputId": "b26e38bb-f06d-46b4-ccf8-769ffcbcfe06"
      },
      "execution_count": null,
      "outputs": [
        {
          "output_type": "stream",
          "name": "stdout",
          "text": [
            "Group 住商用: Shapiro-Wilk test statistic: 0.786369, p-value: 0.000000\n",
            "Group 住家用: Shapiro-Wilk test statistic: 0.865015, p-value: 0.000000\n",
            "Group 其他: Shapiro-Wilk test statistic: 0.823280, p-value: 0.000000\n"
          ]
        },
        {
          "output_type": "stream",
          "name": "stderr",
          "text": [
            "/usr/local/lib/python3.10/dist-packages/scipy/stats/_morestats.py:1882: UserWarning: p-value may not be accurate for N > 5000.\n",
            "  warnings.warn(\"p-value may not be accurate for N > 5000.\")\n"
          ]
        }
      ]
    },
    {
      "cell_type": "markdown",
      "source": [
        "## 篩選兩組 ( 住家用、住商用 ) 資料出來分析"
      ],
      "metadata": {
        "id": "Ug-I7o70hxN5"
      }
    },
    {
      "cell_type": "code",
      "source": [
        "usage_df = df[df['detailed_usage_classification'].isin(['住家用', '住商用'])]"
      ],
      "metadata": {
        "id": "OjzI96YUuiTu"
      },
      "execution_count": null,
      "outputs": []
    },
    {
      "cell_type": "code",
      "source": [
        "# 檢查 detailed_usage_classification 和 usage_group 是否相同\n",
        "usage_df.loc[:, 'is_equal'] = usage_df['detailed_usage_classification'] == usage_df['usage_group']"
      ],
      "metadata": {
        "id": "vPXQGdmhxDyp",
        "colab": {
          "base_uri": "https://localhost:8080/"
        },
        "outputId": "345a1033-6a7d-4a61-e830-9a5b3f423643"
      },
      "execution_count": null,
      "outputs": [
        {
          "output_type": "stream",
          "name": "stderr",
          "text": [
            "<ipython-input-19-325971d5c8c1>:2: SettingWithCopyWarning: \n",
            "A value is trying to be set on a copy of a slice from a DataFrame.\n",
            "Try using .loc[row_indexer,col_indexer] = value instead\n",
            "\n",
            "See the caveats in the documentation: https://pandas.pydata.org/pandas-docs/stable/user_guide/indexing.html#returning-a-view-versus-a-copy\n",
            "  usage_df.loc[:, 'is_equal'] = usage_df['detailed_usage_classification'] == usage_df['usage_group']\n"
          ]
        }
      ]
    },
    {
      "cell_type": "code",
      "source": [
        "# 打印結果\n",
        "print(usage_df[['detailed_usage_classification', 'usage_group', 'is_equal']])"
      ],
      "metadata": {
        "id": "Lt9T0s0Iw180",
        "colab": {
          "base_uri": "https://localhost:8080/"
        },
        "outputId": "9b27ce72-bf69-4d9b-bc59-d704f743fe6f"
      },
      "execution_count": null,
      "outputs": [
        {
          "output_type": "stream",
          "name": "stdout",
          "text": [
            "       detailed_usage_classification usage_group  is_equal\n",
            "0                                住家用         住家用      True\n",
            "1                                住家用         住家用      True\n",
            "2                                住家用         住家用      True\n",
            "3                                住家用         住家用      True\n",
            "4                                住家用         住家用      True\n",
            "...                              ...         ...       ...\n",
            "804039                           住家用         住家用      True\n",
            "804040                           住家用         住家用      True\n",
            "804041                           住家用         住家用      True\n",
            "804042                           住家用         住家用      True\n",
            "804043                           住家用         住家用      True\n",
            "\n",
            "[703406 rows x 3 columns]\n"
          ]
        }
      ]
    },
    {
      "cell_type": "code",
      "source": [
        "# 查看是否有 False 值的行\n",
        "false_rows = usage_df[usage_df['is_equal'] == False]\n",
        "false_rows"
      ],
      "metadata": {
        "id": "aJT6-MCIxViJ",
        "colab": {
          "base_uri": "https://localhost:8080/",
          "height": 109
        },
        "outputId": "b74df5f0-63c2-4cb2-a2b2-e6f0805ea0a0"
      },
      "execution_count": null,
      "outputs": [
        {
          "output_type": "execute_result",
          "data": {
            "text/plain": [
              "Empty DataFrame\n",
              "Columns: [usage_category, address, property_type, community_name, main_building_ratio, city, parking_space_price, transaction_date, elevator_available, building_age, number_of_land, number_of_building, number_of_parking_space, latitude, longitude, management_org_available, per_ping_calculation_method, note, price_per_ping, detailed_usage_classification, total_area_ping, property_b_l_p_type, district, total_price, total_floors, target_floor, transaction_floors, bedrooms, living_rooms, bathrooms, cor, year_month_for_combine, date, EA1101, EB0312, EB0911, EB18, EB21, EB22, EC06, EC07, LA07, MA1501, MB65, MC31, MC31G, MC36, MC36G, MO30, MP101G, NA0101, NA1005, NB0101, NC0117, NC0118, NE0206, NE0812, OC08G, PA0120, PA1205, PE0503, TSE收盤, 水泥(TSE11)收盤, 建材營造(TSE25)收盤, 航運業(TSE26)收盤, 鋼鐵(TSE20)收盤, 倫敦鋁現貨價, 倫敦高級銅極現貨價, 巴拿馬型貨櫃運費指數, 杜拜輕原油現貨價, 水泥50kg北區台泥, 無鉛汽油95, 竹節鋼筋_南, 預拌混凝土3000磅台北, new_per_ping, per_ping_bar, year, month, have_elevator, have_elevator_f, Public_Activity_Space_under_250_m, MRT_Exit_under_250_m, Religious_Site_under_250_m, School_under_250_m, Hospital_under_250_m, Kindergarten_under_250_m, Daycare_Center_under_250_m, Convenience_Store_under_250_m, Bank_under_250_m, Clinic_under_250_m, Pharmacy_under_250_m, acc_Public_Activity_Space_under_500m, acc_Public_Activity_Space_under_750m, acc_MRT_Exit_under_500m, acc_MRT_Exit_under_750m, acc_Religious_Site_under_500m, acc_Religious_Site_under_750m, acc_Fire_Department_under_750m, acc_Shopping_Area_under_500m, acc_Shopping_Area_under_750m, ...]\n",
              "Index: []\n",
              "\n",
              "[0 rows x 126 columns]"
            ],
            "text/html": [
              "\n",
              "  <div id=\"df-7d1dec48-a617-43e4-95bd-b6040f27d838\" class=\"colab-df-container\">\n",
              "    <div>\n",
              "<style scoped>\n",
              "    .dataframe tbody tr th:only-of-type {\n",
              "        vertical-align: middle;\n",
              "    }\n",
              "\n",
              "    .dataframe tbody tr th {\n",
              "        vertical-align: top;\n",
              "    }\n",
              "\n",
              "    .dataframe thead th {\n",
              "        text-align: right;\n",
              "    }\n",
              "</style>\n",
              "<table border=\"1\" class=\"dataframe\">\n",
              "  <thead>\n",
              "    <tr style=\"text-align: right;\">\n",
              "      <th></th>\n",
              "      <th>usage_category</th>\n",
              "      <th>address</th>\n",
              "      <th>property_type</th>\n",
              "      <th>community_name</th>\n",
              "      <th>main_building_ratio</th>\n",
              "      <th>city</th>\n",
              "      <th>parking_space_price</th>\n",
              "      <th>transaction_date</th>\n",
              "      <th>elevator_available</th>\n",
              "      <th>building_age</th>\n",
              "      <th>...</th>\n",
              "      <th>acc_Police_Station_under_750m</th>\n",
              "      <th>acc_Clinic_under_500m</th>\n",
              "      <th>acc_Clinic_under_750m</th>\n",
              "      <th>acc_Pharmacy_under_500m</th>\n",
              "      <th>acc_Pharmacy_under_750m</th>\n",
              "      <th>acc_Medical_Facility_under_500m</th>\n",
              "      <th>acc_Medical_Facility_under_750m</th>\n",
              "      <th>building_age_group</th>\n",
              "      <th>usage_group</th>\n",
              "      <th>is_equal</th>\n",
              "    </tr>\n",
              "  </thead>\n",
              "  <tbody>\n",
              "  </tbody>\n",
              "</table>\n",
              "<p>0 rows × 126 columns</p>\n",
              "</div>\n",
              "    <div class=\"colab-df-buttons\">\n",
              "\n",
              "  <div class=\"colab-df-container\">\n",
              "    <button class=\"colab-df-convert\" onclick=\"convertToInteractive('df-7d1dec48-a617-43e4-95bd-b6040f27d838')\"\n",
              "            title=\"Convert this dataframe to an interactive table.\"\n",
              "            style=\"display:none;\">\n",
              "\n",
              "  <svg xmlns=\"http://www.w3.org/2000/svg\" height=\"24px\" viewBox=\"0 -960 960 960\">\n",
              "    <path d=\"M120-120v-720h720v720H120Zm60-500h600v-160H180v160Zm220 220h160v-160H400v160Zm0 220h160v-160H400v160ZM180-400h160v-160H180v160Zm440 0h160v-160H620v160ZM180-180h160v-160H180v160Zm440 0h160v-160H620v160Z\"/>\n",
              "  </svg>\n",
              "    </button>\n",
              "\n",
              "  <style>\n",
              "    .colab-df-container {\n",
              "      display:flex;\n",
              "      gap: 12px;\n",
              "    }\n",
              "\n",
              "    .colab-df-convert {\n",
              "      background-color: #E8F0FE;\n",
              "      border: none;\n",
              "      border-radius: 50%;\n",
              "      cursor: pointer;\n",
              "      display: none;\n",
              "      fill: #1967D2;\n",
              "      height: 32px;\n",
              "      padding: 0 0 0 0;\n",
              "      width: 32px;\n",
              "    }\n",
              "\n",
              "    .colab-df-convert:hover {\n",
              "      background-color: #E2EBFA;\n",
              "      box-shadow: 0px 1px 2px rgba(60, 64, 67, 0.3), 0px 1px 3px 1px rgba(60, 64, 67, 0.15);\n",
              "      fill: #174EA6;\n",
              "    }\n",
              "\n",
              "    .colab-df-buttons div {\n",
              "      margin-bottom: 4px;\n",
              "    }\n",
              "\n",
              "    [theme=dark] .colab-df-convert {\n",
              "      background-color: #3B4455;\n",
              "      fill: #D2E3FC;\n",
              "    }\n",
              "\n",
              "    [theme=dark] .colab-df-convert:hover {\n",
              "      background-color: #434B5C;\n",
              "      box-shadow: 0px 1px 3px 1px rgba(0, 0, 0, 0.15);\n",
              "      filter: drop-shadow(0px 1px 2px rgba(0, 0, 0, 0.3));\n",
              "      fill: #FFFFFF;\n",
              "    }\n",
              "  </style>\n",
              "\n",
              "    <script>\n",
              "      const buttonEl =\n",
              "        document.querySelector('#df-7d1dec48-a617-43e4-95bd-b6040f27d838 button.colab-df-convert');\n",
              "      buttonEl.style.display =\n",
              "        google.colab.kernel.accessAllowed ? 'block' : 'none';\n",
              "\n",
              "      async function convertToInteractive(key) {\n",
              "        const element = document.querySelector('#df-7d1dec48-a617-43e4-95bd-b6040f27d838');\n",
              "        const dataTable =\n",
              "          await google.colab.kernel.invokeFunction('convertToInteractive',\n",
              "                                                    [key], {});\n",
              "        if (!dataTable) return;\n",
              "\n",
              "        const docLinkHtml = 'Like what you see? Visit the ' +\n",
              "          '<a target=\"_blank\" href=https://colab.research.google.com/notebooks/data_table.ipynb>data table notebook</a>'\n",
              "          + ' to learn more about interactive tables.';\n",
              "        element.innerHTML = '';\n",
              "        dataTable['output_type'] = 'display_data';\n",
              "        await google.colab.output.renderOutput(dataTable, element);\n",
              "        const docLink = document.createElement('div');\n",
              "        docLink.innerHTML = docLinkHtml;\n",
              "        element.appendChild(docLink);\n",
              "      }\n",
              "    </script>\n",
              "  </div>\n",
              "\n",
              "\n",
              "  <div id=\"id_c1b51136-d830-4a3a-a47c-b8305e89c11d\">\n",
              "    <style>\n",
              "      .colab-df-generate {\n",
              "        background-color: #E8F0FE;\n",
              "        border: none;\n",
              "        border-radius: 50%;\n",
              "        cursor: pointer;\n",
              "        display: none;\n",
              "        fill: #1967D2;\n",
              "        height: 32px;\n",
              "        padding: 0 0 0 0;\n",
              "        width: 32px;\n",
              "      }\n",
              "\n",
              "      .colab-df-generate:hover {\n",
              "        background-color: #E2EBFA;\n",
              "        box-shadow: 0px 1px 2px rgba(60, 64, 67, 0.3), 0px 1px 3px 1px rgba(60, 64, 67, 0.15);\n",
              "        fill: #174EA6;\n",
              "      }\n",
              "\n",
              "      [theme=dark] .colab-df-generate {\n",
              "        background-color: #3B4455;\n",
              "        fill: #D2E3FC;\n",
              "      }\n",
              "\n",
              "      [theme=dark] .colab-df-generate:hover {\n",
              "        background-color: #434B5C;\n",
              "        box-shadow: 0px 1px 3px 1px rgba(0, 0, 0, 0.15);\n",
              "        filter: drop-shadow(0px 1px 2px rgba(0, 0, 0, 0.3));\n",
              "        fill: #FFFFFF;\n",
              "      }\n",
              "    </style>\n",
              "    <button class=\"colab-df-generate\" onclick=\"generateWithVariable('false_rows')\"\n",
              "            title=\"Generate code using this dataframe.\"\n",
              "            style=\"display:none;\">\n",
              "\n",
              "  <svg xmlns=\"http://www.w3.org/2000/svg\" height=\"24px\"viewBox=\"0 0 24 24\"\n",
              "       width=\"24px\">\n",
              "    <path d=\"M7,19H8.4L18.45,9,17,7.55,7,17.6ZM5,21V16.75L18.45,3.32a2,2,0,0,1,2.83,0l1.4,1.43a1.91,1.91,0,0,1,.58,1.4,1.91,1.91,0,0,1-.58,1.4L9.25,21ZM18.45,9,17,7.55Zm-12,3A5.31,5.31,0,0,0,4.9,8.1,5.31,5.31,0,0,0,1,6.5,5.31,5.31,0,0,0,4.9,4.9,5.31,5.31,0,0,0,6.5,1,5.31,5.31,0,0,0,8.1,4.9,5.31,5.31,0,0,0,12,6.5,5.46,5.46,0,0,0,6.5,12Z\"/>\n",
              "  </svg>\n",
              "    </button>\n",
              "    <script>\n",
              "      (() => {\n",
              "      const buttonEl =\n",
              "        document.querySelector('#id_c1b51136-d830-4a3a-a47c-b8305e89c11d button.colab-df-generate');\n",
              "      buttonEl.style.display =\n",
              "        google.colab.kernel.accessAllowed ? 'block' : 'none';\n",
              "\n",
              "      buttonEl.onclick = () => {\n",
              "        google.colab.notebook.generateWithVariable('false_rows');\n",
              "      }\n",
              "      })();\n",
              "    </script>\n",
              "  </div>\n",
              "\n",
              "    </div>\n",
              "  </div>\n"
            ],
            "application/vnd.google.colaboratory.intrinsic+json": {
              "type": "dataframe",
              "variable_name": "false_rows"
            }
          },
          "metadata": {},
          "execution_count": 21
        }
      ]
    },
    {
      "cell_type": "markdown",
      "source": [
        ">　**Levene's Test**"
      ],
      "metadata": {
        "id": "fISK7Ik_jICZ"
      }
    },
    {
      "cell_type": "code",
      "source": [
        "import pandas as pd\n",
        "from scipy import stats\n",
        "\n",
        "# 設定Pandas顯示浮點數的格式，這裡設置為顯示6位小數\n",
        "pd.options.display.float_format = '{:.6f}'.format\n",
        "\n",
        "# 過濾出 'detailed_usage_classification' 列值為 '住家用' 和 '住商用' 的資料\n",
        "usage_df = df[df['detailed_usage_classification'].isin(['住家用', '住商用'])]\n",
        "\n",
        "# 將數據框按 'detailed_usage_classification' 分組，並提取每組 'new_per_ping' 列的數值\n",
        "grouped = [group['new_per_ping'].values for name, group in usage_df.groupby('detailed_usage_classification')]\n",
        "\n",
        "# 使用 Levene's Test 檢查各組別之間的方差齊性\n",
        "levene_stat, levene_p = stats.levene(*grouped)\n",
        "\n",
        "# 打印 Levene's Test 的統計量和 p 值\n",
        "print(f\"Levene's test statistic: {levene_stat:.6f}, p-value: {levene_p:.6f}\")"
      ],
      "metadata": {
        "id": "KxdXOf69na-p",
        "colab": {
          "base_uri": "https://localhost:8080/"
        },
        "outputId": "e714e367-8e6c-457d-da8b-9b5e2dadc59a"
      },
      "execution_count": null,
      "outputs": [
        {
          "output_type": "stream",
          "name": "stdout",
          "text": [
            "Levene's test statistic: 943.055394, p-value: 0.000000\n"
          ]
        }
      ]
    },
    {
      "cell_type": "code",
      "source": [
        "usage_df"
      ],
      "metadata": {
        "colab": {
          "base_uri": "https://localhost:8080/",
          "height": 1000
        },
        "collapsed": true,
        "id": "P6TiSbA2ouSJ",
        "outputId": "86376acb-ed65-4c52-a552-ed0604c4f9e3"
      },
      "execution_count": null,
      "outputs": [
        {
          "output_type": "execute_result",
          "data": {
            "text/plain": [
              "       usage_category                                      address  \\\n",
              "0                   住         士林區中社路一段０１１巷００７２號四樓#士林區中社路一段１１巷７２號四樓   \n",
              "1                   住             士林區後港街０２０巷００１８號四樓#士林區後港街２０巷１８號四樓   \n",
              "2                   住       士林區中正路１０４巷００１弄０００２號四樓#士林區中正路１０４巷１弄２號四樓   \n",
              "3                   住  士林區中山北路七段１９０巷００１６之３號７樓#士林區中山北路七段１９０巷１６之３號７樓   \n",
              "4                   住      士林區延平北路五段２８５巷００８９號四樓#士林區延平北路五段２８５巷８９號四樓   \n",
              "...               ...                                          ...   \n",
              "804039              住            三重區仁愛街４４５巷００２６號三樓#三重區仁愛街４４５巷２６號三樓   \n",
              "804040              住                     三重區頂文路０００３號三樓#三重區頂文路３號三樓   \n",
              "804041              住                    三重區富福街００５７號五樓#三重區富福街５７號五樓   \n",
              "804042              住                    三重區頂文路００１１號四樓#三重區頂文路１１號四樓   \n",
              "804043             其他           三重區新北大道一段０１６８號十五樓#三重區新北大道一段１６８號十五樓   \n",
              "\n",
              "          property_type  community_name  main_building_ratio city  \\\n",
              "0          公寓(5樓含以下無電梯)               0           100.000000    A   \n",
              "1          公寓(5樓含以下無電梯)               0            86.100000    A   \n",
              "2         華廈(10層含以下有電梯)               0            49.540000    A   \n",
              "3         華廈(10層含以下有電梯)               1            72.920000    A   \n",
              "4          套房(1房(1廳)1衛)               1            51.190000    A   \n",
              "...                 ...             ...                  ...  ...   \n",
              "804039     公寓(5樓含以下無電梯)               0            74.520000    F   \n",
              "804040  住宅大樓(11層含以上有電梯)               1            56.890000    F   \n",
              "804041     公寓(5樓含以下無電梯)               0            90.520000    F   \n",
              "804042  住宅大樓(11層含以上有電梯)               1            43.840000    F   \n",
              "804043  住宅大樓(11層含以上有電梯)               1            70.900000    F   \n",
              "\n",
              "        parking_space_price transaction_date  elevator_available  \\\n",
              "0                       NaN       2016-12-08                   0   \n",
              "1                       NaN       2016-12-03                   0   \n",
              "2                       NaN       2016-12-02                   0   \n",
              "3                       NaN       2016-12-10                   0   \n",
              "4                       NaN       2016-12-06                   0   \n",
              "...                     ...              ...                 ...   \n",
              "804039                  NaN       2022-01-02                   0   \n",
              "804040                  NaN       2022-01-18                   1   \n",
              "804041                  NaN       2022-01-27                   0   \n",
              "804042           225.000000       2022-01-23                   1   \n",
              "804043                  NaN       2022-01-01                   1   \n",
              "\n",
              "        building_age  ...  acc_Police_Station_under_500m  \\\n",
              "0          41.000000  ...                       1.000000   \n",
              "1          38.000000  ...                       0.000000   \n",
              "2          18.000000  ...                       0.000000   \n",
              "3          29.000000  ...                       1.000000   \n",
              "4                NaN  ...                       0.000000   \n",
              "...              ...  ...                            ...   \n",
              "804039     37.000000  ...                       1.000000   \n",
              "804040           NaN  ...                       0.000000   \n",
              "804041     36.000000  ...                       0.000000   \n",
              "804042           NaN  ...                       0.000000   \n",
              "804043     25.000000  ...                       0.000000   \n",
              "\n",
              "        acc_Police_Station_under_750m  acc_Clinic_under_500m  \\\n",
              "0                            1.000000               0.000000   \n",
              "1                            1.000000              21.000000   \n",
              "2                            1.000000              17.000000   \n",
              "3                            1.000000               6.000000   \n",
              "4                            1.000000              34.000000   \n",
              "...                               ...                    ...   \n",
              "804039                       2.000000              29.000000   \n",
              "804040                       0.000000               0.000000   \n",
              "804041                       2.000000              20.000000   \n",
              "804042                       0.000000               0.000000   \n",
              "804043                       1.000000              18.000000   \n",
              "\n",
              "        acc_Clinic_under_750m  acc_Pharmacy_under_500m  \\\n",
              "0                    0.000000                 0.000000   \n",
              "1                   30.000000                 7.000000   \n",
              "2                   40.000000                 0.000000   \n",
              "3                   13.000000                 2.000000   \n",
              "4                   42.000000                14.000000   \n",
              "...                       ...                      ...   \n",
              "804039              39.000000                15.000000   \n",
              "804040               0.000000                 0.000000   \n",
              "804041              37.000000                 9.000000   \n",
              "804042               0.000000                 0.000000   \n",
              "804043              39.000000                10.000000   \n",
              "\n",
              "        acc_Pharmacy_under_750m acc_Medical_Facility_under_500m  \\\n",
              "0                      0.000000                        0.000000   \n",
              "1                     10.000000                        0.000000   \n",
              "2                      6.000000                        0.000000   \n",
              "3                      2.000000                        0.000000   \n",
              "4                     18.000000                        0.000000   \n",
              "...                         ...                             ...   \n",
              "804039                20.000000                        0.000000   \n",
              "804040                 0.000000                        0.000000   \n",
              "804041                18.000000                        0.000000   \n",
              "804042                 0.000000                        0.000000   \n",
              "804043                15.000000                        0.000000   \n",
              "\n",
              "       acc_Medical_Facility_under_750m  building_age_group usage_group  \n",
              "0                             0.000000              40-50年         住家用  \n",
              "1                             0.000000              30-40年         住家用  \n",
              "2                             0.000000              10-20年         住家用  \n",
              "3                             1.000000              20-30年         住家用  \n",
              "4                             1.000000                 NaN         住家用  \n",
              "...                                ...                 ...         ...  \n",
              "804039                        0.000000              30-40年         住家用  \n",
              "804040                        0.000000                 NaN         住家用  \n",
              "804041                        0.000000              30-40年         住家用  \n",
              "804042                        0.000000                 NaN         住家用  \n",
              "804043                        0.000000              20-30年         住家用  \n",
              "\n",
              "[703406 rows x 125 columns]"
            ],
            "text/html": [
              "\n",
              "  <div id=\"df-ef8ec69d-e26a-4262-bfb1-f224548857ce\" class=\"colab-df-container\">\n",
              "    <div>\n",
              "<style scoped>\n",
              "    .dataframe tbody tr th:only-of-type {\n",
              "        vertical-align: middle;\n",
              "    }\n",
              "\n",
              "    .dataframe tbody tr th {\n",
              "        vertical-align: top;\n",
              "    }\n",
              "\n",
              "    .dataframe thead th {\n",
              "        text-align: right;\n",
              "    }\n",
              "</style>\n",
              "<table border=\"1\" class=\"dataframe\">\n",
              "  <thead>\n",
              "    <tr style=\"text-align: right;\">\n",
              "      <th></th>\n",
              "      <th>usage_category</th>\n",
              "      <th>address</th>\n",
              "      <th>property_type</th>\n",
              "      <th>community_name</th>\n",
              "      <th>main_building_ratio</th>\n",
              "      <th>city</th>\n",
              "      <th>parking_space_price</th>\n",
              "      <th>transaction_date</th>\n",
              "      <th>elevator_available</th>\n",
              "      <th>building_age</th>\n",
              "      <th>...</th>\n",
              "      <th>acc_Police_Station_under_500m</th>\n",
              "      <th>acc_Police_Station_under_750m</th>\n",
              "      <th>acc_Clinic_under_500m</th>\n",
              "      <th>acc_Clinic_under_750m</th>\n",
              "      <th>acc_Pharmacy_under_500m</th>\n",
              "      <th>acc_Pharmacy_under_750m</th>\n",
              "      <th>acc_Medical_Facility_under_500m</th>\n",
              "      <th>acc_Medical_Facility_under_750m</th>\n",
              "      <th>building_age_group</th>\n",
              "      <th>usage_group</th>\n",
              "    </tr>\n",
              "  </thead>\n",
              "  <tbody>\n",
              "    <tr>\n",
              "      <th>0</th>\n",
              "      <td>住</td>\n",
              "      <td>士林區中社路一段０１１巷００７２號四樓#士林區中社路一段１１巷７２號四樓</td>\n",
              "      <td>公寓(5樓含以下無電梯)</td>\n",
              "      <td>0</td>\n",
              "      <td>100.000000</td>\n",
              "      <td>A</td>\n",
              "      <td>NaN</td>\n",
              "      <td>2016-12-08</td>\n",
              "      <td>0</td>\n",
              "      <td>41.000000</td>\n",
              "      <td>...</td>\n",
              "      <td>1.000000</td>\n",
              "      <td>1.000000</td>\n",
              "      <td>0.000000</td>\n",
              "      <td>0.000000</td>\n",
              "      <td>0.000000</td>\n",
              "      <td>0.000000</td>\n",
              "      <td>0.000000</td>\n",
              "      <td>0.000000</td>\n",
              "      <td>40-50年</td>\n",
              "      <td>住家用</td>\n",
              "    </tr>\n",
              "    <tr>\n",
              "      <th>1</th>\n",
              "      <td>住</td>\n",
              "      <td>士林區後港街０２０巷００１８號四樓#士林區後港街２０巷１８號四樓</td>\n",
              "      <td>公寓(5樓含以下無電梯)</td>\n",
              "      <td>0</td>\n",
              "      <td>86.100000</td>\n",
              "      <td>A</td>\n",
              "      <td>NaN</td>\n",
              "      <td>2016-12-03</td>\n",
              "      <td>0</td>\n",
              "      <td>38.000000</td>\n",
              "      <td>...</td>\n",
              "      <td>0.000000</td>\n",
              "      <td>1.000000</td>\n",
              "      <td>21.000000</td>\n",
              "      <td>30.000000</td>\n",
              "      <td>7.000000</td>\n",
              "      <td>10.000000</td>\n",
              "      <td>0.000000</td>\n",
              "      <td>0.000000</td>\n",
              "      <td>30-40年</td>\n",
              "      <td>住家用</td>\n",
              "    </tr>\n",
              "    <tr>\n",
              "      <th>2</th>\n",
              "      <td>住</td>\n",
              "      <td>士林區中正路１０４巷００１弄０００２號四樓#士林區中正路１０４巷１弄２號四樓</td>\n",
              "      <td>華廈(10層含以下有電梯)</td>\n",
              "      <td>0</td>\n",
              "      <td>49.540000</td>\n",
              "      <td>A</td>\n",
              "      <td>NaN</td>\n",
              "      <td>2016-12-02</td>\n",
              "      <td>0</td>\n",
              "      <td>18.000000</td>\n",
              "      <td>...</td>\n",
              "      <td>0.000000</td>\n",
              "      <td>1.000000</td>\n",
              "      <td>17.000000</td>\n",
              "      <td>40.000000</td>\n",
              "      <td>0.000000</td>\n",
              "      <td>6.000000</td>\n",
              "      <td>0.000000</td>\n",
              "      <td>0.000000</td>\n",
              "      <td>10-20年</td>\n",
              "      <td>住家用</td>\n",
              "    </tr>\n",
              "    <tr>\n",
              "      <th>3</th>\n",
              "      <td>住</td>\n",
              "      <td>士林區中山北路七段１９０巷００１６之３號７樓#士林區中山北路七段１９０巷１６之３號７樓</td>\n",
              "      <td>華廈(10層含以下有電梯)</td>\n",
              "      <td>1</td>\n",
              "      <td>72.920000</td>\n",
              "      <td>A</td>\n",
              "      <td>NaN</td>\n",
              "      <td>2016-12-10</td>\n",
              "      <td>0</td>\n",
              "      <td>29.000000</td>\n",
              "      <td>...</td>\n",
              "      <td>1.000000</td>\n",
              "      <td>1.000000</td>\n",
              "      <td>6.000000</td>\n",
              "      <td>13.000000</td>\n",
              "      <td>2.000000</td>\n",
              "      <td>2.000000</td>\n",
              "      <td>0.000000</td>\n",
              "      <td>1.000000</td>\n",
              "      <td>20-30年</td>\n",
              "      <td>住家用</td>\n",
              "    </tr>\n",
              "    <tr>\n",
              "      <th>4</th>\n",
              "      <td>住</td>\n",
              "      <td>士林區延平北路五段２８５巷００８９號四樓#士林區延平北路五段２８５巷８９號四樓</td>\n",
              "      <td>套房(1房(1廳)1衛)</td>\n",
              "      <td>1</td>\n",
              "      <td>51.190000</td>\n",
              "      <td>A</td>\n",
              "      <td>NaN</td>\n",
              "      <td>2016-12-06</td>\n",
              "      <td>0</td>\n",
              "      <td>NaN</td>\n",
              "      <td>...</td>\n",
              "      <td>0.000000</td>\n",
              "      <td>1.000000</td>\n",
              "      <td>34.000000</td>\n",
              "      <td>42.000000</td>\n",
              "      <td>14.000000</td>\n",
              "      <td>18.000000</td>\n",
              "      <td>0.000000</td>\n",
              "      <td>1.000000</td>\n",
              "      <td>NaN</td>\n",
              "      <td>住家用</td>\n",
              "    </tr>\n",
              "    <tr>\n",
              "      <th>...</th>\n",
              "      <td>...</td>\n",
              "      <td>...</td>\n",
              "      <td>...</td>\n",
              "      <td>...</td>\n",
              "      <td>...</td>\n",
              "      <td>...</td>\n",
              "      <td>...</td>\n",
              "      <td>...</td>\n",
              "      <td>...</td>\n",
              "      <td>...</td>\n",
              "      <td>...</td>\n",
              "      <td>...</td>\n",
              "      <td>...</td>\n",
              "      <td>...</td>\n",
              "      <td>...</td>\n",
              "      <td>...</td>\n",
              "      <td>...</td>\n",
              "      <td>...</td>\n",
              "      <td>...</td>\n",
              "      <td>...</td>\n",
              "      <td>...</td>\n",
              "    </tr>\n",
              "    <tr>\n",
              "      <th>804039</th>\n",
              "      <td>住</td>\n",
              "      <td>三重區仁愛街４４５巷００２６號三樓#三重區仁愛街４４５巷２６號三樓</td>\n",
              "      <td>公寓(5樓含以下無電梯)</td>\n",
              "      <td>0</td>\n",
              "      <td>74.520000</td>\n",
              "      <td>F</td>\n",
              "      <td>NaN</td>\n",
              "      <td>2022-01-02</td>\n",
              "      <td>0</td>\n",
              "      <td>37.000000</td>\n",
              "      <td>...</td>\n",
              "      <td>1.000000</td>\n",
              "      <td>2.000000</td>\n",
              "      <td>29.000000</td>\n",
              "      <td>39.000000</td>\n",
              "      <td>15.000000</td>\n",
              "      <td>20.000000</td>\n",
              "      <td>0.000000</td>\n",
              "      <td>0.000000</td>\n",
              "      <td>30-40年</td>\n",
              "      <td>住家用</td>\n",
              "    </tr>\n",
              "    <tr>\n",
              "      <th>804040</th>\n",
              "      <td>住</td>\n",
              "      <td>三重區頂文路０００３號三樓#三重區頂文路３號三樓</td>\n",
              "      <td>住宅大樓(11層含以上有電梯)</td>\n",
              "      <td>1</td>\n",
              "      <td>56.890000</td>\n",
              "      <td>F</td>\n",
              "      <td>NaN</td>\n",
              "      <td>2022-01-18</td>\n",
              "      <td>1</td>\n",
              "      <td>NaN</td>\n",
              "      <td>...</td>\n",
              "      <td>0.000000</td>\n",
              "      <td>0.000000</td>\n",
              "      <td>0.000000</td>\n",
              "      <td>0.000000</td>\n",
              "      <td>0.000000</td>\n",
              "      <td>0.000000</td>\n",
              "      <td>0.000000</td>\n",
              "      <td>0.000000</td>\n",
              "      <td>NaN</td>\n",
              "      <td>住家用</td>\n",
              "    </tr>\n",
              "    <tr>\n",
              "      <th>804041</th>\n",
              "      <td>住</td>\n",
              "      <td>三重區富福街００５７號五樓#三重區富福街５７號五樓</td>\n",
              "      <td>公寓(5樓含以下無電梯)</td>\n",
              "      <td>0</td>\n",
              "      <td>90.520000</td>\n",
              "      <td>F</td>\n",
              "      <td>NaN</td>\n",
              "      <td>2022-01-27</td>\n",
              "      <td>0</td>\n",
              "      <td>36.000000</td>\n",
              "      <td>...</td>\n",
              "      <td>0.000000</td>\n",
              "      <td>2.000000</td>\n",
              "      <td>20.000000</td>\n",
              "      <td>37.000000</td>\n",
              "      <td>9.000000</td>\n",
              "      <td>18.000000</td>\n",
              "      <td>0.000000</td>\n",
              "      <td>0.000000</td>\n",
              "      <td>30-40年</td>\n",
              "      <td>住家用</td>\n",
              "    </tr>\n",
              "    <tr>\n",
              "      <th>804042</th>\n",
              "      <td>住</td>\n",
              "      <td>三重區頂文路００１１號四樓#三重區頂文路１１號四樓</td>\n",
              "      <td>住宅大樓(11層含以上有電梯)</td>\n",
              "      <td>1</td>\n",
              "      <td>43.840000</td>\n",
              "      <td>F</td>\n",
              "      <td>225.000000</td>\n",
              "      <td>2022-01-23</td>\n",
              "      <td>1</td>\n",
              "      <td>NaN</td>\n",
              "      <td>...</td>\n",
              "      <td>0.000000</td>\n",
              "      <td>0.000000</td>\n",
              "      <td>0.000000</td>\n",
              "      <td>0.000000</td>\n",
              "      <td>0.000000</td>\n",
              "      <td>0.000000</td>\n",
              "      <td>0.000000</td>\n",
              "      <td>0.000000</td>\n",
              "      <td>NaN</td>\n",
              "      <td>住家用</td>\n",
              "    </tr>\n",
              "    <tr>\n",
              "      <th>804043</th>\n",
              "      <td>其他</td>\n",
              "      <td>三重區新北大道一段０１６８號十五樓#三重區新北大道一段１６８號十五樓</td>\n",
              "      <td>住宅大樓(11層含以上有電梯)</td>\n",
              "      <td>1</td>\n",
              "      <td>70.900000</td>\n",
              "      <td>F</td>\n",
              "      <td>NaN</td>\n",
              "      <td>2022-01-01</td>\n",
              "      <td>1</td>\n",
              "      <td>25.000000</td>\n",
              "      <td>...</td>\n",
              "      <td>0.000000</td>\n",
              "      <td>1.000000</td>\n",
              "      <td>18.000000</td>\n",
              "      <td>39.000000</td>\n",
              "      <td>10.000000</td>\n",
              "      <td>15.000000</td>\n",
              "      <td>0.000000</td>\n",
              "      <td>0.000000</td>\n",
              "      <td>20-30年</td>\n",
              "      <td>住家用</td>\n",
              "    </tr>\n",
              "  </tbody>\n",
              "</table>\n",
              "<p>703406 rows × 125 columns</p>\n",
              "</div>\n",
              "    <div class=\"colab-df-buttons\">\n",
              "\n",
              "  <div class=\"colab-df-container\">\n",
              "    <button class=\"colab-df-convert\" onclick=\"convertToInteractive('df-ef8ec69d-e26a-4262-bfb1-f224548857ce')\"\n",
              "            title=\"Convert this dataframe to an interactive table.\"\n",
              "            style=\"display:none;\">\n",
              "\n",
              "  <svg xmlns=\"http://www.w3.org/2000/svg\" height=\"24px\" viewBox=\"0 -960 960 960\">\n",
              "    <path d=\"M120-120v-720h720v720H120Zm60-500h600v-160H180v160Zm220 220h160v-160H400v160Zm0 220h160v-160H400v160ZM180-400h160v-160H180v160Zm440 0h160v-160H620v160ZM180-180h160v-160H180v160Zm440 0h160v-160H620v160Z\"/>\n",
              "  </svg>\n",
              "    </button>\n",
              "\n",
              "  <style>\n",
              "    .colab-df-container {\n",
              "      display:flex;\n",
              "      gap: 12px;\n",
              "    }\n",
              "\n",
              "    .colab-df-convert {\n",
              "      background-color: #E8F0FE;\n",
              "      border: none;\n",
              "      border-radius: 50%;\n",
              "      cursor: pointer;\n",
              "      display: none;\n",
              "      fill: #1967D2;\n",
              "      height: 32px;\n",
              "      padding: 0 0 0 0;\n",
              "      width: 32px;\n",
              "    }\n",
              "\n",
              "    .colab-df-convert:hover {\n",
              "      background-color: #E2EBFA;\n",
              "      box-shadow: 0px 1px 2px rgba(60, 64, 67, 0.3), 0px 1px 3px 1px rgba(60, 64, 67, 0.15);\n",
              "      fill: #174EA6;\n",
              "    }\n",
              "\n",
              "    .colab-df-buttons div {\n",
              "      margin-bottom: 4px;\n",
              "    }\n",
              "\n",
              "    [theme=dark] .colab-df-convert {\n",
              "      background-color: #3B4455;\n",
              "      fill: #D2E3FC;\n",
              "    }\n",
              "\n",
              "    [theme=dark] .colab-df-convert:hover {\n",
              "      background-color: #434B5C;\n",
              "      box-shadow: 0px 1px 3px 1px rgba(0, 0, 0, 0.15);\n",
              "      filter: drop-shadow(0px 1px 2px rgba(0, 0, 0, 0.3));\n",
              "      fill: #FFFFFF;\n",
              "    }\n",
              "  </style>\n",
              "\n",
              "    <script>\n",
              "      const buttonEl =\n",
              "        document.querySelector('#df-ef8ec69d-e26a-4262-bfb1-f224548857ce button.colab-df-convert');\n",
              "      buttonEl.style.display =\n",
              "        google.colab.kernel.accessAllowed ? 'block' : 'none';\n",
              "\n",
              "      async function convertToInteractive(key) {\n",
              "        const element = document.querySelector('#df-ef8ec69d-e26a-4262-bfb1-f224548857ce');\n",
              "        const dataTable =\n",
              "          await google.colab.kernel.invokeFunction('convertToInteractive',\n",
              "                                                    [key], {});\n",
              "        if (!dataTable) return;\n",
              "\n",
              "        const docLinkHtml = 'Like what you see? Visit the ' +\n",
              "          '<a target=\"_blank\" href=https://colab.research.google.com/notebooks/data_table.ipynb>data table notebook</a>'\n",
              "          + ' to learn more about interactive tables.';\n",
              "        element.innerHTML = '';\n",
              "        dataTable['output_type'] = 'display_data';\n",
              "        await google.colab.output.renderOutput(dataTable, element);\n",
              "        const docLink = document.createElement('div');\n",
              "        docLink.innerHTML = docLinkHtml;\n",
              "        element.appendChild(docLink);\n",
              "      }\n",
              "    </script>\n",
              "  </div>\n",
              "\n",
              "\n",
              "<div id=\"df-ad790378-0590-40b7-864d-7a12a391155d\">\n",
              "  <button class=\"colab-df-quickchart\" onclick=\"quickchart('df-ad790378-0590-40b7-864d-7a12a391155d')\"\n",
              "            title=\"Suggest charts\"\n",
              "            style=\"display:none;\">\n",
              "\n",
              "<svg xmlns=\"http://www.w3.org/2000/svg\" height=\"24px\"viewBox=\"0 0 24 24\"\n",
              "     width=\"24px\">\n",
              "    <g>\n",
              "        <path d=\"M19 3H5c-1.1 0-2 .9-2 2v14c0 1.1.9 2 2 2h14c1.1 0 2-.9 2-2V5c0-1.1-.9-2-2-2zM9 17H7v-7h2v7zm4 0h-2V7h2v10zm4 0h-2v-4h2v4z\"/>\n",
              "    </g>\n",
              "</svg>\n",
              "  </button>\n",
              "\n",
              "<style>\n",
              "  .colab-df-quickchart {\n",
              "      --bg-color: #E8F0FE;\n",
              "      --fill-color: #1967D2;\n",
              "      --hover-bg-color: #E2EBFA;\n",
              "      --hover-fill-color: #174EA6;\n",
              "      --disabled-fill-color: #AAA;\n",
              "      --disabled-bg-color: #DDD;\n",
              "  }\n",
              "\n",
              "  [theme=dark] .colab-df-quickchart {\n",
              "      --bg-color: #3B4455;\n",
              "      --fill-color: #D2E3FC;\n",
              "      --hover-bg-color: #434B5C;\n",
              "      --hover-fill-color: #FFFFFF;\n",
              "      --disabled-bg-color: #3B4455;\n",
              "      --disabled-fill-color: #666;\n",
              "  }\n",
              "\n",
              "  .colab-df-quickchart {\n",
              "    background-color: var(--bg-color);\n",
              "    border: none;\n",
              "    border-radius: 50%;\n",
              "    cursor: pointer;\n",
              "    display: none;\n",
              "    fill: var(--fill-color);\n",
              "    height: 32px;\n",
              "    padding: 0;\n",
              "    width: 32px;\n",
              "  }\n",
              "\n",
              "  .colab-df-quickchart:hover {\n",
              "    background-color: var(--hover-bg-color);\n",
              "    box-shadow: 0 1px 2px rgba(60, 64, 67, 0.3), 0 1px 3px 1px rgba(60, 64, 67, 0.15);\n",
              "    fill: var(--button-hover-fill-color);\n",
              "  }\n",
              "\n",
              "  .colab-df-quickchart-complete:disabled,\n",
              "  .colab-df-quickchart-complete:disabled:hover {\n",
              "    background-color: var(--disabled-bg-color);\n",
              "    fill: var(--disabled-fill-color);\n",
              "    box-shadow: none;\n",
              "  }\n",
              "\n",
              "  .colab-df-spinner {\n",
              "    border: 2px solid var(--fill-color);\n",
              "    border-color: transparent;\n",
              "    border-bottom-color: var(--fill-color);\n",
              "    animation:\n",
              "      spin 1s steps(1) infinite;\n",
              "  }\n",
              "\n",
              "  @keyframes spin {\n",
              "    0% {\n",
              "      border-color: transparent;\n",
              "      border-bottom-color: var(--fill-color);\n",
              "      border-left-color: var(--fill-color);\n",
              "    }\n",
              "    20% {\n",
              "      border-color: transparent;\n",
              "      border-left-color: var(--fill-color);\n",
              "      border-top-color: var(--fill-color);\n",
              "    }\n",
              "    30% {\n",
              "      border-color: transparent;\n",
              "      border-left-color: var(--fill-color);\n",
              "      border-top-color: var(--fill-color);\n",
              "      border-right-color: var(--fill-color);\n",
              "    }\n",
              "    40% {\n",
              "      border-color: transparent;\n",
              "      border-right-color: var(--fill-color);\n",
              "      border-top-color: var(--fill-color);\n",
              "    }\n",
              "    60% {\n",
              "      border-color: transparent;\n",
              "      border-right-color: var(--fill-color);\n",
              "    }\n",
              "    80% {\n",
              "      border-color: transparent;\n",
              "      border-right-color: var(--fill-color);\n",
              "      border-bottom-color: var(--fill-color);\n",
              "    }\n",
              "    90% {\n",
              "      border-color: transparent;\n",
              "      border-bottom-color: var(--fill-color);\n",
              "    }\n",
              "  }\n",
              "</style>\n",
              "\n",
              "  <script>\n",
              "    async function quickchart(key) {\n",
              "      const quickchartButtonEl =\n",
              "        document.querySelector('#' + key + ' button');\n",
              "      quickchartButtonEl.disabled = true;  // To prevent multiple clicks.\n",
              "      quickchartButtonEl.classList.add('colab-df-spinner');\n",
              "      try {\n",
              "        const charts = await google.colab.kernel.invokeFunction(\n",
              "            'suggestCharts', [key], {});\n",
              "      } catch (error) {\n",
              "        console.error('Error during call to suggestCharts:', error);\n",
              "      }\n",
              "      quickchartButtonEl.classList.remove('colab-df-spinner');\n",
              "      quickchartButtonEl.classList.add('colab-df-quickchart-complete');\n",
              "    }\n",
              "    (() => {\n",
              "      let quickchartButtonEl =\n",
              "        document.querySelector('#df-ad790378-0590-40b7-864d-7a12a391155d button');\n",
              "      quickchartButtonEl.style.display =\n",
              "        google.colab.kernel.accessAllowed ? 'block' : 'none';\n",
              "    })();\n",
              "  </script>\n",
              "</div>\n",
              "\n",
              "  <div id=\"id_3b9176fa-0e7d-4dab-a91e-012653758204\">\n",
              "    <style>\n",
              "      .colab-df-generate {\n",
              "        background-color: #E8F0FE;\n",
              "        border: none;\n",
              "        border-radius: 50%;\n",
              "        cursor: pointer;\n",
              "        display: none;\n",
              "        fill: #1967D2;\n",
              "        height: 32px;\n",
              "        padding: 0 0 0 0;\n",
              "        width: 32px;\n",
              "      }\n",
              "\n",
              "      .colab-df-generate:hover {\n",
              "        background-color: #E2EBFA;\n",
              "        box-shadow: 0px 1px 2px rgba(60, 64, 67, 0.3), 0px 1px 3px 1px rgba(60, 64, 67, 0.15);\n",
              "        fill: #174EA6;\n",
              "      }\n",
              "\n",
              "      [theme=dark] .colab-df-generate {\n",
              "        background-color: #3B4455;\n",
              "        fill: #D2E3FC;\n",
              "      }\n",
              "\n",
              "      [theme=dark] .colab-df-generate:hover {\n",
              "        background-color: #434B5C;\n",
              "        box-shadow: 0px 1px 3px 1px rgba(0, 0, 0, 0.15);\n",
              "        filter: drop-shadow(0px 1px 2px rgba(0, 0, 0, 0.3));\n",
              "        fill: #FFFFFF;\n",
              "      }\n",
              "    </style>\n",
              "    <button class=\"colab-df-generate\" onclick=\"generateWithVariable('usage_df')\"\n",
              "            title=\"Generate code using this dataframe.\"\n",
              "            style=\"display:none;\">\n",
              "\n",
              "  <svg xmlns=\"http://www.w3.org/2000/svg\" height=\"24px\"viewBox=\"0 0 24 24\"\n",
              "       width=\"24px\">\n",
              "    <path d=\"M7,19H8.4L18.45,9,17,7.55,7,17.6ZM5,21V16.75L18.45,3.32a2,2,0,0,1,2.83,0l1.4,1.43a1.91,1.91,0,0,1,.58,1.4,1.91,1.91,0,0,1-.58,1.4L9.25,21ZM18.45,9,17,7.55Zm-12,3A5.31,5.31,0,0,0,4.9,8.1,5.31,5.31,0,0,0,1,6.5,5.31,5.31,0,0,0,4.9,4.9,5.31,5.31,0,0,0,6.5,1,5.31,5.31,0,0,0,8.1,4.9,5.31,5.31,0,0,0,12,6.5,5.46,5.46,0,0,0,6.5,12Z\"/>\n",
              "  </svg>\n",
              "    </button>\n",
              "    <script>\n",
              "      (() => {\n",
              "      const buttonEl =\n",
              "        document.querySelector('#id_3b9176fa-0e7d-4dab-a91e-012653758204 button.colab-df-generate');\n",
              "      buttonEl.style.display =\n",
              "        google.colab.kernel.accessAllowed ? 'block' : 'none';\n",
              "\n",
              "      buttonEl.onclick = () => {\n",
              "        google.colab.notebook.generateWithVariable('usage_df');\n",
              "      }\n",
              "      })();\n",
              "    </script>\n",
              "  </div>\n",
              "\n",
              "    </div>\n",
              "  </div>\n"
            ],
            "application/vnd.google.colaboratory.intrinsic+json": {
              "type": "dataframe",
              "variable_name": "usage_df"
            }
          },
          "metadata": {},
          "execution_count": 23
        }
      ]
    },
    {
      "cell_type": "code",
      "source": [
        "grouped"
      ],
      "metadata": {
        "colab": {
          "base_uri": "https://localhost:8080/"
        },
        "id": "C8R9m-wUoaZh",
        "outputId": "4205ca51-0488-4cc8-e2de-85c237d2b765"
      },
      "execution_count": null,
      "outputs": [
        {
          "output_type": "execute_result",
          "data": {
            "text/plain": [
              "[array([607849.95, 407166.12, 355294.93, ..., 381861.58, 534079.35,\n",
              "        388609.72]),\n",
              " array([384430.56, 299907.15, 189573.46, ..., 319669.05, 448326.98,\n",
              "        391991.99])]"
            ]
          },
          "metadata": {},
          "execution_count": 24
        }
      ]
    },
    {
      "cell_type": "markdown",
      "source": [
        "> **Shapiro-Wilk 檢驗**"
      ],
      "metadata": {
        "id": "GAf-TlFqjDut"
      }
    },
    {
      "cell_type": "code",
      "source": [
        "import pandas as pd\n",
        "from scipy import stats\n",
        "\n",
        "# 設定Pandas顯示浮點數的格式，這裡設置為顯示6位小數\n",
        "pd.options.display.float_format = '{:.6f}'.format\n",
        "\n",
        "# 過濾出 'detailed_usage_classification' 列值為 '住家用' 和 '住商用' 的資料\n",
        "usage_df = df[df['detailed_usage_classification'].isin(['住家用', '住商用'])]\n",
        "\n",
        "# 創建一個空字典來存儲 Shapiro-Wilk 檢驗的結果\n",
        "shapiro_results = {}\n",
        "\n",
        "# 遍歷每個組別，按 'detailed_usage_classification' 分組\n",
        "for name, group in usage_df.groupby('detailed_usage_classification'):\n",
        "    # 對每個組別中的 'new_per_ping' 列進行 Shapiro-Wilk 檢驗\n",
        "    shapiro_stat, shapiro_p = stats.shapiro(group['new_per_ping'])\n",
        "\n",
        "    # 將檢驗結果存儲在字典中，以組別名稱為鍵\n",
        "    shapiro_results[name] = (shapiro_stat, shapiro_p)\n",
        "\n",
        "    # 打印每個組別的 Shapiro-Wilk 檢驗統計量和 p 值\n",
        "    print(f\"Group {name}: Shapiro-Wilk test statistic: {shapiro_stat:.6f}, p-value: {shapiro_p:.6f}\")"
      ],
      "metadata": {
        "colab": {
          "base_uri": "https://localhost:8080/"
        },
        "id": "BgFnz6BRjKOf",
        "outputId": "8c48f039-1a9d-4880-b278-39f5650aa55d"
      },
      "execution_count": null,
      "outputs": [
        {
          "output_type": "stream",
          "name": "stdout",
          "text": [
            "Group 住商用: Shapiro-Wilk test statistic: 0.786369, p-value: 0.000000\n",
            "Group 住家用: Shapiro-Wilk test statistic: 0.865015, p-value: 0.000000\n"
          ]
        },
        {
          "output_type": "stream",
          "name": "stderr",
          "text": [
            "/usr/local/lib/python3.10/dist-packages/scipy/stats/_morestats.py:1882: UserWarning: p-value may not be accurate for N > 5000.\n",
            "  warnings.warn(\"p-value may not be accurate for N > 5000.\")\n"
          ]
        }
      ]
    },
    {
      "cell_type": "markdown",
      "source": [
        "> ANOVA"
      ],
      "metadata": {
        "id": "UtneeYR_t5_z"
      }
    },
    {
      "cell_type": "code",
      "source": [
        "# 設置顯示浮點數的格式為小數點後六位\n",
        "pd.options.display.float_format = '{:.6f}'.format\n",
        "\n",
        "# 使用 one_way_anova 函數執行 ANOVA 分析\n",
        "anova_results = one_way_anova(usage_df, 'usage_group', 'new_per_ping')\n",
        "\n",
        "# 打印 ANOVA 結果\n",
        "print(\"ANOVA Results for usage_group:\\n\", anova_results)"
      ],
      "metadata": {
        "colab": {
          "base_uri": "https://localhost:8080/"
        },
        "id": "2rDKxDrltz8P",
        "outputId": "93b1f697-6dcb-4a17-a505-eda2ba9898a0"
      },
      "execution_count": null,
      "outputs": [
        {
          "output_type": "stream",
          "name": "stdout",
          "text": [
            "ANOVA Results for usage_group:\n",
            "                                  sum_sq            df           F   PR(>F)\n",
            "C(usage_group)    55361252739863.429688      1.000000 1129.415604 0.000000\n",
            "Residual       34479182419623724.000000 703404.000000         NaN      NaN\n"
          ]
        }
      ]
    },
    {
      "cell_type": "markdown",
      "source": [
        "# property_type"
      ],
      "metadata": {
        "id": "UHQhuUXVyCZy"
      }
    },
    {
      "cell_type": "markdown",
      "source": [
        "## 先分四類做"
      ],
      "metadata": {
        "id": "PUacjN-LmOVl"
      }
    },
    {
      "cell_type": "markdown",
      "source": [
        "> Levene's Test"
      ],
      "metadata": {
        "id": "zBpr_G0ns3cx"
      }
    },
    {
      "cell_type": "code",
      "source": [
        "import pandas as pd\n",
        "from scipy import stats\n",
        "\n",
        "# 設定Pandas顯示浮點數的格式，這裡設置為顯示6位小數\n",
        "pd.options.display.float_format = '{:.6f}'.format\n",
        "\n",
        "# 過濾出 'property_type' 列值\n",
        "property_type_df = df[df['property_type'].isin(['華廈(10層含以下有電梯)',\n",
        "                          '住宅大樓(11層含以上有電梯)',\n",
        "                          '公寓(5樓含以下無電梯)',\n",
        "                          '透天厝'])]\n",
        "\n",
        "# 將數據框按 'property_type' 分組，並提取每組 'new_per_ping' 列的數值\n",
        "grouped = [group['new_per_ping'].values\n",
        "           for name, group in property_type_df.groupby('property_type')]\n",
        "\n",
        "# 使用 Levene's Test 檢查各組別之間的方差齊性\n",
        "levene_stat, levene_p = stats.levene(*grouped)\n",
        "\n",
        "# 打印 Levene's Test 的統計量和 p 值\n",
        "print(f\"Levene's test statistic: {levene_stat:.6f}\")\n",
        "print(f\"p-value: {levene_p:.6f}\")"
      ],
      "metadata": {
        "id": "fzel3iW51Lz7",
        "colab": {
          "base_uri": "https://localhost:8080/"
        },
        "outputId": "c7d4991b-29b4-45f5-f44d-bbf015745aab"
      },
      "execution_count": null,
      "outputs": [
        {
          "output_type": "stream",
          "name": "stdout",
          "text": [
            "Levene's test statistic: 5293.421446\n",
            "p-value: 0.000000\n"
          ]
        }
      ]
    },
    {
      "cell_type": "code",
      "source": [
        "property_type_df"
      ],
      "metadata": {
        "collapsed": true,
        "colab": {
          "base_uri": "https://localhost:8080/",
          "height": 1000
        },
        "id": "KniHNCyHo4Im",
        "outputId": "7b26a570-c6b7-4ffa-c926-c06873d39074"
      },
      "execution_count": null,
      "outputs": [
        {
          "output_type": "execute_result",
          "data": {
            "text/plain": [
              "       usage_category                                      address  \\\n",
              "0                   住         士林區中社路一段０１１巷００７２號四樓#士林區中社路一段１１巷７２號四樓   \n",
              "1                   住             士林區後港街０２０巷００１８號四樓#士林區後港街２０巷１８號四樓   \n",
              "2                   住       士林區中正路１０４巷００１弄０００２號四樓#士林區中正路１０４巷１弄２號四樓   \n",
              "3                   住  士林區中山北路七段１９０巷００１６之３號７樓#士林區中山北路七段１９０巷１６之３號７樓   \n",
              "5                   住                   士林區士東路０１２３號四樓#士林區士東路１２３號四樓   \n",
              "...               ...                                          ...   \n",
              "804039              住            三重區仁愛街４４５巷００２６號三樓#三重區仁愛街４４５巷２６號三樓   \n",
              "804040              住                     三重區頂文路０００３號三樓#三重區頂文路３號三樓   \n",
              "804041              住                    三重區富福街００５７號五樓#三重區富福街５７號五樓   \n",
              "804042              住                    三重區頂文路００１１號四樓#三重區頂文路１１號四樓   \n",
              "804043             其他           三重區新北大道一段０１６８號十五樓#三重區新北大道一段１６８號十五樓   \n",
              "\n",
              "          property_type  community_name  main_building_ratio city  \\\n",
              "0          公寓(5樓含以下無電梯)               0           100.000000    A   \n",
              "1          公寓(5樓含以下無電梯)               0            86.100000    A   \n",
              "2         華廈(10層含以下有電梯)               0            49.540000    A   \n",
              "3         華廈(10層含以下有電梯)               1            72.920000    A   \n",
              "5          公寓(5樓含以下無電梯)               0           100.000000    A   \n",
              "...                 ...             ...                  ...  ...   \n",
              "804039     公寓(5樓含以下無電梯)               0            74.520000    F   \n",
              "804040  住宅大樓(11層含以上有電梯)               1            56.890000    F   \n",
              "804041     公寓(5樓含以下無電梯)               0            90.520000    F   \n",
              "804042  住宅大樓(11層含以上有電梯)               1            43.840000    F   \n",
              "804043  住宅大樓(11層含以上有電梯)               1            70.900000    F   \n",
              "\n",
              "        parking_space_price transaction_date  elevator_available  \\\n",
              "0                       NaN       2016-12-08                   0   \n",
              "1                       NaN       2016-12-03                   0   \n",
              "2                       NaN       2016-12-02                   0   \n",
              "3                       NaN       2016-12-10                   0   \n",
              "5                       NaN       2016-12-12                   0   \n",
              "...                     ...              ...                 ...   \n",
              "804039                  NaN       2022-01-02                   0   \n",
              "804040                  NaN       2022-01-18                   1   \n",
              "804041                  NaN       2022-01-27                   0   \n",
              "804042           225.000000       2022-01-23                   1   \n",
              "804043                  NaN       2022-01-01                   1   \n",
              "\n",
              "        building_age  ...  acc_Police_Station_under_500m  \\\n",
              "0          41.000000  ...                       1.000000   \n",
              "1          38.000000  ...                       0.000000   \n",
              "2          18.000000  ...                       0.000000   \n",
              "3          29.000000  ...                       1.000000   \n",
              "5          42.000000  ...                       0.000000   \n",
              "...              ...  ...                            ...   \n",
              "804039     37.000000  ...                       1.000000   \n",
              "804040           NaN  ...                       0.000000   \n",
              "804041     36.000000  ...                       0.000000   \n",
              "804042           NaN  ...                       0.000000   \n",
              "804043     25.000000  ...                       0.000000   \n",
              "\n",
              "        acc_Police_Station_under_750m  acc_Clinic_under_500m  \\\n",
              "0                            1.000000               0.000000   \n",
              "1                            1.000000              21.000000   \n",
              "2                            1.000000              17.000000   \n",
              "3                            1.000000               6.000000   \n",
              "5                            0.000000              40.000000   \n",
              "...                               ...                    ...   \n",
              "804039                       2.000000              29.000000   \n",
              "804040                       0.000000               0.000000   \n",
              "804041                       2.000000              20.000000   \n",
              "804042                       0.000000               0.000000   \n",
              "804043                       1.000000              18.000000   \n",
              "\n",
              "        acc_Clinic_under_750m  acc_Pharmacy_under_500m  \\\n",
              "0                    0.000000                 0.000000   \n",
              "1                   30.000000                 7.000000   \n",
              "2                   40.000000                 0.000000   \n",
              "3                   13.000000                 2.000000   \n",
              "5                   81.000000                10.000000   \n",
              "...                       ...                      ...   \n",
              "804039              39.000000                15.000000   \n",
              "804040               0.000000                 0.000000   \n",
              "804041              37.000000                 9.000000   \n",
              "804042               0.000000                 0.000000   \n",
              "804043              39.000000                10.000000   \n",
              "\n",
              "        acc_Pharmacy_under_750m acc_Medical_Facility_under_500m  \\\n",
              "0                      0.000000                        0.000000   \n",
              "1                     10.000000                        0.000000   \n",
              "2                      6.000000                        0.000000   \n",
              "3                      2.000000                        0.000000   \n",
              "5                     23.000000                        0.000000   \n",
              "...                         ...                             ...   \n",
              "804039                20.000000                        0.000000   \n",
              "804040                 0.000000                        0.000000   \n",
              "804041                18.000000                        0.000000   \n",
              "804042                 0.000000                        0.000000   \n",
              "804043                15.000000                        0.000000   \n",
              "\n",
              "       acc_Medical_Facility_under_750m  building_age_group usage_group  \n",
              "0                             0.000000              40-50年         住家用  \n",
              "1                             0.000000              30-40年         住家用  \n",
              "2                             0.000000              10-20年         住家用  \n",
              "3                             1.000000              20-30年         住家用  \n",
              "5                             1.000000              40-50年         住家用  \n",
              "...                                ...                 ...         ...  \n",
              "804039                        0.000000              30-40年         住家用  \n",
              "804040                        0.000000                 NaN         住家用  \n",
              "804041                        0.000000              30-40年         住家用  \n",
              "804042                        0.000000                 NaN         住家用  \n",
              "804043                        0.000000              20-30年         住家用  \n",
              "\n",
              "[739571 rows x 125 columns]"
            ],
            "text/html": [
              "\n",
              "  <div id=\"df-e9cf865c-aa5b-4f87-b21e-2f95681c5b4f\" class=\"colab-df-container\">\n",
              "    <div>\n",
              "<style scoped>\n",
              "    .dataframe tbody tr th:only-of-type {\n",
              "        vertical-align: middle;\n",
              "    }\n",
              "\n",
              "    .dataframe tbody tr th {\n",
              "        vertical-align: top;\n",
              "    }\n",
              "\n",
              "    .dataframe thead th {\n",
              "        text-align: right;\n",
              "    }\n",
              "</style>\n",
              "<table border=\"1\" class=\"dataframe\">\n",
              "  <thead>\n",
              "    <tr style=\"text-align: right;\">\n",
              "      <th></th>\n",
              "      <th>usage_category</th>\n",
              "      <th>address</th>\n",
              "      <th>property_type</th>\n",
              "      <th>community_name</th>\n",
              "      <th>main_building_ratio</th>\n",
              "      <th>city</th>\n",
              "      <th>parking_space_price</th>\n",
              "      <th>transaction_date</th>\n",
              "      <th>elevator_available</th>\n",
              "      <th>building_age</th>\n",
              "      <th>...</th>\n",
              "      <th>acc_Police_Station_under_500m</th>\n",
              "      <th>acc_Police_Station_under_750m</th>\n",
              "      <th>acc_Clinic_under_500m</th>\n",
              "      <th>acc_Clinic_under_750m</th>\n",
              "      <th>acc_Pharmacy_under_500m</th>\n",
              "      <th>acc_Pharmacy_under_750m</th>\n",
              "      <th>acc_Medical_Facility_under_500m</th>\n",
              "      <th>acc_Medical_Facility_under_750m</th>\n",
              "      <th>building_age_group</th>\n",
              "      <th>usage_group</th>\n",
              "    </tr>\n",
              "  </thead>\n",
              "  <tbody>\n",
              "    <tr>\n",
              "      <th>0</th>\n",
              "      <td>住</td>\n",
              "      <td>士林區中社路一段０１１巷００７２號四樓#士林區中社路一段１１巷７２號四樓</td>\n",
              "      <td>公寓(5樓含以下無電梯)</td>\n",
              "      <td>0</td>\n",
              "      <td>100.000000</td>\n",
              "      <td>A</td>\n",
              "      <td>NaN</td>\n",
              "      <td>2016-12-08</td>\n",
              "      <td>0</td>\n",
              "      <td>41.000000</td>\n",
              "      <td>...</td>\n",
              "      <td>1.000000</td>\n",
              "      <td>1.000000</td>\n",
              "      <td>0.000000</td>\n",
              "      <td>0.000000</td>\n",
              "      <td>0.000000</td>\n",
              "      <td>0.000000</td>\n",
              "      <td>0.000000</td>\n",
              "      <td>0.000000</td>\n",
              "      <td>40-50年</td>\n",
              "      <td>住家用</td>\n",
              "    </tr>\n",
              "    <tr>\n",
              "      <th>1</th>\n",
              "      <td>住</td>\n",
              "      <td>士林區後港街０２０巷００１８號四樓#士林區後港街２０巷１８號四樓</td>\n",
              "      <td>公寓(5樓含以下無電梯)</td>\n",
              "      <td>0</td>\n",
              "      <td>86.100000</td>\n",
              "      <td>A</td>\n",
              "      <td>NaN</td>\n",
              "      <td>2016-12-03</td>\n",
              "      <td>0</td>\n",
              "      <td>38.000000</td>\n",
              "      <td>...</td>\n",
              "      <td>0.000000</td>\n",
              "      <td>1.000000</td>\n",
              "      <td>21.000000</td>\n",
              "      <td>30.000000</td>\n",
              "      <td>7.000000</td>\n",
              "      <td>10.000000</td>\n",
              "      <td>0.000000</td>\n",
              "      <td>0.000000</td>\n",
              "      <td>30-40年</td>\n",
              "      <td>住家用</td>\n",
              "    </tr>\n",
              "    <tr>\n",
              "      <th>2</th>\n",
              "      <td>住</td>\n",
              "      <td>士林區中正路１０４巷００１弄０００２號四樓#士林區中正路１０４巷１弄２號四樓</td>\n",
              "      <td>華廈(10層含以下有電梯)</td>\n",
              "      <td>0</td>\n",
              "      <td>49.540000</td>\n",
              "      <td>A</td>\n",
              "      <td>NaN</td>\n",
              "      <td>2016-12-02</td>\n",
              "      <td>0</td>\n",
              "      <td>18.000000</td>\n",
              "      <td>...</td>\n",
              "      <td>0.000000</td>\n",
              "      <td>1.000000</td>\n",
              "      <td>17.000000</td>\n",
              "      <td>40.000000</td>\n",
              "      <td>0.000000</td>\n",
              "      <td>6.000000</td>\n",
              "      <td>0.000000</td>\n",
              "      <td>0.000000</td>\n",
              "      <td>10-20年</td>\n",
              "      <td>住家用</td>\n",
              "    </tr>\n",
              "    <tr>\n",
              "      <th>3</th>\n",
              "      <td>住</td>\n",
              "      <td>士林區中山北路七段１９０巷００１６之３號７樓#士林區中山北路七段１９０巷１６之３號７樓</td>\n",
              "      <td>華廈(10層含以下有電梯)</td>\n",
              "      <td>1</td>\n",
              "      <td>72.920000</td>\n",
              "      <td>A</td>\n",
              "      <td>NaN</td>\n",
              "      <td>2016-12-10</td>\n",
              "      <td>0</td>\n",
              "      <td>29.000000</td>\n",
              "      <td>...</td>\n",
              "      <td>1.000000</td>\n",
              "      <td>1.000000</td>\n",
              "      <td>6.000000</td>\n",
              "      <td>13.000000</td>\n",
              "      <td>2.000000</td>\n",
              "      <td>2.000000</td>\n",
              "      <td>0.000000</td>\n",
              "      <td>1.000000</td>\n",
              "      <td>20-30年</td>\n",
              "      <td>住家用</td>\n",
              "    </tr>\n",
              "    <tr>\n",
              "      <th>5</th>\n",
              "      <td>住</td>\n",
              "      <td>士林區士東路０１２３號四樓#士林區士東路１２３號四樓</td>\n",
              "      <td>公寓(5樓含以下無電梯)</td>\n",
              "      <td>0</td>\n",
              "      <td>100.000000</td>\n",
              "      <td>A</td>\n",
              "      <td>NaN</td>\n",
              "      <td>2016-12-12</td>\n",
              "      <td>0</td>\n",
              "      <td>42.000000</td>\n",
              "      <td>...</td>\n",
              "      <td>0.000000</td>\n",
              "      <td>0.000000</td>\n",
              "      <td>40.000000</td>\n",
              "      <td>81.000000</td>\n",
              "      <td>10.000000</td>\n",
              "      <td>23.000000</td>\n",
              "      <td>0.000000</td>\n",
              "      <td>1.000000</td>\n",
              "      <td>40-50年</td>\n",
              "      <td>住家用</td>\n",
              "    </tr>\n",
              "    <tr>\n",
              "      <th>...</th>\n",
              "      <td>...</td>\n",
              "      <td>...</td>\n",
              "      <td>...</td>\n",
              "      <td>...</td>\n",
              "      <td>...</td>\n",
              "      <td>...</td>\n",
              "      <td>...</td>\n",
              "      <td>...</td>\n",
              "      <td>...</td>\n",
              "      <td>...</td>\n",
              "      <td>...</td>\n",
              "      <td>...</td>\n",
              "      <td>...</td>\n",
              "      <td>...</td>\n",
              "      <td>...</td>\n",
              "      <td>...</td>\n",
              "      <td>...</td>\n",
              "      <td>...</td>\n",
              "      <td>...</td>\n",
              "      <td>...</td>\n",
              "      <td>...</td>\n",
              "    </tr>\n",
              "    <tr>\n",
              "      <th>804039</th>\n",
              "      <td>住</td>\n",
              "      <td>三重區仁愛街４４５巷００２６號三樓#三重區仁愛街４４５巷２６號三樓</td>\n",
              "      <td>公寓(5樓含以下無電梯)</td>\n",
              "      <td>0</td>\n",
              "      <td>74.520000</td>\n",
              "      <td>F</td>\n",
              "      <td>NaN</td>\n",
              "      <td>2022-01-02</td>\n",
              "      <td>0</td>\n",
              "      <td>37.000000</td>\n",
              "      <td>...</td>\n",
              "      <td>1.000000</td>\n",
              "      <td>2.000000</td>\n",
              "      <td>29.000000</td>\n",
              "      <td>39.000000</td>\n",
              "      <td>15.000000</td>\n",
              "      <td>20.000000</td>\n",
              "      <td>0.000000</td>\n",
              "      <td>0.000000</td>\n",
              "      <td>30-40年</td>\n",
              "      <td>住家用</td>\n",
              "    </tr>\n",
              "    <tr>\n",
              "      <th>804040</th>\n",
              "      <td>住</td>\n",
              "      <td>三重區頂文路０００３號三樓#三重區頂文路３號三樓</td>\n",
              "      <td>住宅大樓(11層含以上有電梯)</td>\n",
              "      <td>1</td>\n",
              "      <td>56.890000</td>\n",
              "      <td>F</td>\n",
              "      <td>NaN</td>\n",
              "      <td>2022-01-18</td>\n",
              "      <td>1</td>\n",
              "      <td>NaN</td>\n",
              "      <td>...</td>\n",
              "      <td>0.000000</td>\n",
              "      <td>0.000000</td>\n",
              "      <td>0.000000</td>\n",
              "      <td>0.000000</td>\n",
              "      <td>0.000000</td>\n",
              "      <td>0.000000</td>\n",
              "      <td>0.000000</td>\n",
              "      <td>0.000000</td>\n",
              "      <td>NaN</td>\n",
              "      <td>住家用</td>\n",
              "    </tr>\n",
              "    <tr>\n",
              "      <th>804041</th>\n",
              "      <td>住</td>\n",
              "      <td>三重區富福街００５７號五樓#三重區富福街５７號五樓</td>\n",
              "      <td>公寓(5樓含以下無電梯)</td>\n",
              "      <td>0</td>\n",
              "      <td>90.520000</td>\n",
              "      <td>F</td>\n",
              "      <td>NaN</td>\n",
              "      <td>2022-01-27</td>\n",
              "      <td>0</td>\n",
              "      <td>36.000000</td>\n",
              "      <td>...</td>\n",
              "      <td>0.000000</td>\n",
              "      <td>2.000000</td>\n",
              "      <td>20.000000</td>\n",
              "      <td>37.000000</td>\n",
              "      <td>9.000000</td>\n",
              "      <td>18.000000</td>\n",
              "      <td>0.000000</td>\n",
              "      <td>0.000000</td>\n",
              "      <td>30-40年</td>\n",
              "      <td>住家用</td>\n",
              "    </tr>\n",
              "    <tr>\n",
              "      <th>804042</th>\n",
              "      <td>住</td>\n",
              "      <td>三重區頂文路００１１號四樓#三重區頂文路１１號四樓</td>\n",
              "      <td>住宅大樓(11層含以上有電梯)</td>\n",
              "      <td>1</td>\n",
              "      <td>43.840000</td>\n",
              "      <td>F</td>\n",
              "      <td>225.000000</td>\n",
              "      <td>2022-01-23</td>\n",
              "      <td>1</td>\n",
              "      <td>NaN</td>\n",
              "      <td>...</td>\n",
              "      <td>0.000000</td>\n",
              "      <td>0.000000</td>\n",
              "      <td>0.000000</td>\n",
              "      <td>0.000000</td>\n",
              "      <td>0.000000</td>\n",
              "      <td>0.000000</td>\n",
              "      <td>0.000000</td>\n",
              "      <td>0.000000</td>\n",
              "      <td>NaN</td>\n",
              "      <td>住家用</td>\n",
              "    </tr>\n",
              "    <tr>\n",
              "      <th>804043</th>\n",
              "      <td>其他</td>\n",
              "      <td>三重區新北大道一段０１６８號十五樓#三重區新北大道一段１６８號十五樓</td>\n",
              "      <td>住宅大樓(11層含以上有電梯)</td>\n",
              "      <td>1</td>\n",
              "      <td>70.900000</td>\n",
              "      <td>F</td>\n",
              "      <td>NaN</td>\n",
              "      <td>2022-01-01</td>\n",
              "      <td>1</td>\n",
              "      <td>25.000000</td>\n",
              "      <td>...</td>\n",
              "      <td>0.000000</td>\n",
              "      <td>1.000000</td>\n",
              "      <td>18.000000</td>\n",
              "      <td>39.000000</td>\n",
              "      <td>10.000000</td>\n",
              "      <td>15.000000</td>\n",
              "      <td>0.000000</td>\n",
              "      <td>0.000000</td>\n",
              "      <td>20-30年</td>\n",
              "      <td>住家用</td>\n",
              "    </tr>\n",
              "  </tbody>\n",
              "</table>\n",
              "<p>739571 rows × 125 columns</p>\n",
              "</div>\n",
              "    <div class=\"colab-df-buttons\">\n",
              "\n",
              "  <div class=\"colab-df-container\">\n",
              "    <button class=\"colab-df-convert\" onclick=\"convertToInteractive('df-e9cf865c-aa5b-4f87-b21e-2f95681c5b4f')\"\n",
              "            title=\"Convert this dataframe to an interactive table.\"\n",
              "            style=\"display:none;\">\n",
              "\n",
              "  <svg xmlns=\"http://www.w3.org/2000/svg\" height=\"24px\" viewBox=\"0 -960 960 960\">\n",
              "    <path d=\"M120-120v-720h720v720H120Zm60-500h600v-160H180v160Zm220 220h160v-160H400v160Zm0 220h160v-160H400v160ZM180-400h160v-160H180v160Zm440 0h160v-160H620v160ZM180-180h160v-160H180v160Zm440 0h160v-160H620v160Z\"/>\n",
              "  </svg>\n",
              "    </button>\n",
              "\n",
              "  <style>\n",
              "    .colab-df-container {\n",
              "      display:flex;\n",
              "      gap: 12px;\n",
              "    }\n",
              "\n",
              "    .colab-df-convert {\n",
              "      background-color: #E8F0FE;\n",
              "      border: none;\n",
              "      border-radius: 50%;\n",
              "      cursor: pointer;\n",
              "      display: none;\n",
              "      fill: #1967D2;\n",
              "      height: 32px;\n",
              "      padding: 0 0 0 0;\n",
              "      width: 32px;\n",
              "    }\n",
              "\n",
              "    .colab-df-convert:hover {\n",
              "      background-color: #E2EBFA;\n",
              "      box-shadow: 0px 1px 2px rgba(60, 64, 67, 0.3), 0px 1px 3px 1px rgba(60, 64, 67, 0.15);\n",
              "      fill: #174EA6;\n",
              "    }\n",
              "\n",
              "    .colab-df-buttons div {\n",
              "      margin-bottom: 4px;\n",
              "    }\n",
              "\n",
              "    [theme=dark] .colab-df-convert {\n",
              "      background-color: #3B4455;\n",
              "      fill: #D2E3FC;\n",
              "    }\n",
              "\n",
              "    [theme=dark] .colab-df-convert:hover {\n",
              "      background-color: #434B5C;\n",
              "      box-shadow: 0px 1px 3px 1px rgba(0, 0, 0, 0.15);\n",
              "      filter: drop-shadow(0px 1px 2px rgba(0, 0, 0, 0.3));\n",
              "      fill: #FFFFFF;\n",
              "    }\n",
              "  </style>\n",
              "\n",
              "    <script>\n",
              "      const buttonEl =\n",
              "        document.querySelector('#df-e9cf865c-aa5b-4f87-b21e-2f95681c5b4f button.colab-df-convert');\n",
              "      buttonEl.style.display =\n",
              "        google.colab.kernel.accessAllowed ? 'block' : 'none';\n",
              "\n",
              "      async function convertToInteractive(key) {\n",
              "        const element = document.querySelector('#df-e9cf865c-aa5b-4f87-b21e-2f95681c5b4f');\n",
              "        const dataTable =\n",
              "          await google.colab.kernel.invokeFunction('convertToInteractive',\n",
              "                                                    [key], {});\n",
              "        if (!dataTable) return;\n",
              "\n",
              "        const docLinkHtml = 'Like what you see? Visit the ' +\n",
              "          '<a target=\"_blank\" href=https://colab.research.google.com/notebooks/data_table.ipynb>data table notebook</a>'\n",
              "          + ' to learn more about interactive tables.';\n",
              "        element.innerHTML = '';\n",
              "        dataTable['output_type'] = 'display_data';\n",
              "        await google.colab.output.renderOutput(dataTable, element);\n",
              "        const docLink = document.createElement('div');\n",
              "        docLink.innerHTML = docLinkHtml;\n",
              "        element.appendChild(docLink);\n",
              "      }\n",
              "    </script>\n",
              "  </div>\n",
              "\n",
              "\n",
              "<div id=\"df-7f703dd2-2245-474d-bd01-82581f709575\">\n",
              "  <button class=\"colab-df-quickchart\" onclick=\"quickchart('df-7f703dd2-2245-474d-bd01-82581f709575')\"\n",
              "            title=\"Suggest charts\"\n",
              "            style=\"display:none;\">\n",
              "\n",
              "<svg xmlns=\"http://www.w3.org/2000/svg\" height=\"24px\"viewBox=\"0 0 24 24\"\n",
              "     width=\"24px\">\n",
              "    <g>\n",
              "        <path d=\"M19 3H5c-1.1 0-2 .9-2 2v14c0 1.1.9 2 2 2h14c1.1 0 2-.9 2-2V5c0-1.1-.9-2-2-2zM9 17H7v-7h2v7zm4 0h-2V7h2v10zm4 0h-2v-4h2v4z\"/>\n",
              "    </g>\n",
              "</svg>\n",
              "  </button>\n",
              "\n",
              "<style>\n",
              "  .colab-df-quickchart {\n",
              "      --bg-color: #E8F0FE;\n",
              "      --fill-color: #1967D2;\n",
              "      --hover-bg-color: #E2EBFA;\n",
              "      --hover-fill-color: #174EA6;\n",
              "      --disabled-fill-color: #AAA;\n",
              "      --disabled-bg-color: #DDD;\n",
              "  }\n",
              "\n",
              "  [theme=dark] .colab-df-quickchart {\n",
              "      --bg-color: #3B4455;\n",
              "      --fill-color: #D2E3FC;\n",
              "      --hover-bg-color: #434B5C;\n",
              "      --hover-fill-color: #FFFFFF;\n",
              "      --disabled-bg-color: #3B4455;\n",
              "      --disabled-fill-color: #666;\n",
              "  }\n",
              "\n",
              "  .colab-df-quickchart {\n",
              "    background-color: var(--bg-color);\n",
              "    border: none;\n",
              "    border-radius: 50%;\n",
              "    cursor: pointer;\n",
              "    display: none;\n",
              "    fill: var(--fill-color);\n",
              "    height: 32px;\n",
              "    padding: 0;\n",
              "    width: 32px;\n",
              "  }\n",
              "\n",
              "  .colab-df-quickchart:hover {\n",
              "    background-color: var(--hover-bg-color);\n",
              "    box-shadow: 0 1px 2px rgba(60, 64, 67, 0.3), 0 1px 3px 1px rgba(60, 64, 67, 0.15);\n",
              "    fill: var(--button-hover-fill-color);\n",
              "  }\n",
              "\n",
              "  .colab-df-quickchart-complete:disabled,\n",
              "  .colab-df-quickchart-complete:disabled:hover {\n",
              "    background-color: var(--disabled-bg-color);\n",
              "    fill: var(--disabled-fill-color);\n",
              "    box-shadow: none;\n",
              "  }\n",
              "\n",
              "  .colab-df-spinner {\n",
              "    border: 2px solid var(--fill-color);\n",
              "    border-color: transparent;\n",
              "    border-bottom-color: var(--fill-color);\n",
              "    animation:\n",
              "      spin 1s steps(1) infinite;\n",
              "  }\n",
              "\n",
              "  @keyframes spin {\n",
              "    0% {\n",
              "      border-color: transparent;\n",
              "      border-bottom-color: var(--fill-color);\n",
              "      border-left-color: var(--fill-color);\n",
              "    }\n",
              "    20% {\n",
              "      border-color: transparent;\n",
              "      border-left-color: var(--fill-color);\n",
              "      border-top-color: var(--fill-color);\n",
              "    }\n",
              "    30% {\n",
              "      border-color: transparent;\n",
              "      border-left-color: var(--fill-color);\n",
              "      border-top-color: var(--fill-color);\n",
              "      border-right-color: var(--fill-color);\n",
              "    }\n",
              "    40% {\n",
              "      border-color: transparent;\n",
              "      border-right-color: var(--fill-color);\n",
              "      border-top-color: var(--fill-color);\n",
              "    }\n",
              "    60% {\n",
              "      border-color: transparent;\n",
              "      border-right-color: var(--fill-color);\n",
              "    }\n",
              "    80% {\n",
              "      border-color: transparent;\n",
              "      border-right-color: var(--fill-color);\n",
              "      border-bottom-color: var(--fill-color);\n",
              "    }\n",
              "    90% {\n",
              "      border-color: transparent;\n",
              "      border-bottom-color: var(--fill-color);\n",
              "    }\n",
              "  }\n",
              "</style>\n",
              "\n",
              "  <script>\n",
              "    async function quickchart(key) {\n",
              "      const quickchartButtonEl =\n",
              "        document.querySelector('#' + key + ' button');\n",
              "      quickchartButtonEl.disabled = true;  // To prevent multiple clicks.\n",
              "      quickchartButtonEl.classList.add('colab-df-spinner');\n",
              "      try {\n",
              "        const charts = await google.colab.kernel.invokeFunction(\n",
              "            'suggestCharts', [key], {});\n",
              "      } catch (error) {\n",
              "        console.error('Error during call to suggestCharts:', error);\n",
              "      }\n",
              "      quickchartButtonEl.classList.remove('colab-df-spinner');\n",
              "      quickchartButtonEl.classList.add('colab-df-quickchart-complete');\n",
              "    }\n",
              "    (() => {\n",
              "      let quickchartButtonEl =\n",
              "        document.querySelector('#df-7f703dd2-2245-474d-bd01-82581f709575 button');\n",
              "      quickchartButtonEl.style.display =\n",
              "        google.colab.kernel.accessAllowed ? 'block' : 'none';\n",
              "    })();\n",
              "  </script>\n",
              "</div>\n",
              "\n",
              "  <div id=\"id_554bf890-69b6-4454-bd98-ea15d2be6386\">\n",
              "    <style>\n",
              "      .colab-df-generate {\n",
              "        background-color: #E8F0FE;\n",
              "        border: none;\n",
              "        border-radius: 50%;\n",
              "        cursor: pointer;\n",
              "        display: none;\n",
              "        fill: #1967D2;\n",
              "        height: 32px;\n",
              "        padding: 0 0 0 0;\n",
              "        width: 32px;\n",
              "      }\n",
              "\n",
              "      .colab-df-generate:hover {\n",
              "        background-color: #E2EBFA;\n",
              "        box-shadow: 0px 1px 2px rgba(60, 64, 67, 0.3), 0px 1px 3px 1px rgba(60, 64, 67, 0.15);\n",
              "        fill: #174EA6;\n",
              "      }\n",
              "\n",
              "      [theme=dark] .colab-df-generate {\n",
              "        background-color: #3B4455;\n",
              "        fill: #D2E3FC;\n",
              "      }\n",
              "\n",
              "      [theme=dark] .colab-df-generate:hover {\n",
              "        background-color: #434B5C;\n",
              "        box-shadow: 0px 1px 3px 1px rgba(0, 0, 0, 0.15);\n",
              "        filter: drop-shadow(0px 1px 2px rgba(0, 0, 0, 0.3));\n",
              "        fill: #FFFFFF;\n",
              "      }\n",
              "    </style>\n",
              "    <button class=\"colab-df-generate\" onclick=\"generateWithVariable('property_type_df')\"\n",
              "            title=\"Generate code using this dataframe.\"\n",
              "            style=\"display:none;\">\n",
              "\n",
              "  <svg xmlns=\"http://www.w3.org/2000/svg\" height=\"24px\"viewBox=\"0 0 24 24\"\n",
              "       width=\"24px\">\n",
              "    <path d=\"M7,19H8.4L18.45,9,17,7.55,7,17.6ZM5,21V16.75L18.45,3.32a2,2,0,0,1,2.83,0l1.4,1.43a1.91,1.91,0,0,1,.58,1.4,1.91,1.91,0,0,1-.58,1.4L9.25,21ZM18.45,9,17,7.55Zm-12,3A5.31,5.31,0,0,0,4.9,8.1,5.31,5.31,0,0,0,1,6.5,5.31,5.31,0,0,0,4.9,4.9,5.31,5.31,0,0,0,6.5,1,5.31,5.31,0,0,0,8.1,4.9,5.31,5.31,0,0,0,12,6.5,5.46,5.46,0,0,0,6.5,12Z\"/>\n",
              "  </svg>\n",
              "    </button>\n",
              "    <script>\n",
              "      (() => {\n",
              "      const buttonEl =\n",
              "        document.querySelector('#id_554bf890-69b6-4454-bd98-ea15d2be6386 button.colab-df-generate');\n",
              "      buttonEl.style.display =\n",
              "        google.colab.kernel.accessAllowed ? 'block' : 'none';\n",
              "\n",
              "      buttonEl.onclick = () => {\n",
              "        google.colab.notebook.generateWithVariable('property_type_df');\n",
              "      }\n",
              "      })();\n",
              "    </script>\n",
              "  </div>\n",
              "\n",
              "    </div>\n",
              "  </div>\n"
            ],
            "application/vnd.google.colaboratory.intrinsic+json": {
              "type": "dataframe",
              "variable_name": "property_type_df"
            }
          },
          "metadata": {},
          "execution_count": 96
        }
      ]
    },
    {
      "cell_type": "code",
      "source": [
        "grouped"
      ],
      "metadata": {
        "colab": {
          "base_uri": "https://localhost:8080/"
        },
        "id": "sylF1kvDo4LM",
        "outputId": "83c578b5-8bf7-4f1a-cf80-f41dacc40d3f"
      },
      "execution_count": null,
      "outputs": [
        {
          "output_type": "execute_result",
          "data": {
            "text/plain": [
              "[array([ 474391.12, 1249967.23, 1424727.6 , ...,  519830.57,  448326.98,\n",
              "         391991.99]),\n",
              " array([384430.56, 299907.15, 604356.99, ..., 384319.75, 428055.7 ,\n",
              "        319669.05]),\n",
              " array([189573.46, 551881.41, 504778.24, ..., 348837.21, 360000.  ,\n",
              "        447702.06]),\n",
              " array([ 983032.59, 1359883.44, 1010752.69, ...,  324473.59,  722195.47,\n",
              "         530868.39])]"
            ]
          },
          "metadata": {},
          "execution_count": 97
        }
      ]
    },
    {
      "cell_type": "markdown",
      "source": [
        "跟以下使用【住家用 & 住商用 分資料】對照一下\n",
        "\n",
        "```\n",
        "[array([1249967.23, 1424727.6 , 1509251.39, ...,  519830.57,  448326.98,\n",
        "         391991.99]),\n",
        " array([384430.56, 299907.15, 604356.99, ..., 384319.75, 428055.7 ,\n",
        "        319669.05]),\n",
        " array([189573.46, 551881.41, 504778.24, ..., 321285.14, 360000.  ,\n",
        "        447702.06]),\n",
        " array([ 983032.59, 1359883.44, 1010752.69, ...,  665083.14,  722195.47,\n",
        "         530868.39])]\n",
        "\n",
        "```\n",
        "\n"
      ],
      "metadata": {
        "id": "g86x2khi2OH4"
      }
    },
    {
      "cell_type": "markdown",
      "source": [
        "> Shapiro-Wilk test"
      ],
      "metadata": {
        "id": "zO_MhyxDswxJ"
      }
    },
    {
      "cell_type": "code",
      "source": [
        "import pandas as pd\n",
        "from scipy import stats\n",
        "\n",
        "# 設定Pandas顯示浮點數的格式，這裡設置為顯示6位小數\n",
        "pd.options.display.float_format = '{:.6f}'.format\n",
        "\n",
        "# 創建一個空字典來存儲 Shapiro-Wilk 檢驗的結果\n",
        "shapiro_results = {}\n",
        "\n",
        "# 遍歷每個組別，按 'property_type' 分組\n",
        "for name, group in property_type_df.groupby('property_type'):\n",
        "    # 對每個組別中的 'new_per_ping' 列進行 Shapiro-Wilk 檢驗\n",
        "    shapiro_stat, shapiro_p = stats.shapiro(group['new_per_ping'])\n",
        "\n",
        "    # 將檢驗結果存儲在字典中，以組別名稱為鍵\n",
        "    shapiro_results[name] = (shapiro_stat, shapiro_p)\n",
        "\n",
        "    # 打印每個組別的 Shapiro-Wilk 檢驗統計量和 p 值\n",
        "\n",
        "    print(f\"Group: {name}\" )\n",
        "    print(f\"Shapiro-Wilk test statistic: {shapiro_stat:.6f}\")\n",
        "    print(f\"p-value: {shapiro_p:.6f}\")\n",
        "    print('=' * 50)"
      ],
      "metadata": {
        "colab": {
          "base_uri": "https://localhost:8080/"
        },
        "id": "tIgaTI5co4NO",
        "outputId": "17497964-7c83-4317-9475-5f8554c6ab1d"
      },
      "execution_count": null,
      "outputs": [
        {
          "output_type": "stream",
          "name": "stdout",
          "text": [
            "Group: 住宅大樓(11層含以上有電梯)\n",
            "Shapiro-Wilk test statistic: 0.869497\n",
            "p-value: 0.000000\n",
            "==================================================\n",
            "Group: 公寓(5樓含以下無電梯)\n",
            "Shapiro-Wilk test statistic: 0.895922\n",
            "p-value: 0.000000\n",
            "==================================================\n",
            "Group: 華廈(10層含以下有電梯)\n",
            "Shapiro-Wilk test statistic: 0.918070\n",
            "p-value: 0.000000\n",
            "==================================================\n",
            "Group: 透天厝\n",
            "Shapiro-Wilk test statistic: 0.709913\n",
            "p-value: 0.000000\n",
            "==================================================\n"
          ]
        },
        {
          "output_type": "stream",
          "name": "stderr",
          "text": [
            "/usr/local/lib/python3.10/dist-packages/scipy/stats/_morestats.py:1882: UserWarning: p-value may not be accurate for N > 5000.\n",
            "  warnings.warn(\"p-value may not be accurate for N > 5000.\")\n"
          ]
        }
      ]
    },
    {
      "cell_type": "markdown",
      "source": [
        "> ANOVA"
      ],
      "metadata": {
        "id": "t6SVuHKVujFq"
      }
    },
    {
      "cell_type": "code",
      "source": [
        "# 設置顯示浮點數的格式為小數點後六位\n",
        "pd.options.display.float_format = '{:.6f}'.format\n",
        "\n",
        "# 使用 one_way_anova 函數執行 ANOVA 分析\n",
        "anova_results = one_way_anova(property_type_df, 'property_type', 'new_per_ping')\n",
        "\n",
        "# 打印 ANOVA 結果\n",
        "print(\"ANOVA Results for property_type_group:\\n\", anova_results)"
      ],
      "metadata": {
        "colab": {
          "base_uri": "https://localhost:8080/"
        },
        "id": "nUmgLqjiuktd",
        "outputId": "139968c0-394a-4421-89a3-a979f9e2e6f7"
      },
      "execution_count": null,
      "outputs": [
        {
          "output_type": "stream",
          "name": "stdout",
          "text": [
            "ANOVA Results for property_type_group:\n",
            "                                    sum_sq            df           F   PR(>F)\n",
            "C(property_type)   332045866871221.250000      3.000000 2207.101137 0.000000\n",
            "Residual         37087888945890144.000000 739567.000000         NaN      NaN\n"
          ]
        }
      ]
    },
    {
      "cell_type": "markdown",
      "source": [
        "## 再分成以下兩類處裡\n",
        "\n",
        "> (1) 住宅 (11樓以上)、華廈\n",
        "\n",
        "> - 華廈(10層含以下有電梯)\n",
        "\n",
        "> - 住宅大樓(11層含以上有電梯)\n",
        "\n",
        "> (2) 透天、公寓\n",
        "\n",
        "> - 公寓(5樓含以下無電梯)\n",
        "\n",
        "> - 透天厝"
      ],
      "metadata": {
        "id": "vM3yduIzrNH4"
      }
    },
    {
      "cell_type": "markdown",
      "source": [
        "> Levene's Test"
      ],
      "metadata": {
        "id": "FG0hXAZJs54L"
      }
    },
    {
      "cell_type": "code",
      "source": [
        "import pandas as pd\n",
        "from scipy import stats\n",
        "\n",
        "# 設定Pandas顯示浮點數的格式，這裡設置為顯示6位小數\n",
        "pd.options.display.float_format = '{:.6f}'.format\n",
        "\n",
        "# 過濾出 'property_type' 列值\n",
        "property_type_df = df[df['property_type'].isin(['華廈(10層含以下有電梯)',\n",
        "                           '住宅大樓(11層含以上有電梯)',\n",
        "                           '公寓(5樓含以下無電梯)',\n",
        "                           '透天厝'])]\n",
        "\n",
        "# 創建一個新的欄位來標記分組\n",
        "property_type_df['group'] = property_type_df['property_type'].apply(\n",
        "    lambda x: '住宅大樓與華廈' if x in ['住宅大樓(11層含以上有電梯)',\n",
        "                          '華廈(10層含以下有電梯)'] else '透天與公寓')\n",
        "\n",
        "# 將數據框按 'group' 分組，並提取每組 'new_per_ping' 列的數值\n",
        "grouped = [group['new_per_ping'].values for name, group in property_type_df.groupby('group')]\n",
        "\n",
        "# 使用 Levene's Test 檢查各組別之間的方差齊性\n",
        "levene_stat, levene_p = stats.levene(*grouped)\n",
        "\n",
        "# 打印 Levene's Test 的統計量和 p 值\n",
        "print(f\"Levene's test statistic: {levene_stat:.6f}\")\n",
        "print(f\"p-value: {levene_p:.6f}\")\n"
      ],
      "metadata": {
        "colab": {
          "base_uri": "https://localhost:8080/"
        },
        "id": "8hK0WPmZo4Tw",
        "outputId": "3c218068-783d-400f-9d3f-6833b9018492"
      },
      "execution_count": null,
      "outputs": [
        {
          "output_type": "stream",
          "name": "stderr",
          "text": [
            "<ipython-input-100-9aaa0e1d3803>:14: SettingWithCopyWarning: \n",
            "A value is trying to be set on a copy of a slice from a DataFrame.\n",
            "Try using .loc[row_indexer,col_indexer] = value instead\n",
            "\n",
            "See the caveats in the documentation: https://pandas.pydata.org/pandas-docs/stable/user_guide/indexing.html#returning-a-view-versus-a-copy\n",
            "  property_type_df['group'] = property_type_df['property_type'].apply(\n"
          ]
        },
        {
          "output_type": "stream",
          "name": "stdout",
          "text": [
            "Levene's test statistic: 111.395905\n",
            "p-value: 0.000000\n"
          ]
        }
      ]
    },
    {
      "cell_type": "code",
      "source": [
        "grouped"
      ],
      "metadata": {
        "id": "T-iQ9eJf1L27",
        "colab": {
          "base_uri": "https://localhost:8080/"
        },
        "outputId": "4891cc86-f4f6-4198-b525-661b9a327b05"
      },
      "execution_count": null,
      "outputs": [
        {
          "output_type": "execute_result",
          "data": {
            "text/plain": [
              "[array([189573.46, 551881.41, 504778.24, ..., 519830.57, 448326.98,\n",
              "        391991.99]),\n",
              " array([384430.56, 299907.15, 604356.99, ..., 384319.75, 428055.7 ,\n",
              "        319669.05])]"
            ]
          },
          "metadata": {},
          "execution_count": 101
        }
      ]
    },
    {
      "cell_type": "code",
      "source": [
        "property_type_df['group'].value_counts()"
      ],
      "metadata": {
        "colab": {
          "base_uri": "https://localhost:8080/"
        },
        "id": "VqtJpbU9rqQG",
        "outputId": "000bc70d-5fdc-4b66-a53a-69158c2868af"
      },
      "execution_count": null,
      "outputs": [
        {
          "output_type": "execute_result",
          "data": {
            "text/plain": [
              "group\n",
              "住宅大樓與華廈    536061\n",
              "透天與公寓      203510\n",
              "Name: count, dtype: int64"
            ]
          },
          "metadata": {},
          "execution_count": 102
        }
      ]
    },
    {
      "cell_type": "code",
      "source": [
        "property_type_df[['property_type', 'group']].value_counts()"
      ],
      "metadata": {
        "colab": {
          "base_uri": "https://localhost:8080/"
        },
        "id": "v_N9148rrqbZ",
        "outputId": "1f2f3bea-719c-47f2-c81b-64ca1a06709d"
      },
      "execution_count": null,
      "outputs": [
        {
          "output_type": "execute_result",
          "data": {
            "text/plain": [
              "property_type    group  \n",
              "住宅大樓(11層含以上有電梯)  住宅大樓與華廈    407352\n",
              "公寓(5樓含以下無電梯)     透天與公寓      178935\n",
              "華廈(10層含以下有電梯)    住宅大樓與華廈    128709\n",
              "透天厝              透天與公寓       24575\n",
              "Name: count, dtype: int64"
            ]
          },
          "metadata": {},
          "execution_count": 103
        }
      ]
    },
    {
      "cell_type": "markdown",
      "source": [
        "> Shapiro-Wilk test"
      ],
      "metadata": {
        "id": "nttdEe9S4r6x"
      }
    },
    {
      "cell_type": "code",
      "source": [
        "import pandas as pd\n",
        "from scipy import stats\n",
        "\n",
        "# 設定Pandas顯示浮點數的格式，這裡設置為顯示6位小數\n",
        "pd.options.display.float_format = '{:.6f}'.format\n",
        "\n",
        "# 創建一個空字典來存儲 Shapiro-Wilk 檢驗的結果\n",
        "shapiro_results = {}\n",
        "\n",
        "# 遍歷每個組別，按 'property_type' 分組\n",
        "for name, group in property_type_df.groupby('group'):\n",
        "    # 對每個組別中的 'new_per_ping' 列進行 Shapiro-Wilk 檢驗\n",
        "    shapiro_stat, shapiro_p = stats.shapiro(group['new_per_ping'])\n",
        "\n",
        "    # 將檢驗結果存儲在字典中，以組別名稱為鍵\n",
        "    shapiro_results[name] = (shapiro_stat, shapiro_p)\n",
        "\n",
        "    # 打印每個組別的 Shapiro-Wilk 檢驗統計量和 p 值\n",
        "\n",
        "    print(f\"Group: {name}\" )\n",
        "    print(f\"Shapiro-Wilk test statistic: {shapiro_stat:.6f}\")\n",
        "    print(f\"p-value: {shapiro_p:.6f}\")\n",
        "    print('=' * 50)"
      ],
      "metadata": {
        "colab": {
          "base_uri": "https://localhost:8080/"
        },
        "id": "GvGjSBIrsjFY",
        "outputId": "51076762-f747-41ed-9b30-d90961a1bc35"
      },
      "execution_count": null,
      "outputs": [
        {
          "output_type": "stream",
          "name": "stdout",
          "text": [
            "Group: 住宅大樓與華廈\n",
            "Shapiro-Wilk test statistic: 0.883860\n",
            "p-value: 0.000000\n",
            "==================================================\n",
            "Group: 透天與公寓\n",
            "Shapiro-Wilk test statistic: 0.779277\n",
            "p-value: 0.000000\n",
            "==================================================\n"
          ]
        },
        {
          "output_type": "stream",
          "name": "stderr",
          "text": [
            "/usr/local/lib/python3.10/dist-packages/scipy/stats/_morestats.py:1882: UserWarning: p-value may not be accurate for N > 5000.\n",
            "  warnings.warn(\"p-value may not be accurate for N > 5000.\")\n"
          ]
        }
      ]
    },
    {
      "cell_type": "markdown",
      "source": [
        "> ANOVA"
      ],
      "metadata": {
        "id": "mSUgUOpBu4Lk"
      }
    },
    {
      "cell_type": "code",
      "source": [
        "# 設置顯示浮點數的格式為小數點後六位\n",
        "pd.options.display.float_format = '{:.6f}'.format\n",
        "\n",
        "# 創建一個新的欄位來標記分組\n",
        "property_type_df['group'] = property_type_df['property_type'].apply(\n",
        "    lambda x: '住宅大樓與華廈' if x in ['住宅大樓(11層含以上有電梯)',\n",
        "                          '華廈(10層含以下有電梯)'] else '透天與公寓'\n",
        ")\n",
        "\n",
        "# 使用 one_way_anova 函數執行 ANOVA 分析\n",
        "anova_results = one_way_anova(property_type_df, 'property_type', 'new_per_ping')\n",
        "\n",
        "# 打印 ANOVA 結果\n",
        "print(\"ANOVA Results for property_type_group:\\n\", anova_results)"
      ],
      "metadata": {
        "colab": {
          "base_uri": "https://localhost:8080/"
        },
        "id": "l4AXNzpEu5S3",
        "outputId": "fb3055ac-747a-4079-c884-168b3b6b57f0"
      },
      "execution_count": null,
      "outputs": [
        {
          "output_type": "stream",
          "name": "stderr",
          "text": [
            "<ipython-input-66-58fe3f4603ee>:5: SettingWithCopyWarning: \n",
            "A value is trying to be set on a copy of a slice from a DataFrame.\n",
            "Try using .loc[row_indexer,col_indexer] = value instead\n",
            "\n",
            "See the caveats in the documentation: https://pandas.pydata.org/pandas-docs/stable/user_guide/indexing.html#returning-a-view-versus-a-copy\n",
            "  property_type_df['group'] = property_type_df['property_type'].apply(\n"
          ]
        },
        {
          "output_type": "stream",
          "name": "stdout",
          "text": [
            "ANOVA Results for property_type_group:\n",
            "                                    sum_sq            df           F   PR(>F)\n",
            "C(property_type)   332045866871221.250000      3.000000 2207.101137 0.000000\n",
            "Residual         37087888945890144.000000 739567.000000         NaN      NaN\n"
          ]
        }
      ]
    },
    {
      "cell_type": "code",
      "source": [
        "property_type_df['group'].value_counts()"
      ],
      "metadata": {
        "colab": {
          "base_uri": "https://localhost:8080/"
        },
        "id": "jJUZJJzMwmwh",
        "outputId": "a07c6319-07f8-4266-d949-02923c6448dd"
      },
      "execution_count": null,
      "outputs": [
        {
          "output_type": "execute_result",
          "data": {
            "text/plain": [
              "group\n",
              "住宅大樓與華廈    536061\n",
              "透天與公寓      203510\n",
              "Name: count, dtype: int64"
            ]
          },
          "metadata": {},
          "execution_count": 67
        }
      ]
    },
    {
      "cell_type": "markdown",
      "source": [
        "## 使用 住家用 & 住商用 分資料\n",
        "\n",
        "> 再用這份資料做以上的分析\n",
        "\n"
      ],
      "metadata": {
        "id": "qDVkS4o-w34a"
      }
    },
    {
      "cell_type": "code",
      "source": [
        "usage_df.value_counts('detailed_usage_classification')"
      ],
      "metadata": {
        "colab": {
          "base_uri": "https://localhost:8080/"
        },
        "id": "s9jmITudw26f",
        "outputId": "272649d1-04ca-455b-949b-8ff86f28a279"
      },
      "execution_count": null,
      "outputs": [
        {
          "output_type": "execute_result",
          "data": {
            "text/plain": [
              "detailed_usage_classification\n",
              "住家用    697455\n",
              "住商用      5951\n",
              "Name: count, dtype: int64"
            ]
          },
          "metadata": {},
          "execution_count": 127
        }
      ]
    },
    {
      "cell_type": "code",
      "source": [
        "# 過濾出 'detailed_usage_classification' 列值為 '住家用' 和 '住商用' 的資料\n",
        "usage_df = df[df['detailed_usage_classification'].isin(['住家用', '住商用'])]"
      ],
      "metadata": {
        "id": "b5Quapib1bZZ"
      },
      "execution_count": null,
      "outputs": []
    },
    {
      "cell_type": "code",
      "source": [
        "# 過濾出 'property_type' 列值\n",
        "property_type_usage_df = usage_df[usage_df['property_type'].isin(['華廈(10層含以下有電梯)',\n",
        "                                 '住宅大樓(11層含以上有電梯)',\n",
        "                                 '公寓(5樓含以下無電梯)',\n",
        "                                 '透天厝'])]"
      ],
      "metadata": {
        "id": "FMKI8cXOvAFf"
      },
      "execution_count": null,
      "outputs": []
    },
    {
      "cell_type": "markdown",
      "source": [
        "### 先處理 property_type 四類"
      ],
      "metadata": {
        "id": "ftYl9I9Ky287"
      }
    },
    {
      "cell_type": "code",
      "source": [
        "property_type_usage_df.value_counts('property_type')"
      ],
      "metadata": {
        "colab": {
          "base_uri": "https://localhost:8080/"
        },
        "id": "sYFdrQ6xwm3a",
        "outputId": "d1347587-4815-4c6b-b627-396aa9054d43"
      },
      "execution_count": null,
      "outputs": [
        {
          "output_type": "execute_result",
          "data": {
            "text/plain": [
              "property_type\n",
              "住宅大樓(11層含以上有電梯)    367616\n",
              "公寓(5樓含以下無電梯)       167662\n",
              "華廈(10層含以下有電梯)      113872\n",
              "透天厝                 21121\n",
              "Name: count, dtype: int64"
            ]
          },
          "metadata": {},
          "execution_count": 130
        }
      ]
    },
    {
      "cell_type": "markdown",
      "source": [
        "> Levene's Test"
      ],
      "metadata": {
        "id": "SnTy2OjWzFLG"
      }
    },
    {
      "cell_type": "code",
      "source": [
        "import pandas as pd\n",
        "from scipy import stats\n",
        "\n",
        "# 設定Pandas顯示浮點數的格式，這裡設置為顯示6位小數\n",
        "pd.options.display.float_format = '{:.6f}'.format\n",
        "\n",
        "# 將數據框按 'property_type' 分組，並提取每組 'new_per_ping' 列的數值\n",
        "grouped = [group['new_per_ping'].values\n",
        "           for name, group in property_type_usage_df.groupby('property_type')]\n",
        "\n",
        "# 使用 Levene's Test 檢查各組別之間的方差齊性\n",
        "levene_stat, levene_p = stats.levene(*grouped)\n",
        "\n",
        "# 打印 Levene's Test 的統計量和 p 值\n",
        "print(f\"Levene's test statistic: {levene_stat:.6f}\")\n",
        "print(f\"p-value: {levene_p:.6f}\")"
      ],
      "metadata": {
        "colab": {
          "base_uri": "https://localhost:8080/"
        },
        "id": "OirvcrkFxPlW",
        "outputId": "6f1c02da-f8e7-4e22-f754-fc2ecb4a4d60"
      },
      "execution_count": null,
      "outputs": [
        {
          "output_type": "stream",
          "name": "stdout",
          "text": [
            "Levene's test statistic: 4447.090397\n",
            "p-value: 0.000000\n"
          ]
        }
      ]
    },
    {
      "cell_type": "code",
      "source": [
        "grouped"
      ],
      "metadata": {
        "colab": {
          "base_uri": "https://localhost:8080/"
        },
        "id": "_y5nia672IeN",
        "outputId": "aabf0e1d-4a46-4f6d-c414-845d5891ca2a"
      },
      "execution_count": null,
      "outputs": [
        {
          "output_type": "execute_result",
          "data": {
            "text/plain": [
              "[array([1249967.23, 1424727.6 , 1509251.39, ...,  519830.57,  448326.98,\n",
              "         391991.99]),\n",
              " array([384430.56, 299907.15, 604356.99, ..., 384319.75, 428055.7 ,\n",
              "        319669.05]),\n",
              " array([189573.46, 551881.41, 504778.24, ..., 321285.14, 360000.  ,\n",
              "        447702.06]),\n",
              " array([ 983032.59, 1359883.44, 1010752.69, ...,  665083.14,  722195.47,\n",
              "         530868.39])]"
            ]
          },
          "metadata": {},
          "execution_count": 132
        }
      ]
    },
    {
      "cell_type": "markdown",
      "source": [
        "> Shapiro-Wilk test"
      ],
      "metadata": {
        "id": "lL4fqOChzbVv"
      }
    },
    {
      "cell_type": "code",
      "source": [
        "import pandas as pd\n",
        "from scipy import stats\n",
        "\n",
        "# 設定Pandas顯示浮點數的格式，這裡設置為顯示6位小數\n",
        "pd.options.display.float_format = '{:.6f}'.format\n",
        "\n",
        "# 創建一個空字典來存儲 Shapiro-Wilk 檢驗的結果\n",
        "shapiro_results = {}\n",
        "\n",
        "# 遍歷每個組別，按 'property_type' 分組\n",
        "for name, group in property_type_usage_df.groupby('property_type'):\n",
        "    # 對每個組別中的 'new_per_ping' 列進行 Shapiro-Wilk 檢驗\n",
        "    shapiro_stat, shapiro_p = stats.shapiro(group['new_per_ping'])\n",
        "\n",
        "    # 將檢驗結果存儲在字典中，以組別名稱為鍵\n",
        "    shapiro_results[name] = (shapiro_stat, shapiro_p)\n",
        "\n",
        "    # 打印每個組別的 Shapiro-Wilk 檢驗統計量和 p 值\n",
        "\n",
        "    print(f\"Group: {name}\" )\n",
        "    print(f\"Shapiro-Wilk test statistic: {shapiro_stat:.6f}\")\n",
        "    print(f\"p-value: {shapiro_p:.6f}\")\n",
        "    print('=' * 50)"
      ],
      "metadata": {
        "colab": {
          "base_uri": "https://localhost:8080/"
        },
        "id": "IRZoxnJixPnj",
        "outputId": "ba505923-ed17-4ff1-da69-c1bf1aa1c8de"
      },
      "execution_count": null,
      "outputs": [
        {
          "output_type": "stream",
          "name": "stdout",
          "text": [
            "Group: 住宅大樓(11層含以上有電梯)\n",
            "Shapiro-Wilk test statistic: 0.870011\n",
            "p-value: 0.000000\n",
            "==================================================\n",
            "Group: 公寓(5樓含以下無電梯)\n",
            "Shapiro-Wilk test statistic: 0.905539\n",
            "p-value: 0.000000\n",
            "==================================================\n",
            "Group: 華廈(10層含以下有電梯)\n",
            "Shapiro-Wilk test statistic: 0.925220\n",
            "p-value: 0.000000\n",
            "==================================================\n",
            "Group: 透天厝\n",
            "Shapiro-Wilk test statistic: 0.713435\n",
            "p-value: 0.000000\n",
            "==================================================\n"
          ]
        },
        {
          "output_type": "stream",
          "name": "stderr",
          "text": [
            "/usr/local/lib/python3.10/dist-packages/scipy/stats/_morestats.py:1882: UserWarning: p-value may not be accurate for N > 5000.\n",
            "  warnings.warn(\"p-value may not be accurate for N > 5000.\")\n"
          ]
        }
      ]
    },
    {
      "cell_type": "markdown",
      "source": [
        "> ANOVA"
      ],
      "metadata": {
        "id": "Pr5ibhKI0OK-"
      }
    },
    {
      "cell_type": "code",
      "source": [
        "# 設置顯示浮點數的格式為小數點後六位\n",
        "pd.options.display.float_format = '{:.6f}'.format\n",
        "\n",
        "# 使用 one_way_anova 函數執行 ANOVA 分析\n",
        "anova_results = one_way_anova(property_type_usage_df, 'property_type', 'new_per_ping')\n",
        "\n",
        "# 打印 ANOVA 結果\n",
        "print(\"ANOVA Results for property_type_group:\\n\", anova_results)"
      ],
      "metadata": {
        "colab": {
          "base_uri": "https://localhost:8080/"
        },
        "id": "yaRkx7Z_0P_S",
        "outputId": "fd2edcf1-e909-477d-823c-35ec5c25f46c"
      },
      "execution_count": null,
      "outputs": [
        {
          "output_type": "stream",
          "name": "stdout",
          "text": [
            "ANOVA Results for property_type_group:\n",
            "                                    sum_sq            df           F   PR(>F)\n",
            "C(property_type)   256602261787623.843750      3.000000 1853.268740 0.000000\n",
            "Residual         30934896184300532.000000 670267.000000         NaN      NaN\n"
          ]
        }
      ]
    },
    {
      "cell_type": "markdown",
      "source": [
        "### 再分成以下兩類處裡\n",
        "\n",
        "> (1) 住宅與華廈\n",
        "\n",
        "> - 華廈(10層含以下有電梯)\n",
        "\n",
        "> - 住宅大樓(11層含以上有電梯)\n",
        "\n",
        "> (2) 透天與公寓\n",
        "\n",
        "> - 公寓(5樓含以下無電梯)\n",
        "\n",
        "> - 透天厝"
      ],
      "metadata": {
        "id": "bNgmYJobzz7S"
      }
    },
    {
      "cell_type": "markdown",
      "source": [
        "> Levene's Test"
      ],
      "metadata": {
        "id": "1WnGVZ7u0uc2"
      }
    },
    {
      "cell_type": "code",
      "source": [
        "import pandas as pd\n",
        "from scipy import stats\n",
        "\n",
        "# 設定Pandas顯示浮點數的格式，這裡設置為顯示6位小數\n",
        "pd.options.display.float_format = '{:.6f}'.format\n",
        "\n",
        "\n",
        "# 創建一個新的欄位來標記分組\n",
        "property_type_usage_df['group'] = property_type_usage_df['property_type'].apply(\n",
        "    lambda x: '住宅大樓與華廈' if x in ['住宅大樓(11層含以上有電梯)',\n",
        "                          '華廈(10層含以下有電梯)'] else '透天與公寓')\n",
        "\n",
        "# 將數據框按 'group' 分組，並提取每組 'new_per_ping' 列的數值\n",
        "property_type_usage_df_grouped = [group['new_per_ping'].values for name, group in property_type_usage_df.groupby('group')]\n",
        "\n",
        "# 使用 Levene's Test 檢查各組別之間的方差齊性\n",
        "levene_stat, levene_p = stats.levene(*property_type_usage_df_grouped)\n",
        "\n",
        "# 打印 Levene's Test 的統計量和 p 值\n",
        "print(f\"Levene's test statistic: {levene_stat:.6f}\")\n",
        "print(f\"p-value: {levene_p:.6f}\")"
      ],
      "metadata": {
        "colab": {
          "base_uri": "https://localhost:8080/"
        },
        "id": "19zzXhC0xPpn",
        "outputId": "0df77696-ad51-42a4-d8da-da79c2424fe3"
      },
      "execution_count": null,
      "outputs": [
        {
          "output_type": "stream",
          "name": "stderr",
          "text": [
            "<ipython-input-135-98acd281154b>:9: SettingWithCopyWarning: \n",
            "A value is trying to be set on a copy of a slice from a DataFrame.\n",
            "Try using .loc[row_indexer,col_indexer] = value instead\n",
            "\n",
            "See the caveats in the documentation: https://pandas.pydata.org/pandas-docs/stable/user_guide/indexing.html#returning-a-view-versus-a-copy\n",
            "  property_type_usage_df['group'] = property_type_usage_df['property_type'].apply(\n"
          ]
        },
        {
          "output_type": "stream",
          "name": "stdout",
          "text": [
            "Levene's test statistic: 308.210490\n",
            "p-value: 0.000000\n"
          ]
        }
      ]
    },
    {
      "cell_type": "code",
      "source": [
        "# 打印分組結果計數\n",
        "property_type_usage_df['group'].value_counts()"
      ],
      "metadata": {
        "colab": {
          "base_uri": "https://localhost:8080/"
        },
        "id": "ejei1RHSxPr4",
        "outputId": "df685dc0-0226-4045-c5f3-a99325140f87"
      },
      "execution_count": null,
      "outputs": [
        {
          "output_type": "execute_result",
          "data": {
            "text/plain": [
              "group\n",
              "住宅大樓與華廈    481488\n",
              "透天與公寓      188783\n",
              "Name: count, dtype: int64"
            ]
          },
          "metadata": {},
          "execution_count": 136
        }
      ]
    },
    {
      "cell_type": "code",
      "source": [
        "property_type_df['group'].value_counts()"
      ],
      "metadata": {
        "colab": {
          "base_uri": "https://localhost:8080/"
        },
        "id": "bghkdPhp3vN2",
        "outputId": "8fdac1d3-89a5-452b-e851-22884b464acf"
      },
      "execution_count": null,
      "outputs": [
        {
          "output_type": "execute_result",
          "data": {
            "text/plain": [
              "group\n",
              "住宅大樓與華廈    536061\n",
              "透天與公寓      203510\n",
              "Name: count, dtype: int64"
            ]
          },
          "metadata": {},
          "execution_count": 137
        }
      ]
    },
    {
      "cell_type": "code",
      "source": [
        "property_type_usage_df_grouped"
      ],
      "metadata": {
        "colab": {
          "base_uri": "https://localhost:8080/"
        },
        "id": "2-qaE4sd2s9F",
        "outputId": "f00b30e3-f28d-4f05-8721-f58150a0fffd"
      },
      "execution_count": null,
      "outputs": [
        {
          "output_type": "execute_result",
          "data": {
            "text/plain": [
              "[array([189573.46, 551881.41, 504778.24, ..., 519830.57, 448326.98,\n",
              "        391991.99]),\n",
              " array([384430.56, 299907.15, 604356.99, ..., 384319.75, 428055.7 ,\n",
              "        319669.05])]"
            ]
          },
          "metadata": {},
          "execution_count": 138
        }
      ]
    },
    {
      "cell_type": "markdown",
      "source": [
        "\n",
        "跟上面用全部資料處理的對照\n",
        "```\n",
        "[array([189573.46, 551881.41, 504778.24, ..., 519830.57, 448326.98,\n",
        "        391991.99]),\n",
        " array([384430.56, 299907.15, 604356.99, ..., 384319.75, 428055.7 ,\n",
        "        319669.05])]\n",
        "\n",
        "```\n",
        "\n"
      ],
      "metadata": {
        "id": "dupIz3V722xY"
      }
    },
    {
      "cell_type": "markdown",
      "source": [
        "> Shapiro-Wilk test"
      ],
      "metadata": {
        "id": "CV7X2d6C37Zl"
      }
    },
    {
      "cell_type": "code",
      "source": [
        "import pandas as pd\n",
        "from scipy import stats\n",
        "\n",
        "# 設定Pandas顯示浮點數的格式，這裡設置為顯示6位小數\n",
        "pd.options.display.float_format = '{:.6f}'.format\n",
        "\n",
        "# 創建一個空字典來存儲 Shapiro-Wilk 檢驗的結果\n",
        "shapiro_results = {}\n",
        "\n",
        "# 遍歷每個組別，按 'property_type' 分組\n",
        "for name, group in property_type_df.groupby('group'):\n",
        "    # 對每個組別中的 'new_per_ping' 列進行 Shapiro-Wilk 檢驗\n",
        "    shapiro_stat, shapiro_p = stats.shapiro(group['new_per_ping'])\n",
        "\n",
        "    # 將檢驗結果存儲在字典中，以組別名稱為鍵\n",
        "    shapiro_results[name] = (shapiro_stat, shapiro_p)\n",
        "\n",
        "    # 打印每個組別的 Shapiro-Wilk 檢驗統計量和 p 值\n",
        "\n",
        "    print(f\"Group: {name}\" )\n",
        "    print(f\"Shapiro-Wilk test statistic: {shapiro_stat:.6f}\")\n",
        "    print(f\"p-value: {shapiro_p:.6f}\")\n",
        "    print('=' * 50)"
      ],
      "metadata": {
        "colab": {
          "base_uri": "https://localhost:8080/"
        },
        "id": "CPqqXmxh2tBF",
        "outputId": "63c565bd-99cb-46f8-9a1f-df8b27b04d24"
      },
      "execution_count": null,
      "outputs": [
        {
          "output_type": "stream",
          "name": "stdout",
          "text": [
            "Group: 住宅大樓與華廈\n",
            "Shapiro-Wilk test statistic: 0.883860\n",
            "p-value: 0.000000\n",
            "==================================================\n",
            "Group: 透天與公寓\n",
            "Shapiro-Wilk test statistic: 0.779277\n",
            "p-value: 0.000000\n",
            "==================================================\n"
          ]
        },
        {
          "output_type": "stream",
          "name": "stderr",
          "text": [
            "/usr/local/lib/python3.10/dist-packages/scipy/stats/_morestats.py:1882: UserWarning: p-value may not be accurate for N > 5000.\n",
            "  warnings.warn(\"p-value may not be accurate for N > 5000.\")\n"
          ]
        }
      ]
    },
    {
      "cell_type": "markdown",
      "source": [
        "> ANOVA"
      ],
      "metadata": {
        "id": "KN-pdQPH4w-a"
      }
    },
    {
      "cell_type": "code",
      "source": [
        "# 設置顯示浮點數的格式為小數點後六位\n",
        "pd.options.display.float_format = '{:.6f}'.format\n",
        "\n",
        "# 創建一個新的欄位來標記分組\n",
        "property_type_df['group'] = property_type_df['property_type'].apply(\n",
        "    lambda x: '住宅大樓與華廈' if x in ['住宅大樓(11層含以上有電梯)',\n",
        "                          '華廈(10層含以下有電梯)'] else '透天與公寓'\n",
        ")\n",
        "\n",
        "# 使用 one_way_anova 函數執行 ANOVA 分析\n",
        "anova_results = one_way_anova(property_type_df, 'property_type', 'new_per_ping')\n",
        "\n",
        "# 打印 ANOVA 結果\n",
        "print(\"ANOVA Results for property_type_group:\\n\", anova_results)"
      ],
      "metadata": {
        "colab": {
          "base_uri": "https://localhost:8080/"
        },
        "id": "9WnMf3hM2tDe",
        "outputId": "978d14ff-a173-417c-a30a-39191233c1f7"
      },
      "execution_count": null,
      "outputs": [
        {
          "output_type": "stream",
          "name": "stderr",
          "text": [
            "<ipython-input-140-58fe3f4603ee>:5: SettingWithCopyWarning: \n",
            "A value is trying to be set on a copy of a slice from a DataFrame.\n",
            "Try using .loc[row_indexer,col_indexer] = value instead\n",
            "\n",
            "See the caveats in the documentation: https://pandas.pydata.org/pandas-docs/stable/user_guide/indexing.html#returning-a-view-versus-a-copy\n",
            "  property_type_df['group'] = property_type_df['property_type'].apply(\n"
          ]
        },
        {
          "output_type": "stream",
          "name": "stdout",
          "text": [
            "ANOVA Results for property_type_group:\n",
            "                                    sum_sq            df           F   PR(>F)\n",
            "C(property_type)   332045866871221.250000      3.000000 2207.101137 0.000000\n",
            "Residual         37087888945890144.000000 739567.000000         NaN      NaN\n"
          ]
        }
      ]
    },
    {
      "cell_type": "code",
      "source": [],
      "metadata": {
        "id": "5zyq5Bic2tFu"
      },
      "execution_count": null,
      "outputs": []
    },
    {
      "cell_type": "code",
      "source": [],
      "metadata": {
        "id": "_VS8w3uh2tIK"
      },
      "execution_count": null,
      "outputs": []
    },
    {
      "cell_type": "code",
      "source": [],
      "metadata": {
        "id": "ZXNhgSngxPuD"
      },
      "execution_count": null,
      "outputs": []
    },
    {
      "cell_type": "code",
      "source": [],
      "metadata": {
        "id": "eA_MBhA6xPwj"
      },
      "execution_count": null,
      "outputs": []
    },
    {
      "cell_type": "markdown",
      "source": [
        "# total_floors ( 建物總樓層 )\n",
        "\n",
        "> 建物總樓層的切分\n",
        "\n",
        "> - 1 - 2 樓\n",
        "\n",
        "> - 3 - 5 樓\n",
        "\n",
        "> - 6 - 10 樓\n",
        "\n",
        "> - 11 - 15 樓\n",
        "\n",
        "> - 16 - 20 樓\n",
        "\n",
        "> - 21 - 29 樓\n",
        "\n",
        "> - 30 樓以上"
      ],
      "metadata": {
        "id": "34jTjak156NZ"
      }
    },
    {
      "cell_type": "markdown",
      "source": [
        "## 使用所有資料 ( df )"
      ],
      "metadata": {
        "id": "YBLG9_5y-N7e"
      }
    },
    {
      "cell_type": "code",
      "source": [
        "df['total_floors_group'] = pd.cut(df['total_floors'],\n",
        "                    bins=[2, 5, 10, 15, 20, 29, 30, float('inf')],\n",
        "                    labels=['1-2 樓', '3-5 樓', '6-10 樓', '11-15 樓', '16-20 樓', '21-29 樓', '30 樓以上'], right=False)"
      ],
      "metadata": {
        "id": "Yg-lRKRS8akj"
      },
      "execution_count": null,
      "outputs": []
    },
    {
      "cell_type": "code",
      "source": [
        "df['total_floors_group'].value_counts()"
      ],
      "metadata": {
        "colab": {
          "base_uri": "https://localhost:8080/"
        },
        "id": "3x6STB1J94Js",
        "outputId": "d8ceb005-b7f0-405a-f863-504a103fc665"
      },
      "execution_count": null,
      "outputs": [
        {
          "output_type": "execute_result",
          "data": {
            "text/plain": [
              "total_floors_group\n",
              "3-5 樓      221506\n",
              "6-10 樓     219135\n",
              "11-15 樓    141709\n",
              "1-2 樓      106965\n",
              "16-20 樓     89881\n",
              "30 樓以上      12549\n",
              "21-29 樓      9070\n",
              "Name: count, dtype: int64"
            ]
          },
          "metadata": {},
          "execution_count": 145
        }
      ]
    },
    {
      "cell_type": "markdown",
      "source": [
        "> Levene's Test"
      ],
      "metadata": {
        "id": "1x8W8cay-KyX"
      }
    },
    {
      "cell_type": "code",
      "source": [
        "# 設定Pandas顯示浮點數的格式，這裡設置為顯示6位小數\n",
        "pd.options.display.float_format = '{:.6f}'.format\n",
        "\n",
        "# 將數據框按 'total_floors_group' 分組，並提取每組 'new_per_ping' 列的數值\n",
        "grouped = [group['new_per_ping'].values for name, group in df.groupby('total_floors_group')]\n",
        "\n",
        "# 使用 Levene's Test 檢查各組別之間的方差齊性\n",
        "levene_stat, levene_p = stats.levene(*grouped)\n",
        "\n",
        "# 打印 Levene's Test 的統計量和 p 值\n",
        "print(f\"Levene's test statistic: {levene_stat:.6f}, p-value: {levene_p:.6f}\")"
      ],
      "metadata": {
        "colab": {
          "base_uri": "https://localhost:8080/"
        },
        "id": "qDKVvEqW8anJ",
        "outputId": "9a3439d2-7a30-4c7e-de38-4c9276a6b9e6"
      },
      "execution_count": null,
      "outputs": [
        {
          "output_type": "stream",
          "name": "stdout",
          "text": [
            "Levene's test statistic: 1211.894898, p-value: 0.000000\n"
          ]
        }
      ]
    },
    {
      "cell_type": "markdown",
      "source": [
        "> Shapiro-Wilk test"
      ],
      "metadata": {
        "id": "iX0-VV0U-HcT"
      }
    },
    {
      "cell_type": "code",
      "source": [
        "# 設置顯示浮點數的格式為小數點後六位\n",
        "pd.options.display.float_format = '{:.6f}'.format\n",
        "\n",
        "# 創建一個空字典來存儲 Shapiro-Wilk 檢驗的結果\n",
        "shapiro_results = {}\n",
        "\n",
        "# 遍歷每個組別，按 'total_floors_group' 分組\n",
        "for name, group in df.groupby('total_floors_group'):\n",
        "    # 對每個組別中的 'new_per_ping' 列進行 Shapiro-Wilk 檢驗\n",
        "    shapiro_stat, shapiro_p = stats.shapiro(group['new_per_ping'])\n",
        "\n",
        "    # 將檢驗結果存儲在字典中，以組別名稱為鍵\n",
        "    shapiro_results[name] = (shapiro_stat, shapiro_p)\n",
        "\n",
        "    # 打印每個組別的 Shapiro-Wilk 檢驗統計量和 p 值\n",
        "    print(f\"Group {name}: Shapiro-Wilk test statistic: {shapiro_stat:.6f}, p-value: {shapiro_p:.6f}\")"
      ],
      "metadata": {
        "colab": {
          "base_uri": "https://localhost:8080/"
        },
        "id": "r2SwJumy8ap_",
        "outputId": "64ee09bc-1584-4ddd-9cd0-931bfeeebe56"
      },
      "execution_count": null,
      "outputs": [
        {
          "output_type": "stream",
          "name": "stdout",
          "text": [
            "Group 1-2 樓: Shapiro-Wilk test statistic: 0.786211, p-value: 0.000000\n",
            "Group 3-5 樓: Shapiro-Wilk test statistic: 0.887983, p-value: 0.000000\n",
            "Group 6-10 樓: Shapiro-Wilk test statistic: 0.881532, p-value: 0.000000\n",
            "Group 11-15 樓: Shapiro-Wilk test statistic: 0.873339, p-value: 0.000000\n",
            "Group 16-20 樓: Shapiro-Wilk test statistic: 0.847799, p-value: 0.000000\n",
            "Group 21-29 樓: Shapiro-Wilk test statistic: 0.894247, p-value: 0.000000\n",
            "Group 30 樓以上: Shapiro-Wilk test statistic: 0.734344, p-value: 0.000000\n"
          ]
        },
        {
          "output_type": "stream",
          "name": "stderr",
          "text": [
            "/usr/local/lib/python3.10/dist-packages/scipy/stats/_morestats.py:1882: UserWarning: p-value may not be accurate for N > 5000.\n",
            "  warnings.warn(\"p-value may not be accurate for N > 5000.\")\n"
          ]
        }
      ]
    },
    {
      "cell_type": "markdown",
      "source": [
        "> ANOVA"
      ],
      "metadata": {
        "id": "lwpVqMzq-FBP"
      }
    },
    {
      "cell_type": "code",
      "source": [
        "# 設置顯示浮點數的格式為小數點後六位\n",
        "pd.options.display.float_format = '{:.6f}'.format\n",
        "\n",
        "# 使用 one_way_anova 函數執行 ANOVA 分析\n",
        "anova_results = one_way_anova(df, 'total_floors_group', 'new_per_ping')\n",
        "\n",
        "# 打印 ANOVA 結果\n",
        "print(\"ANOVA Results for building_age_group:\\n\", anova_results)"
      ],
      "metadata": {
        "colab": {
          "base_uri": "https://localhost:8080/"
        },
        "id": "fMKMnvSI8atF",
        "outputId": "fc62b308-2ad0-4504-a8d7-eda89253c85b"
      },
      "execution_count": null,
      "outputs": [
        {
          "output_type": "stream",
          "name": "stdout",
          "text": [
            "ANOVA Results for building_age_group:\n",
            "                                         sum_sq            df          F  \\\n",
            "C(total_floors_group)   293218857739087.312500      6.000000 924.750379   \n",
            "Residual              42319890208818240.000000 800808.000000        NaN   \n",
            "\n",
            "                        PR(>F)  \n",
            "C(total_floors_group) 0.000000  \n",
            "Residual                   NaN  \n"
          ]
        }
      ]
    },
    {
      "cell_type": "markdown",
      "source": [
        "> 兩兩做 ANOVA\n",
        "\n",
        "> - Group 6-10 樓\n",
        "> - Group 11-15 樓\n",
        "> - Group 16-20 樓"
      ],
      "metadata": {
        "id": "lX5eifXlBiXE"
      }
    },
    {
      "cell_type": "markdown",
      "source": [
        "## 使用 住家用 & 住商用 分資料 ( usage_df )"
      ],
      "metadata": {
        "id": "x7F9RR0k-eAl"
      }
    },
    {
      "cell_type": "code",
      "source": [
        "# 過濾出 'detailed_usage_classification' 列值為 '住家用' 和 '住商用' 的資料\n",
        "usage_df = df[df['detailed_usage_classification'].isin(['住家用', '住商用'])]"
      ],
      "metadata": {
        "id": "qVz92yBN-f8C"
      },
      "execution_count": null,
      "outputs": []
    },
    {
      "cell_type": "code",
      "source": [
        "usage_df.value_counts('detailed_usage_classification')"
      ],
      "metadata": {
        "colab": {
          "base_uri": "https://localhost:8080/"
        },
        "id": "7XS67ohy-f-C",
        "outputId": "299cf9cf-15f2-4260-d363-7f5a735bca3d"
      },
      "execution_count": null,
      "outputs": [
        {
          "output_type": "execute_result",
          "data": {
            "text/plain": [
              "detailed_usage_classification\n",
              "住家用    697455\n",
              "住商用      5951\n",
              "Name: count, dtype: int64"
            ]
          },
          "metadata": {},
          "execution_count": 151
        }
      ]
    },
    {
      "cell_type": "code",
      "source": [
        "usage_df['total_floors_group'] = pd.cut(usage_df['total_floors'],\n",
        "                    bins=[2, 5, 10, 15, 20, 29, 30, float('inf')],\n",
        "                    labels=['1-2 樓', '3-5 樓', '6-10 樓', '11-15 樓', '16-20 樓', '21-29 樓', '30 樓以上'], right=False)"
      ],
      "metadata": {
        "colab": {
          "base_uri": "https://localhost:8080/"
        },
        "id": "6tmzE9Pa--h2",
        "outputId": "43af7b11-ea84-4e57-d8fa-a8675e001f66"
      },
      "execution_count": null,
      "outputs": [
        {
          "output_type": "stream",
          "name": "stderr",
          "text": [
            "<ipython-input-152-391c43418b7d>:1: SettingWithCopyWarning: \n",
            "A value is trying to be set on a copy of a slice from a DataFrame.\n",
            "Try using .loc[row_indexer,col_indexer] = value instead\n",
            "\n",
            "See the caveats in the documentation: https://pandas.pydata.org/pandas-docs/stable/user_guide/indexing.html#returning-a-view-versus-a-copy\n",
            "  usage_df['total_floors_group'] = pd.cut(usage_df['total_floors'],\n"
          ]
        }
      ]
    },
    {
      "cell_type": "code",
      "source": [
        "usage_df.value_counts('total_floors_group')"
      ],
      "metadata": {
        "colab": {
          "base_uri": "https://localhost:8080/"
        },
        "id": "QUmcpsRZ-_En",
        "outputId": "1f60c311-1be6-4817-fb61-079139c387dd"
      },
      "execution_count": null,
      "outputs": [
        {
          "output_type": "execute_result",
          "data": {
            "text/plain": [
              "total_floors_group\n",
              "3-5 樓      198070\n",
              "6-10 樓     180593\n",
              "11-15 樓    123719\n",
              "1-2 樓       97214\n",
              "16-20 樓     83281\n",
              "30 樓以上       9961\n",
              "21-29 樓      8440\n",
              "Name: count, dtype: int64"
            ]
          },
          "metadata": {},
          "execution_count": 153
        }
      ]
    },
    {
      "cell_type": "markdown",
      "source": [
        "> Levene's Test"
      ],
      "metadata": {
        "id": "h32xRSGe-x8s"
      }
    },
    {
      "cell_type": "code",
      "source": [
        "# 設定Pandas顯示浮點數的格式，這裡設置為顯示6位小數\n",
        "pd.options.display.float_format = '{:.6f}'.format\n",
        "\n",
        "# 將數據框按 'total_floors_group' 分組，並提取每組 'new_per_ping' 列的數值\n",
        "grouped = [group['new_per_ping'].values for name, group in usage_df.groupby('total_floors_group')]\n",
        "\n",
        "# 使用 Levene's Test 檢查各組別之間的方差齊性\n",
        "levene_stat, levene_p = stats.levene(*grouped)\n",
        "\n",
        "# 打印 Levene's Test 的統計量和 p 值\n",
        "print(f\"Levene's test statistic: {levene_stat:.6f}, p-value: {levene_p:.6f}\")"
      ],
      "metadata": {
        "colab": {
          "base_uri": "https://localhost:8080/"
        },
        "id": "hpeCshAi-gAI",
        "outputId": "176b7918-184d-4dc7-97bf-3c036b36fbf6"
      },
      "execution_count": null,
      "outputs": [
        {
          "output_type": "stream",
          "name": "stdout",
          "text": [
            "Levene's test statistic: 866.703511, p-value: 0.000000\n"
          ]
        }
      ]
    },
    {
      "cell_type": "markdown",
      "source": [
        "> Shapiro-Wilk test"
      ],
      "metadata": {
        "id": "XLd0zSYC_WEV"
      }
    },
    {
      "cell_type": "code",
      "source": [
        "# 設置顯示浮點數的格式為小數點後六位\n",
        "pd.options.display.float_format = '{:.6f}'.format\n",
        "\n",
        "# 創建一個空字典來存儲 Shapiro-Wilk 檢驗的結果\n",
        "shapiro_results = {}\n",
        "\n",
        "# 遍歷每個組別，按 'total_floors_group' 分組\n",
        "for name, group in usage_df.groupby('total_floors_group'):\n",
        "    # 對每個組別中的 'new_per_ping' 列進行 Shapiro-Wilk 檢驗\n",
        "    shapiro_stat, shapiro_p = stats.shapiro(group['new_per_ping'])\n",
        "\n",
        "    # 將檢驗結果存儲在字典中，以組別名稱為鍵\n",
        "    shapiro_results[name] = (shapiro_stat, shapiro_p)\n",
        "\n",
        "    # 打印每個組別的 Shapiro-Wilk 檢驗統計量和 p 值\n",
        "    print(f\"Group {name}: Shapiro-Wilk test statistic: {shapiro_stat:.6f}, p-value: {shapiro_p:.6f}\")"
      ],
      "metadata": {
        "colab": {
          "base_uri": "https://localhost:8080/"
        },
        "id": "diZhWBCH_DUp",
        "outputId": "fe1c531c-5796-49b8-a759-00e7ffca5541"
      },
      "execution_count": null,
      "outputs": [
        {
          "output_type": "stream",
          "name": "stdout",
          "text": [
            "Group 1-2 樓: Shapiro-Wilk test statistic: 0.805278, p-value: 0.000000\n",
            "Group 3-5 樓: Shapiro-Wilk test statistic: 0.907188, p-value: 0.000000\n",
            "Group 6-10 樓: Shapiro-Wilk test statistic: 0.899594, p-value: 0.000000\n",
            "Group 11-15 樓: Shapiro-Wilk test statistic: 0.877781, p-value: 0.000000\n",
            "Group 16-20 樓: Shapiro-Wilk test statistic: 0.841748, p-value: 0.000000\n",
            "Group 21-29 樓: Shapiro-Wilk test statistic: 0.910263, p-value: 0.000000\n",
            "Group 30 樓以上: Shapiro-Wilk test statistic: 0.749512, p-value: 0.000000\n"
          ]
        },
        {
          "output_type": "stream",
          "name": "stderr",
          "text": [
            "/usr/local/lib/python3.10/dist-packages/scipy/stats/_morestats.py:1882: UserWarning: p-value may not be accurate for N > 5000.\n",
            "  warnings.warn(\"p-value may not be accurate for N > 5000.\")\n"
          ]
        }
      ]
    },
    {
      "cell_type": "markdown",
      "source": [
        "> ANOVA"
      ],
      "metadata": {
        "id": "kzF70zfp_kCF"
      }
    },
    {
      "cell_type": "code",
      "source": [
        "# 設置顯示浮點數的格式為小數點後六位\n",
        "pd.options.display.float_format = '{:.6f}'.format\n",
        "\n",
        "# 使用 one_way_anova 函數執行 ANOVA 分析\n",
        "anova_results = one_way_anova(usage_df, 'total_floors_group', 'new_per_ping')\n",
        "\n",
        "# 打印 ANOVA 結果\n",
        "print(\"ANOVA Results for building_age_group:\\n\", anova_results)"
      ],
      "metadata": {
        "colab": {
          "base_uri": "https://localhost:8080/"
        },
        "id": "6HHiNpiM_DW2",
        "outputId": "ebe985b0-7d41-49da-b8b8-db864e90acb4"
      },
      "execution_count": null,
      "outputs": [
        {
          "output_type": "stream",
          "name": "stdout",
          "text": [
            "ANOVA Results for building_age_group:\n",
            "                                         sum_sq            df          F  \\\n",
            "C(total_floors_group)   230659633642373.156250      6.000000 813.138760   \n",
            "Residual              33154429884508652.000000 701271.000000        NaN   \n",
            "\n",
            "                        PR(>F)  \n",
            "C(total_floors_group) 0.000000  \n",
            "Residual                   NaN  \n"
          ]
        }
      ]
    },
    {
      "cell_type": "markdown",
      "source": [
        "> 兩兩做 ANOVA\n",
        "\n",
        "> - Group 6-10 樓\n",
        "> - Group 11-15 樓\n",
        "> - Group 16-20 樓"
      ],
      "metadata": {
        "id": "v4HmyUW0AwBK"
      }
    },
    {
      "cell_type": "code",
      "source": [
        "# 設定Pandas顯示浮點數的格式，這裡設置為顯示6位小數\n",
        "pd.options.display.float_format = '{:.6f}'.format\n",
        "\n",
        "# 創建一個函數來進行 ANOVA 分析並打印結果\n",
        "def perform_anova(data, groups, value_col):\n",
        "    for i in range(len(groups)):\n",
        "        for j in range(i + 1, len(groups)):\n",
        "            group_i = groups[i]\n",
        "            group_j = groups[j]\n",
        "            subset = data[data['total_floors_group'].isin([group_i, group_j])]\n",
        "            model = ols(f'{value_col} ~ C(total_floors_group)', data=subset).fit()\n",
        "            anova_results = sm.stats.anova_lm(model, typ=2)\n",
        "            print(f\"ANOVA Results for {group_i} vs {group_j}:\\n\", anova_results, \"\\n\")\n",
        "\n",
        "# 定義要進行 ANOVA 的分組\n",
        "groups_to_compare = ['6-10 樓', '11-15 樓', '16-20 樓']\n",
        "\n",
        "# 使用函數進行 ANOVA 分析\n",
        "perform_anova(usage_df, groups_to_compare, 'new_per_ping')"
      ],
      "metadata": {
        "colab": {
          "base_uri": "https://localhost:8080/"
        },
        "id": "e0rk6COtBjWr",
        "outputId": "a7e85270-aadd-491e-a1de-cd2eca5bc7ed"
      },
      "execution_count": null,
      "outputs": [
        {
          "output_type": "stream",
          "name": "stderr",
          "text": [
            "/usr/local/lib/python3.10/dist-packages/statsmodels/base/model.py:1894: ValueWarning: covariance of constraints does not have full rank. The number of constraints is 6, but rank is 1\n",
            "  warnings.warn('covariance of constraints does not have full '\n"
          ]
        },
        {
          "output_type": "stream",
          "name": "stdout",
          "text": [
            "ANOVA Results for 6-10 樓 vs 11-15 樓:\n",
            "                                         sum_sq            df        F   PR(>F)\n",
            "C(total_floors_group)       15834124734.457302      6.000000 0.061397 0.804301\n",
            "Residual              13080012771031338.000000 304309.000000      NaN      NaN \n",
            "\n"
          ]
        },
        {
          "output_type": "stream",
          "name": "stderr",
          "text": [
            "/usr/local/lib/python3.10/dist-packages/statsmodels/base/model.py:1894: ValueWarning: covariance of constraints does not have full rank. The number of constraints is 6, but rank is 1\n",
            "  warnings.warn('covariance of constraints does not have full '\n"
          ]
        },
        {
          "output_type": "stream",
          "name": "stdout",
          "text": [
            "ANOVA Results for 6-10 樓 vs 16-20 樓:\n",
            "                                         sum_sq            df        F   PR(>F)\n",
            "C(total_floors_group)      542456943877.269043      6.000000 2.017907 0.155454\n",
            "Residual              11822368378736572.000000 263871.000000      NaN      NaN \n",
            "\n",
            "ANOVA Results for 11-15 樓 vs 16-20 樓:\n",
            "                                        sum_sq            df        F   PR(>F)\n",
            "C(total_floors_group)    1273791331054.007812      6.000000 5.713434 0.016836\n",
            "Residual              7691549474354881.000000 206997.000000      NaN      NaN \n",
            "\n"
          ]
        },
        {
          "output_type": "stream",
          "name": "stderr",
          "text": [
            "/usr/local/lib/python3.10/dist-packages/statsmodels/base/model.py:1894: ValueWarning: covariance of constraints does not have full rank. The number of constraints is 6, but rank is 1\n",
            "  warnings.warn('covariance of constraints does not have full '\n"
          ]
        }
      ]
    },
    {
      "cell_type": "code",
      "source": [
        "# 定義要進行 ANOVA 的分組\n",
        "groups_to_compare_30 = ['16-20 樓', '21-29 樓', '30 樓以上']\n",
        "\n",
        "# 使用函數進行 ANOVA 分析\n",
        "perform_anova(usage_df, groups_to_compare_30, 'new_per_ping')"
      ],
      "metadata": {
        "colab": {
          "base_uri": "https://localhost:8080/"
        },
        "id": "YHVQoBiOCbFs",
        "outputId": "8cadac9f-4ab9-4756-b180-05344bb7d198"
      },
      "execution_count": null,
      "outputs": [
        {
          "output_type": "stream",
          "name": "stderr",
          "text": [
            "/usr/local/lib/python3.10/dist-packages/statsmodels/base/model.py:1894: ValueWarning: covariance of constraints does not have full rank. The number of constraints is 6, but rank is 1\n",
            "  warnings.warn('covariance of constraints does not have full '\n"
          ]
        },
        {
          "output_type": "stream",
          "name": "stdout",
          "text": [
            "ANOVA Results for 16-20 樓 vs 21-29 樓:\n",
            "                                        sum_sq           df        F   PR(>F)\n",
            "C(total_floors_group)     724237780134.274536     6.000000 3.220824 0.072710\n",
            "Residual              3437300165328643.000000 91718.000000      NaN      NaN \n",
            "\n",
            "ANOVA Results for 16-20 樓 vs 30 樓以上:\n",
            "                                        sum_sq           df        F   PR(>F)\n",
            "C(total_floors_group)       3774142704.992291     6.000000 0.013900 0.906147\n",
            "Residual              4219317730276513.500000 93240.000000      NaN      NaN \n",
            "\n",
            "ANOVA Results for 21-29 樓 vs 30 樓以上:\n",
            "                                        sum_sq           df         F   PR(>F)\n",
            "C(total_floors_group)    5536022437219.371094     6.000000 13.870594 0.000196\n",
            "Residual              1223833002897719.750000 18398.000000       NaN      NaN \n",
            "\n"
          ]
        },
        {
          "output_type": "stream",
          "name": "stderr",
          "text": [
            "/usr/local/lib/python3.10/dist-packages/statsmodels/base/model.py:1894: ValueWarning: covariance of constraints does not have full rank. The number of constraints is 6, but rank is 1\n",
            "  warnings.warn('covariance of constraints does not have full '\n",
            "/usr/local/lib/python3.10/dist-packages/statsmodels/base/model.py:1894: ValueWarning: covariance of constraints does not have full rank. The number of constraints is 6, but rank is 1\n",
            "  warnings.warn('covariance of constraints does not have full '\n"
          ]
        }
      ]
    },
    {
      "cell_type": "markdown",
      "source": [
        "> 像 ， p-value < 5%\n",
        "\n",
        "> - 6 - 20\n",
        "\n",
        "> - 21 - 30"
      ],
      "metadata": {
        "id": "lB5P99oAEHZT"
      }
    },
    {
      "cell_type": "code",
      "source": [
        "# 過濾出 'detailed_usage_classification' 列值為 '住家用' 和 '住商用' 的資料\n",
        "usage_df = df[df['detailed_usage_classification'].isin(['住家用', '住商用'])]"
      ],
      "metadata": {
        "id": "XMPjywhvE6Ah"
      },
      "execution_count": null,
      "outputs": []
    },
    {
      "cell_type": "code",
      "source": [
        "# 將 'total_floors' 分組\n",
        "usage_df['total_floors_group'] = pd.cut(usage_df['total_floors'],\n",
        "                    bins=[1, 5, 30, float('inf')],\n",
        "                    labels=['1-5 樓', '6-29 樓', '30 樓以上'], right=False)"
      ],
      "metadata": {
        "colab": {
          "base_uri": "https://localhost:8080/"
        },
        "id": "Rn-QpYc3CbRN",
        "outputId": "17bcec5d-ca0c-48f7-b1dd-578675b3d6b3"
      },
      "execution_count": null,
      "outputs": [
        {
          "output_type": "stream",
          "name": "stderr",
          "text": [
            "<ipython-input-188-d3108997866b>:2: SettingWithCopyWarning: \n",
            "A value is trying to be set on a copy of a slice from a DataFrame.\n",
            "Try using .loc[row_indexer,col_indexer] = value instead\n",
            "\n",
            "See the caveats in the documentation: https://pandas.pydata.org/pandas-docs/stable/user_guide/indexing.html#returning-a-view-versus-a-copy\n",
            "  usage_df['total_floors_group'] = pd.cut(usage_df['total_floors'],\n"
          ]
        }
      ]
    },
    {
      "cell_type": "code",
      "source": [
        "# 設定Pandas顯示浮點數的格式，這裡設置為顯示6位小數\n",
        "pd.options.display.float_format = '{:.6f}'.format\n",
        "\n",
        "# 創建一個函數來進行 ANOVA 分析並打印結果\n",
        "def perform_anova(data, groups, value_col):\n",
        "    for i in range(len(groups)):\n",
        "        for j in range(i + 1, len(groups)):\n",
        "            group_i = groups[i]\n",
        "            group_j = groups[j]\n",
        "            subset = data[data['total_floors_group'].isin([group_i, group_j])]\n",
        "            model = ols(f'{value_col} ~ C(total_floors_group)', data=subset).fit()\n",
        "            anova_results = sm.stats.anova_lm(model, typ=2)\n",
        "            print(f\"ANOVA Results for {group_i} vs {group_j}:\\n\", anova_results, \"\\n\")\n",
        "\n",
        "# 定義要進行 ANOVA 的分組\n",
        "groups_to_compare_30 = ['1-5 樓', '6-29 樓', '30 樓以上']\n",
        "\n",
        "# 使用函數進行 ANOVA 分析\n",
        "perform_anova(usage_df, groups_to_compare_30, 'new_per_ping')"
      ],
      "metadata": {
        "colab": {
          "base_uri": "https://localhost:8080/"
        },
        "id": "DY9u3EGBEq9f",
        "outputId": "77c06587-32a4-46cc-e104-f4eb45e01e1a"
      },
      "execution_count": null,
      "outputs": [
        {
          "output_type": "stream",
          "name": "stderr",
          "text": [
            "/usr/local/lib/python3.10/dist-packages/statsmodels/base/model.py:1894: ValueWarning: covariance of constraints does not have full rank. The number of constraints is 2, but rank is 1\n",
            "  warnings.warn('covariance of constraints does not have full '\n"
          ]
        },
        {
          "output_type": "stream",
          "name": "stdout",
          "text": [
            "ANOVA Results for 1-5 樓 vs 6-29 樓:\n",
            "                                         sum_sq            df          F  \\\n",
            "C(total_floors_group)    62209246074551.312500      2.000000 651.677833   \n",
            "Residual              33047721793302320.000000 692388.000000        NaN   \n",
            "\n",
            "                        PR(>F)  \n",
            "C(total_floors_group) 0.000000  \n",
            "Residual                   NaN   \n",
            "\n"
          ]
        },
        {
          "output_type": "stream",
          "name": "stderr",
          "text": [
            "/usr/local/lib/python3.10/dist-packages/statsmodels/base/model.py:1894: ValueWarning: covariance of constraints does not have full rank. The number of constraints is 2, but rank is 1\n",
            "  warnings.warn('covariance of constraints does not have full '\n"
          ]
        },
        {
          "output_type": "stream",
          "name": "stdout",
          "text": [
            "ANOVA Results for 1-5 樓 vs 30 樓以上:\n",
            "                                        sum_sq            df          F  \\\n",
            "C(total_floors_group)  153379827480540.937500      2.000000 981.802218   \n",
            "Residual              8455243070270974.000000 108246.000000        NaN   \n",
            "\n",
            "                        PR(>F)  \n",
            "C(total_floors_group) 0.000000  \n",
            "Residual                   NaN   \n",
            "\n",
            "ANOVA Results for 6-29 樓 vs 30 樓以上:\n",
            "                                          sum_sq            df              F  \\\n",
            "C(total_floors_group) 100087032178352256.000000      2.000000 1136549.740579   \n",
            "Residual               26597460096157808.000000 604061.000000            NaN   \n",
            "\n",
            "                        PR(>F)  \n",
            "C(total_floors_group) 0.000000  \n",
            "Residual                   NaN   \n",
            "\n"
          ]
        }
      ]
    },
    {
      "cell_type": "code",
      "source": [],
      "metadata": {
        "id": "d9K4xC0R_DY-"
      },
      "execution_count": null,
      "outputs": []
    },
    {
      "cell_type": "markdown",
      "source": [
        "# 購買樓層 v.s. 總樓層\n",
        "\n",
        "> 這裡用 T - test > 可能不行"
      ],
      "metadata": {
        "id": "KB3HE5tgHLAf"
      }
    },
    {
      "cell_type": "code",
      "source": [
        "# 過濾掉 NaN 值\n",
        "df_filtered = df.dropna(subset=['target_floor', 'total_floors'])\n",
        "\n",
        "# 執行配對樣本 t 檢驗\n",
        "t_stat, p_value = stats.ttest_rel(df_filtered['target_floor'], df_filtered['total_floors'])\n",
        "\n",
        "# 打印 t 檢驗的結果\n",
        "print(f\"Paired t-test statistic: {t_stat:.6f}\")\n",
        "print(f\"p-value: {p_value:.6f}\")"
      ],
      "metadata": {
        "colab": {
          "base_uri": "https://localhost:8080/"
        },
        "id": "50zSJuQf_DbI",
        "outputId": "6f1577a9-7531-4573-c900-8b1fd0b315ab"
      },
      "execution_count": null,
      "outputs": [
        {
          "output_type": "stream",
          "name": "stdout",
          "text": [
            "Paired t-test statistic: -920.523740\n",
            "p-value: 0.000000\n"
          ]
        }
      ]
    },
    {
      "cell_type": "markdown",
      "source": [
        "# target_floor ( 購買樓層 )"
      ],
      "metadata": {
        "id": "0i3vIP3mIUXy"
      }
    },
    {
      "cell_type": "markdown",
      "source": [
        "## 使用所有資料 ( df )"
      ],
      "metadata": {
        "id": "LYTI6WfNJ4Kq"
      }
    },
    {
      "cell_type": "code",
      "source": [
        "df['target_floor_group'] = pd.cut(df['target_floor'],\n",
        "                  bins=[2, 5, 10, 15, 20, 29, 30, float('inf')],\n",
        "                  labels=['1-2 樓', '3-5 樓', '6-10 樓', '11-15 樓',\n",
        "                    '16-20 樓', '21-29 樓', '30 樓以上'],\n",
        "                  right=False)"
      ],
      "metadata": {
        "id": "D9vrgdEa_DdU"
      },
      "execution_count": null,
      "outputs": []
    },
    {
      "cell_type": "code",
      "source": [
        "df['target_floor_group'].value_counts()"
      ],
      "metadata": {
        "colab": {
          "base_uri": "https://localhost:8080/"
        },
        "id": "KvwFXTu4_DfX",
        "outputId": "62ab0760-c864-41f2-8eef-ee713d4f5518"
      },
      "execution_count": null,
      "outputs": [
        {
          "output_type": "execute_result",
          "data": {
            "text/plain": [
              "target_floor_group\n",
              "1-2 樓      268446\n",
              "3-5 樓      242963\n",
              "6-10 樓     131031\n",
              "11-15 樓     43606\n",
              "16-20 樓     22494\n",
              "30 樓以上       1866\n",
              "21-29 樓       652\n",
              "Name: count, dtype: int64"
            ]
          },
          "metadata": {},
          "execution_count": 174
        }
      ]
    },
    {
      "cell_type": "markdown",
      "source": [
        "> Levene's Test"
      ],
      "metadata": {
        "id": "L4gKZAYjK1Wc"
      }
    },
    {
      "cell_type": "code",
      "source": [
        "# 設定Pandas顯示浮點數的格式，這裡設置為顯示6位小數\n",
        "pd.options.display.float_format = '{:.6f}'.format\n",
        "\n",
        "# 將數據框按 'target_floor_group' 分組，並提取每組 'new_per_ping' 列的數值\n",
        "grouped = [group['new_per_ping'].values for name, group in df.groupby('target_floor_group')]\n",
        "\n",
        "# 使用 Levene's Test 檢查各組別之間的方差齊性\n",
        "levene_stat, levene_p = stats.levene(*grouped)\n",
        "\n",
        "# 打印 Levene's Test 的統計量和 p 值\n",
        "print(f\"Levene's test statistic: {levene_stat:.6f}, p-value: {levene_p:.6f}\")"
      ],
      "metadata": {
        "colab": {
          "base_uri": "https://localhost:8080/"
        },
        "id": "c16p3Dg6_Dhq",
        "outputId": "d6ff8bf4-27d5-48ee-cc67-8dabb4e8166e"
      },
      "execution_count": null,
      "outputs": [
        {
          "output_type": "stream",
          "name": "stdout",
          "text": [
            "Levene's test statistic: 202.200758, p-value: 0.000000\n"
          ]
        }
      ]
    },
    {
      "cell_type": "markdown",
      "source": [
        "> Shapiro-Wilk test"
      ],
      "metadata": {
        "id": "CFB2Q0jBK6rV"
      }
    },
    {
      "cell_type": "code",
      "source": [
        "# 設置顯示浮點數的格式為小數點後六位\n",
        "pd.options.display.float_format = '{:.6f}'.format\n",
        "\n",
        "# 創建一個空字典來存儲 Shapiro-Wilk 檢驗的結果\n",
        "shapiro_results = {}\n",
        "\n",
        "# 遍歷每個組別，按 'target_floor_group' 分組\n",
        "for name, group in df.groupby('target_floor_group'):\n",
        "    # 對每個組別中的 'new_per_ping' 列進行 Shapiro-Wilk 檢驗\n",
        "    shapiro_stat, shapiro_p = stats.shapiro(group['new_per_ping'])\n",
        "\n",
        "    # 將檢驗結果存儲在字典中，以組別名稱為鍵\n",
        "    shapiro_results[name] = (shapiro_stat, shapiro_p)\n",
        "\n",
        "    # 打印每個組別的 Shapiro-Wilk 檢驗統計量和 p 值\n",
        "    print(f\"Group {name}: Shapiro-Wilk test statistic: {shapiro_stat:.6f}, p-value: {shapiro_p:.6f}\")"
      ],
      "metadata": {
        "colab": {
          "base_uri": "https://localhost:8080/"
        },
        "id": "nqhwKtmvKbuG",
        "outputId": "06565add-2f97-423a-fead-e93407468fae"
      },
      "execution_count": null,
      "outputs": [
        {
          "output_type": "stream",
          "name": "stdout",
          "text": [
            "Group 1-2 樓: Shapiro-Wilk test statistic: 0.918866, p-value: 0.000000\n",
            "Group 3-5 樓: Shapiro-Wilk test statistic: 0.907564, p-value: 0.000000\n",
            "Group 6-10 樓: Shapiro-Wilk test statistic: 0.882685, p-value: 0.000000\n",
            "Group 11-15 樓: Shapiro-Wilk test statistic: 0.845975, p-value: 0.000000\n",
            "Group 16-20 樓: Shapiro-Wilk test statistic: 0.786159, p-value: 0.000000\n",
            "Group 21-29 樓: Shapiro-Wilk test statistic: 0.762048, p-value: 0.000000\n",
            "Group 30 樓以上: Shapiro-Wilk test statistic: 0.665461, p-value: 0.000000\n"
          ]
        },
        {
          "output_type": "stream",
          "name": "stderr",
          "text": [
            "/usr/local/lib/python3.10/dist-packages/scipy/stats/_morestats.py:1882: UserWarning: p-value may not be accurate for N > 5000.\n",
            "  warnings.warn(\"p-value may not be accurate for N > 5000.\")\n"
          ]
        }
      ]
    },
    {
      "cell_type": "code",
      "source": [
        "# 設置顯示浮點數的格式為小數點後六位\n",
        "pd.options.display.float_format = '{:.6f}'.format\n",
        "\n",
        "# 使用 one_way_anova 函數執行 ANOVA 分析\n",
        "anova_results = one_way_anova(df, 'target_floor_group', 'new_per_ping')\n",
        "\n",
        "# 打印 ANOVA 結果\n",
        "print(\"ANOVA Results for building_age_group:\\n\", anova_results)"
      ],
      "metadata": {
        "colab": {
          "base_uri": "https://localhost:8080/"
        },
        "id": "X24wN4PkKbwj",
        "outputId": "b22013c7-2868-46f0-ca2a-949ef07690c9"
      },
      "execution_count": null,
      "outputs": [
        {
          "output_type": "stream",
          "name": "stdout",
          "text": [
            "ANOVA Results for building_age_group:\n",
            "                                         sum_sq            df          F  \\\n",
            "C(target_floor_group)   112488574993454.109375      6.000000 433.527118   \n",
            "Residual              30749754123805104.000000 711051.000000        NaN   \n",
            "\n",
            "                        PR(>F)  \n",
            "C(target_floor_group) 0.000000  \n",
            "Residual                   NaN  \n"
          ]
        }
      ]
    },
    {
      "cell_type": "markdown",
      "source": [
        "## 使用 住家用 & 住商用 分資料 ( usage_df )"
      ],
      "metadata": {
        "id": "jJanLbQbJ6gY"
      }
    },
    {
      "cell_type": "code",
      "source": [
        "# 過濾出 'detailed_usage_classification' 列值為 '住家用' 和 '住商用' 的資料\n",
        "usage_df = df[df['detailed_usage_classification'].isin(['住家用', '住商用'])]"
      ],
      "metadata": {
        "id": "fV6vjImULhqU"
      },
      "execution_count": null,
      "outputs": []
    },
    {
      "cell_type": "code",
      "source": [
        "# 將 'target_floor_group' 分組\n",
        "usage_df['target_floor_group'] = pd.cut(usage_df['target_floor'],\n",
        "                    bins=[1, 5, 30, float('inf')],\n",
        "                    labels=['1-5 樓', '6-29 樓', '30 樓以上'], right=False)"
      ],
      "metadata": {
        "colab": {
          "base_uri": "https://localhost:8080/"
        },
        "id": "VCTHQZwaLhsi",
        "outputId": "a81f5a13-2d48-4683-8aef-de8e8f9d830c"
      },
      "execution_count": null,
      "outputs": [
        {
          "output_type": "stream",
          "name": "stderr",
          "text": [
            "<ipython-input-184-2a19668f584a>:2: SettingWithCopyWarning: \n",
            "A value is trying to be set on a copy of a slice from a DataFrame.\n",
            "Try using .loc[row_indexer,col_indexer] = value instead\n",
            "\n",
            "See the caveats in the documentation: https://pandas.pydata.org/pandas-docs/stable/user_guide/indexing.html#returning-a-view-versus-a-copy\n",
            "  usage_df['target_floor_group'] = pd.cut(usage_df['target_floor'],\n"
          ]
        }
      ]
    },
    {
      "cell_type": "markdown",
      "source": [
        "> Levene's Test"
      ],
      "metadata": {
        "id": "iBBqExuIOaVI"
      }
    },
    {
      "cell_type": "code",
      "source": [
        "# 設定Pandas顯示浮點數的格式，這裡設置為顯示6位小數\n",
        "pd.options.display.float_format = '{:.6f}'.format\n",
        "\n",
        "# 將數據框按 'target_floor_group' 分組，並提取每組 'new_per_ping' 列的數值\n",
        "grouped = [group['new_per_ping'].values for name, group in usage_df.groupby('target_floor_group')]\n",
        "\n",
        "# 使用 Levene's Test 檢查各組別之間的方差齊性\n",
        "levene_stat, levene_p = stats.levene(*grouped)\n",
        "\n",
        "# 打印 Levene's Test 的統計量和 p 值\n",
        "print(f\"Levene's test statistic: {levene_stat:.6f}, p-value: {levene_p:.6f}\")"
      ],
      "metadata": {
        "colab": {
          "base_uri": "https://localhost:8080/"
        },
        "id": "kqKFj2gIODaM",
        "outputId": "f54a0036-37ba-4155-b4ec-3c6a9f50bd7d"
      },
      "execution_count": null,
      "outputs": [
        {
          "output_type": "stream",
          "name": "stdout",
          "text": [
            "Levene's test statistic: 275.898395, p-value: 0.000000\n"
          ]
        }
      ]
    },
    {
      "cell_type": "markdown",
      "source": [
        ">　Shapiro-Wilk test"
      ],
      "metadata": {
        "id": "1v4mIVnXOdms"
      }
    },
    {
      "cell_type": "code",
      "source": [
        "# 設置顯示浮點數的格式為小數點後六位\n",
        "pd.options.display.float_format = '{:.6f}'.format\n",
        "\n",
        "# 創建一個空字典來存儲 Shapiro-Wilk 檢驗的結果\n",
        "shapiro_results = {}\n",
        "\n",
        "# 遍歷每個組別，按 'target_floor_group' 分組\n",
        "for name, group in usage_df.groupby('target_floor_group'):\n",
        "    # 對每個組別中的 'new_per_ping' 列進行 Shapiro-Wilk 檢驗\n",
        "    shapiro_stat, shapiro_p = stats.shapiro(group['new_per_ping'])\n",
        "\n",
        "    # 將檢驗結果存儲在字典中，以組別名稱為鍵\n",
        "    shapiro_results[name] = (shapiro_stat, shapiro_p)\n",
        "\n",
        "    # 打印每個組別的 Shapiro-Wilk 檢驗統計量和 p 值\n",
        "    print(f\"Group {name}: Shapiro-Wilk test statistic: {shapiro_stat:.6f}, p-value: {shapiro_p:.6f}\")"
      ],
      "metadata": {
        "colab": {
          "base_uri": "https://localhost:8080/"
        },
        "id": "P1xi5LQ_OI-i",
        "outputId": "24252085-935c-4a45-b592-b68264efd484"
      },
      "execution_count": null,
      "outputs": [
        {
          "output_type": "stream",
          "name": "stdout",
          "text": [
            "Group 1-5 樓: Shapiro-Wilk test statistic: 0.833734, p-value: 0.000000\n",
            "Group 6-29 樓: Shapiro-Wilk test statistic: 0.886789, p-value: 0.000000\n",
            "Group 30 樓以上: Shapiro-Wilk test statistic: 0.690005, p-value: 0.000000\n"
          ]
        },
        {
          "output_type": "stream",
          "name": "stderr",
          "text": [
            "/usr/local/lib/python3.10/dist-packages/scipy/stats/_morestats.py:1882: UserWarning: p-value may not be accurate for N > 5000.\n",
            "  warnings.warn(\"p-value may not be accurate for N > 5000.\")\n"
          ]
        }
      ]
    },
    {
      "cell_type": "markdown",
      "source": [
        "> 分組比對的 ANOVA"
      ],
      "metadata": {
        "id": "m96FoSogOhpc"
      }
    },
    {
      "cell_type": "code",
      "source": [
        "# 創建一個函數來進行 ANOVA 分析並打印結果\n",
        "def target_perform_anova(data, groups, value_col):\n",
        "    for i in range(len(groups)):\n",
        "        for j in range(i + 1, len(groups)):\n",
        "            group_i = groups[i]\n",
        "            group_j = groups[j]\n",
        "            subset = data[data['target_floor_group'].isin([group_i, group_j])]\n",
        "            model = ols(f'{value_col} ~ C(target_floor_group)', data=subset).fit()\n",
        "            anova_results = sm.stats.anova_lm(model, typ=2)\n",
        "            print(f\"ANOVA Results for {group_i} vs {group_j}:\\n\", anova_results, \"\\n\")\n",
        "\n",
        "# 定義要進行 ANOVA 的分組\n",
        "groups_to_compare_30 = ['1-5 樓', '6-29 樓', '30 樓以上']\n",
        "\n",
        "# 使用函數進行 ANOVA 分析\n",
        "target_perform_anova(usage_df, groups_to_compare_30, 'new_per_ping')"
      ],
      "metadata": {
        "colab": {
          "base_uri": "https://localhost:8080/"
        },
        "id": "cQ6pBXkyKbyd",
        "outputId": "bd8a6ff7-b72e-4345-850e-54797be7bbce"
      },
      "execution_count": null,
      "outputs": [
        {
          "output_type": "stream",
          "name": "stderr",
          "text": [
            "/usr/local/lib/python3.10/dist-packages/statsmodels/base/model.py:1894: ValueWarning: covariance of constraints does not have full rank. The number of constraints is 2, but rank is 1\n",
            "  warnings.warn('covariance of constraints does not have full '\n"
          ]
        },
        {
          "output_type": "stream",
          "name": "stdout",
          "text": [
            "ANOVA Results for 1-5 樓 vs 6-29 樓:\n",
            "                                         sum_sq            df         F  \\\n",
            "C(target_floor_group)     2765993236010.691406      2.000000 28.319900   \n",
            "Residual              34159404925961056.000000 699489.000000       NaN   \n",
            "\n",
            "                        PR(>F)  \n",
            "C(target_floor_group) 0.000000  \n",
            "Residual                   NaN   \n",
            "\n"
          ]
        },
        {
          "output_type": "stream",
          "name": "stderr",
          "text": [
            "/usr/local/lib/python3.10/dist-packages/statsmodels/base/model.py:1894: ValueWarning: covariance of constraints does not have full rank. The number of constraints is 2, but rank is 1\n",
            "  warnings.warn('covariance of constraints does not have full '\n"
          ]
        },
        {
          "output_type": "stream",
          "name": "stdout",
          "text": [
            "ANOVA Results for 1-5 樓 vs 30 樓以上:\n",
            "                                         sum_sq            df          F  \\\n",
            "C(target_floor_group)    74061838777730.218750      2.000000 669.185190   \n",
            "Residual              16920272993932058.000000 305766.000000        NaN   \n",
            "\n",
            "                        PR(>F)  \n",
            "C(target_floor_group) 0.000000  \n",
            "Residual                   NaN   \n",
            "\n",
            "ANOVA Results for 6-29 樓 vs 30 樓以上:\n",
            "                                         sum_sq            df             F  \\\n",
            "C(target_floor_group) 67060844373743784.000000      2.000000 755698.870288   \n",
            "Residual              17597574557774548.000000 396609.000000           NaN   \n",
            "\n",
            "                        PR(>F)  \n",
            "C(target_floor_group) 0.000000  \n",
            "Residual                   NaN   \n",
            "\n"
          ]
        }
      ]
    },
    {
      "cell_type": "markdown",
      "source": [
        "# total_area_ping"
      ],
      "metadata": {
        "id": "245Yd6jyAXUw"
      }
    },
    {
      "cell_type": "markdown",
      "source": [
        "## 使用 住家用 & 住商用 分資料 ( usage_df )"
      ],
      "metadata": {
        "id": "rNeIa-QSS5vo"
      }
    },
    {
      "cell_type": "code",
      "source": [
        "# 過濾出 'detailed_usage_classification' 列值為 '住家用' 和 '住商用' 的資料\n",
        "usage_df = df[df['detailed_usage_classification'].isin(['住家用', '住商用'])]"
      ],
      "metadata": {
        "id": "V7WtXzqjPYx0"
      },
      "execution_count": null,
      "outputs": []
    },
    {
      "cell_type": "code",
      "source": [
        "# 將 'total_area_ping' 分組\n",
        "usage_df['total_area_ping_group'] = pd.cut(usage_df['total_area_ping'],\n",
        "                    bins=[1, 25, 60, 100, float('inf')],\n",
        "                    labels=['1-25 坪', '26-60 樓', '61-100 樓','100 樓以上'], right=False)"
      ],
      "metadata": {
        "colab": {
          "base_uri": "https://localhost:8080/"
        },
        "id": "m82vYzDwS9Hl",
        "outputId": "f7386e64-0b56-4d94-fb42-e4297fb4efed"
      },
      "execution_count": null,
      "outputs": [
        {
          "output_type": "stream",
          "name": "stderr",
          "text": [
            "<ipython-input-206-8a4dfaaf7d09>:2: SettingWithCopyWarning: \n",
            "A value is trying to be set on a copy of a slice from a DataFrame.\n",
            "Try using .loc[row_indexer,col_indexer] = value instead\n",
            "\n",
            "See the caveats in the documentation: https://pandas.pydata.org/pandas-docs/stable/user_guide/indexing.html#returning-a-view-versus-a-copy\n",
            "  usage_df['total_area_ping_group'] = pd.cut(usage_df['total_area_ping'],\n"
          ]
        }
      ]
    },
    {
      "cell_type": "code",
      "source": [
        "# 將數據框按 'total_area_ping_group' 分組，並提取每組 'new_per_ping' 列的數值\n",
        "grouped_area = [group['new_per_ping'].values for name, group in usage_df.groupby('total_area_ping_group')]\n",
        "\n",
        "# 使用 Levene's Test 檢查各組別之間的方差齊性\n",
        "levene_stat_area, levene_p_area = stats.levene(*grouped_area)\n",
        "\n",
        "# 打印 Levene's Test 的統計量和 p 值\n",
        "print(f\"Levene's test statistic for total_area_ping_group: {levene_stat_area:.6f}, p-value: {levene_p_area:.6f}\")\n"
      ],
      "metadata": {
        "colab": {
          "base_uri": "https://localhost:8080/"
        },
        "id": "oqaSM2hITqgW",
        "outputId": "39624538-6614-4b5d-cbd7-31d5287383d2"
      },
      "execution_count": null,
      "outputs": [
        {
          "output_type": "stream",
          "name": "stdout",
          "text": [
            "Levene's test statistic for total_area_ping_group: 5414.600238, p-value: 0.000000\n"
          ]
        }
      ]
    },
    {
      "cell_type": "code",
      "source": [
        "# 創建一個空字典來存儲 Shapiro-Wilk 檢驗的結果\n",
        "shapiro_results_area = {}\n",
        "\n",
        "# 遍歷每個組別，按 'total_area_ping_group' 分組\n",
        "for name, group in usage_df.groupby('total_area_ping_group'):\n",
        "    # 對每個組別中的 'new_per_ping' 列進行 Shapiro-Wilk 檢驗\n",
        "    shapiro_stat_area, shapiro_p_area = stats.shapiro(group['new_per_ping'])\n",
        "\n",
        "    # 將檢驗結果存儲在字典中，以組別名稱為鍵\n",
        "    shapiro_results_area[name] = (shapiro_stat_area, shapiro_p_area)\n",
        "\n",
        "    # 打印每個組別的 Shapiro-Wilk 檢驗統計量和 p 值\n",
        "    print(f\"Group {name}: Shapiro-Wilk test statistic: {shapiro_stat_area:.6f}, p-value: {shapiro_p_area:.6f}\")\n"
      ],
      "metadata": {
        "colab": {
          "base_uri": "https://localhost:8080/"
        },
        "id": "-6RHEs2ZTqix",
        "outputId": "21298286-d4ad-4753-9efd-d37053ae3972"
      },
      "execution_count": null,
      "outputs": [
        {
          "output_type": "stream",
          "name": "stdout",
          "text": [
            "Group 1-25 坪: Shapiro-Wilk test statistic: 0.882572, p-value: 0.000000\n",
            "Group 26-60 樓: Shapiro-Wilk test statistic: 0.871510, p-value: 0.000000\n",
            "Group 61-100 樓: Shapiro-Wilk test statistic: 0.896135, p-value: 0.000000\n",
            "Group 100 樓以上: Shapiro-Wilk test statistic: 0.831286, p-value: 0.000000\n"
          ]
        },
        {
          "output_type": "stream",
          "name": "stderr",
          "text": [
            "/usr/local/lib/python3.10/dist-packages/scipy/stats/_morestats.py:1882: UserWarning: p-value may not be accurate for N > 5000.\n",
            "  warnings.warn(\"p-value may not be accurate for N > 5000.\")\n"
          ]
        }
      ]
    },
    {
      "cell_type": "code",
      "source": [
        "# 將 'total_area_ping' 分組並使用正確的標籤\n",
        "usage_df['total_area_ping_group'] = pd.cut(usage_df['total_area_ping'],\n",
        "                                           bins=[1, 25, 60, 100, float('inf')],\n",
        "                                           labels=['1-25 坪', '26-60 坪', '61-100 坪', '100 坪以上'],\n",
        "                                           right=False)\n",
        "\n",
        "# 檢查分組結果\n",
        "print(usage_df['total_area_ping_group'].value_counts())\n",
        "\n"
      ],
      "metadata": {
        "colab": {
          "base_uri": "https://localhost:8080/"
        },
        "id": "im5zKA0eVKpC",
        "outputId": "7a9224db-2a3a-4bab-e54d-20cb11cfda49"
      },
      "execution_count": null,
      "outputs": [
        {
          "output_type": "stream",
          "name": "stdout",
          "text": [
            "total_area_ping_group\n",
            "26-60 坪     437108\n",
            "1-25 坪      174784\n",
            "61-100 坪     75602\n",
            "100 坪以上      15912\n",
            "Name: count, dtype: int64\n"
          ]
        },
        {
          "output_type": "stream",
          "name": "stderr",
          "text": [
            "<ipython-input-212-c1d8f6c658a7>:2: SettingWithCopyWarning: \n",
            "A value is trying to be set on a copy of a slice from a DataFrame.\n",
            "Try using .loc[row_indexer,col_indexer] = value instead\n",
            "\n",
            "See the caveats in the documentation: https://pandas.pydata.org/pandas-docs/stable/user_guide/indexing.html#returning-a-view-versus-a-copy\n",
            "  usage_df['total_area_ping_group'] = pd.cut(usage_df['total_area_ping'],\n"
          ]
        }
      ]
    },
    {
      "cell_type": "code",
      "source": [
        "import pandas as pd\n",
        "import numpy as np\n",
        "from scipy import stats\n",
        "import statsmodels.api as sm\n",
        "from statsmodels.formula.api import ols\n",
        "\n",
        "# 設定Pandas顯示浮點數的格式，這裡設置為顯示6位小數\n",
        "pd.options.display.float_format = '{:.6f}'.format\n",
        "\n",
        "# 確保分組標籤正確\n",
        "usage_df['total_area_ping_group'] = pd.cut(usage_df['total_area_ping'],\n",
        "                                           bins=[1, 25, 60, 100, float('inf')],\n",
        "                                           labels=['1-25 坪', '26-60 坪', '61-100 坪', '100 坪以上'],\n",
        "                                           right=False)\n",
        "\n",
        "# 檢查每個分組的樣本數量\n",
        "group_counts = usage_df['total_area_ping_group'].value_counts()\n",
        "print(group_counts)\n",
        "\n",
        "# 創建函數來進行 ANOVA 分析並打印結果\n",
        "def area_perform_anova(data, groups, value_col):\n",
        "    for i in range(len(groups)):\n",
        "        for j in range(i + 1, len(groups)):\n",
        "            group_i = groups[i]\n",
        "            group_j = groups[j]\n",
        "            subset = data[data['total_area_ping_group'].isin([group_i, group_j])]\n",
        "            if len(subset) < 2 or subset['total_area_ping_group'].nunique() < 2:\n",
        "                print(f\"Skipping ANOVA for {group_i} vs {group_j} due to insufficient data.\")\n",
        "                continue\n",
        "            model = ols(f'{value_col} ~ C(total_area_ping_group)', data=subset).fit()\n",
        "            anova_results = sm.stats.anova_lm(model, typ=2)\n",
        "            print(f\"ANOVA Results for {group_i} vs {group_j}:\\n\", anova_results, \"\\n\")\n",
        "\n",
        "# 定義要進行 ANOVA 的分組\n",
        "groups_to_compare_area = ['1-25 坪', '26-60 坪', '61-100 坪', '100 坪以上']\n",
        "\n",
        "# 使用函數進行 ANOVA 分析\n",
        "area_perform_anova(usage_df, groups_to_compare_area, 'new_per_ping')\n",
        "\n"
      ],
      "metadata": {
        "colab": {
          "base_uri": "https://localhost:8080/"
        },
        "id": "HNUfQ8BmTqnJ",
        "outputId": "fc477436-f32f-4c36-caa1-512664d7272e"
      },
      "execution_count": null,
      "outputs": [
        {
          "output_type": "stream",
          "name": "stderr",
          "text": [
            "<ipython-input-214-b2ab1b6e26e6>:11: SettingWithCopyWarning: \n",
            "A value is trying to be set on a copy of a slice from a DataFrame.\n",
            "Try using .loc[row_indexer,col_indexer] = value instead\n",
            "\n",
            "See the caveats in the documentation: https://pandas.pydata.org/pandas-docs/stable/user_guide/indexing.html#returning-a-view-versus-a-copy\n",
            "  usage_df['total_area_ping_group'] = pd.cut(usage_df['total_area_ping'],\n"
          ]
        },
        {
          "output_type": "stream",
          "name": "stdout",
          "text": [
            "total_area_ping_group\n",
            "26-60 坪     437108\n",
            "1-25 坪      174784\n",
            "61-100 坪     75602\n",
            "100 坪以上      15912\n",
            "Name: count, dtype: int64\n"
          ]
        },
        {
          "output_type": "stream",
          "name": "stderr",
          "text": [
            "/usr/local/lib/python3.10/dist-packages/statsmodels/base/model.py:1894: ValueWarning: covariance of constraints does not have full rank. The number of constraints is 3, but rank is 1\n",
            "  warnings.warn('covariance of constraints does not have full '\n"
          ]
        },
        {
          "output_type": "stream",
          "name": "stdout",
          "text": [
            "ANOVA Results for 1-25 坪 vs 26-60 坪:\n",
            "                                            sum_sq            df            F  \\\n",
            "C(total_area_ping_group)  2099956677073320.500000      3.000000 15719.105268   \n",
            "Residual                 27247998941149536.000000 611890.000000          NaN   \n",
            "\n",
            "                           PR(>F)  \n",
            "C(total_area_ping_group) 0.000000  \n",
            "Residual                      NaN   \n",
            "\n"
          ]
        },
        {
          "output_type": "stream",
          "name": "stderr",
          "text": [
            "/usr/local/lib/python3.10/dist-packages/statsmodels/base/model.py:1894: ValueWarning: covariance of constraints does not have full rank. The number of constraints is 3, but rank is 1\n",
            "  warnings.warn('covariance of constraints does not have full '\n"
          ]
        },
        {
          "output_type": "stream",
          "name": "stdout",
          "text": [
            "ANOVA Results for 1-25 坪 vs 61-100 坪:\n",
            "                                            sum_sq            df          F  \\\n",
            "C(total_area_ping_group)   127626309216510.296875      3.000000 741.174061   \n",
            "Residual                 14371606481121964.000000 250384.000000        NaN   \n",
            "\n",
            "                           PR(>F)  \n",
            "C(total_area_ping_group) 0.000000  \n",
            "Residual                      NaN   \n",
            "\n"
          ]
        },
        {
          "output_type": "stream",
          "name": "stderr",
          "text": [
            "/usr/local/lib/python3.10/dist-packages/statsmodels/base/model.py:1894: ValueWarning: covariance of constraints does not have full rank. The number of constraints is 3, but rank is 1\n",
            "  warnings.warn('covariance of constraints does not have full '\n"
          ]
        },
        {
          "output_type": "stream",
          "name": "stdout",
          "text": [
            "ANOVA Results for 1-25 坪 vs 100 坪以上:\n",
            "                                            sum_sq            df           F  \\\n",
            "C(total_area_ping_group)   701574873578353.125000      3.000000 3397.316999   \n",
            "Residual                 13126644643023714.000000 190694.000000         NaN   \n",
            "\n",
            "                           PR(>F)  \n",
            "C(total_area_ping_group) 0.000000  \n",
            "Residual                      NaN   \n",
            "\n"
          ]
        },
        {
          "output_type": "stream",
          "name": "stderr",
          "text": [
            "/usr/local/lib/python3.10/dist-packages/statsmodels/base/model.py:1894: ValueWarning: covariance of constraints does not have full rank. The number of constraints is 3, but rank is 1\n",
            "  warnings.warn('covariance of constraints does not have full '\n"
          ]
        },
        {
          "output_type": "stream",
          "name": "stdout",
          "text": [
            "ANOVA Results for 26-60 坪 vs 61-100 坪:\n",
            "                                            sum_sq            df        F  \\\n",
            "C(total_area_ping_group)       11287243218.813585      3.000000 0.095608   \n",
            "Residual                 20176344896494516.000000 512707.000000      NaN   \n",
            "\n",
            "                           PR(>F)  \n",
            "C(total_area_ping_group) 0.757166  \n",
            "Residual                      NaN   \n",
            "\n"
          ]
        },
        {
          "output_type": "stream",
          "name": "stderr",
          "text": [
            "/usr/local/lib/python3.10/dist-packages/statsmodels/base/model.py:1894: ValueWarning: covariance of constraints does not have full rank. The number of constraints is 3, but rank is 2\n",
            "  warnings.warn('covariance of constraints does not have full '\n"
          ]
        },
        {
          "output_type": "stream",
          "name": "stdout",
          "text": [
            "ANOVA Results for 26-60 坪 vs 100 坪以上:\n",
            "                                             sum_sq            df  \\\n",
            "C(total_area_ping_group) 103423119740776848.000000      3.000000   \n",
            "Residual                  18931378629703752.000000 453018.000000   \n",
            "\n",
            "                                     F   PR(>F)  \n",
            "C(total_area_ping_group) 824953.740826 0.000000  \n",
            "Residual                           NaN      NaN   \n",
            "\n",
            "ANOVA Results for 61-100 坪 vs 100 坪以上:\n",
            "                                           sum_sq           df        F  \\\n",
            "C(total_area_ping_group)       7133146343.778237     3.000000 0.035935   \n",
            "Residual                 6054994200862590.000000 91511.000000      NaN   \n",
            "\n",
            "                           PR(>F)  \n",
            "C(total_area_ping_group) 0.849650  \n",
            "Residual                      NaN   \n",
            "\n"
          ]
        },
        {
          "output_type": "stream",
          "name": "stderr",
          "text": [
            "/usr/local/lib/python3.10/dist-packages/statsmodels/base/model.py:1894: ValueWarning: covariance of constraints does not have full rank. The number of constraints is 3, but rank is 1\n",
            "  warnings.warn('covariance of constraints does not have full '\n"
          ]
        }
      ]
    },
    {
      "cell_type": "code",
      "source": [],
      "metadata": {
        "id": "RyAkZrUmTqpq"
      },
      "execution_count": null,
      "outputs": []
    },
    {
      "cell_type": "markdown",
      "source": [
        "# 分成台北和新北"
      ],
      "metadata": {
        "id": "Y5BbbIIDOshe"
      }
    },
    {
      "cell_type": "code",
      "source": [],
      "metadata": {
        "id": "2GH5sH1A-gD_"
      },
      "execution_count": null,
      "outputs": []
    }
  ]
}